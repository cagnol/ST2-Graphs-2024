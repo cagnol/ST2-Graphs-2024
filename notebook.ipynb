{
 "cells": [
  {
   "cell_type": "markdown",
   "id": "0ea4fc81-d546-46c3-bc61-23a4909b806e",
   "metadata": {},
   "source": [
    "# ST2 Viral Propagation - An introduction to Random Graphs."
   ]
  },
  {
   "cell_type": "code",
   "execution_count": 1,
   "id": "ecc7bec8-8b4f-4ca2-95aa-8e1bdc363893",
   "metadata": {},
   "outputs": [],
   "source": [
    "import numpy as np\n",
    "import matplotlib.pyplot as plt\n",
    "import random as rd\n",
    "import igraph as ig"
   ]
  },
  {
   "cell_type": "code",
   "execution_count": 2,
   "id": "6dd3062d-d8fd-4b60-a74d-1693ccce10cf",
   "metadata": {},
   "outputs": [],
   "source": [
    "g1 = ig.Graph()"
   ]
  },
  {
   "cell_type": "code",
   "execution_count": 3,
   "id": "83512e77-babe-4639-a9fc-beb9b7427de1",
   "metadata": {},
   "outputs": [
    {
     "data": {
      "image/svg+xml": [
       "<?xml version=\"1.0\" encoding=\"UTF-8\"?>\n",
       "<svg xmlns=\"http://www.w3.org/2000/svg\" xmlns:xlink=\"http://www.w3.org/1999/xlink\" width=\"600\" height=\"600\" viewBox=\"0 0 600 600\">\n",
       "<rect x=\"-60\" y=\"-60\" width=\"720\" height=\"720\" fill=\"rgb(100%, 100%, 100%)\" fill-opacity=\"1\"/>\n",
       "</svg>\n"
      ],
      "text/plain": [
       "<igraph.drawing.cairo.plot.CairoPlot at 0x1032e1a00>"
      ]
     },
     "execution_count": 3,
     "metadata": {
      "image/svg+xml": {
       "isolated": true
      }
     },
     "output_type": "execute_result"
    }
   ],
   "source": [
    "ig.plot(g1)"
   ]
  },
  {
   "cell_type": "code",
   "execution_count": 4,
   "id": "4496d041-0f95-40fa-b87c-f1cb44263ca5",
   "metadata": {},
   "outputs": [],
   "source": [
    "N=10"
   ]
  },
  {
   "cell_type": "code",
   "execution_count": 5,
   "id": "09edeaed-dc28-4c78-873a-6b0eaad01ae2",
   "metadata": {},
   "outputs": [],
   "source": [
    "g1.add_vertices(N)"
   ]
  },
  {
   "cell_type": "code",
   "execution_count": 6,
   "id": "0b0b7601-1e9c-4847-9f9b-176ea1edd647",
   "metadata": {},
   "outputs": [
    {
     "data": {
      "image/svg+xml": [
       "<?xml version=\"1.0\" encoding=\"UTF-8\"?>\n",
       "<svg xmlns=\"http://www.w3.org/2000/svg\" xmlns:xlink=\"http://www.w3.org/1999/xlink\" width=\"600\" height=\"600\" viewBox=\"0 0 600 600\">\n",
       "<rect x=\"-60\" y=\"-60\" width=\"720\" height=\"720\" fill=\"rgb(100%, 100%, 100%)\" fill-opacity=\"1\"/>\n",
       "<path fill-rule=\"nonzero\" fill=\"rgb(100%, 0%, 0%)\" fill-opacity=\"1\" stroke-width=\"1\" stroke-linecap=\"butt\" stroke-linejoin=\"miter\" stroke=\"rgb(0%, 0%, 0%)\" stroke-opacity=\"1\" stroke-miterlimit=\"10\" d=\"M 435.09375 21.308594 C 435.09375 26.828125 430.617188 31.308594 425.09375 31.308594 C 419.570312 31.308594 415.09375 26.828125 415.09375 21.308594 C 415.09375 15.785156 419.570312 11.308594 425.09375 11.308594 C 430.617188 11.308594 435.09375 15.785156 435.09375 21.308594 \"/>\n",
       "<path fill-rule=\"nonzero\" fill=\"rgb(100%, 0%, 0%)\" fill-opacity=\"1\" stroke-width=\"1\" stroke-linecap=\"butt\" stroke-linejoin=\"miter\" stroke=\"rgb(0%, 0%, 0%)\" stroke-opacity=\"1\" stroke-miterlimit=\"10\" d=\"M 69.617188 154.382812 C 69.617188 159.902344 65.140625 164.382812 59.617188 164.382812 C 54.097656 164.382812 49.617188 159.902344 49.617188 154.382812 C 49.617188 148.859375 54.097656 144.382812 59.617188 144.382812 C 65.140625 144.382812 69.617188 148.859375 69.617188 154.382812 \"/>\n",
       "<path fill-rule=\"nonzero\" fill=\"rgb(100%, 0%, 0%)\" fill-opacity=\"1\" stroke-width=\"1\" stroke-linecap=\"butt\" stroke-linejoin=\"miter\" stroke=\"rgb(0%, 0%, 0%)\" stroke-opacity=\"1\" stroke-miterlimit=\"10\" d=\"M 184.867188 578.648438 C 184.867188 584.171875 180.386719 588.648438 174.867188 588.648438 C 169.34375 588.648438 164.867188 584.171875 164.867188 578.648438 C 164.867188 573.125 169.34375 568.648438 174.867188 568.648438 C 180.386719 568.648438 184.867188 573.125 184.867188 578.648438 \"/>\n",
       "<path fill-rule=\"nonzero\" fill=\"rgb(100%, 0%, 0%)\" fill-opacity=\"1\" stroke-width=\"1\" stroke-linecap=\"butt\" stroke-linejoin=\"miter\" stroke=\"rgb(0%, 0%, 0%)\" stroke-opacity=\"1\" stroke-miterlimit=\"10\" d=\"M 222.457031 20 C 222.457031 25.523438 217.980469 30 212.457031 30 C 206.933594 30 202.457031 25.523438 202.457031 20 C 202.457031 14.476562 206.933594 10 212.457031 10 C 217.980469 10 222.457031 14.476562 222.457031 20 \"/>\n",
       "<path fill-rule=\"nonzero\" fill=\"rgb(100%, 0%, 0%)\" fill-opacity=\"1\" stroke-width=\"1\" stroke-linecap=\"butt\" stroke-linejoin=\"miter\" stroke=\"rgb(0%, 0%, 0%)\" stroke-opacity=\"1\" stroke-miterlimit=\"10\" d=\"M 231.515625 365.683594 C 231.515625 371.207031 227.039062 375.683594 221.515625 375.683594 C 215.992188 375.683594 211.515625 371.207031 211.515625 365.683594 C 211.515625 360.160156 215.992188 355.683594 221.515625 355.683594 C 227.039062 355.683594 231.515625 360.160156 231.515625 365.683594 \"/>\n",
       "<path fill-rule=\"nonzero\" fill=\"rgb(100%, 0%, 0%)\" fill-opacity=\"1\" stroke-width=\"1\" stroke-linecap=\"butt\" stroke-linejoin=\"miter\" stroke=\"rgb(0%, 0%, 0%)\" stroke-opacity=\"1\" stroke-miterlimit=\"10\" d=\"M 397.492188 580 C 397.492188 585.523438 393.011719 590 387.492188 590 C 381.96875 590 377.492188 585.523438 377.492188 580 C 377.492188 574.476562 381.96875 570 387.492188 570 C 393.011719 570 397.492188 574.476562 397.492188 580 \"/>\n",
       "<path fill-rule=\"nonzero\" fill=\"rgb(100%, 0%, 0%)\" fill-opacity=\"1\" stroke-width=\"1\" stroke-linecap=\"butt\" stroke-linejoin=\"miter\" stroke=\"rgb(0%, 0%, 0%)\" stroke-opacity=\"1\" stroke-miterlimit=\"10\" d=\"M 388.515625 234.25 C 388.515625 239.773438 384.039062 244.25 378.515625 244.25 C 372.992188 244.25 368.515625 239.773438 368.515625 234.25 C 368.515625 228.726562 372.992188 224.25 378.515625 224.25 C 384.039062 224.25 388.515625 228.726562 388.515625 234.25 \"/>\n",
       "<path fill-rule=\"nonzero\" fill=\"rgb(100%, 0%, 0%)\" fill-opacity=\"1\" stroke-width=\"1\" stroke-linecap=\"butt\" stroke-linejoin=\"miter\" stroke=\"rgb(0%, 0%, 0%)\" stroke-opacity=\"1\" stroke-miterlimit=\"10\" d=\"M 550.332031 445.636719 C 550.332031 451.160156 545.855469 455.636719 540.332031 455.636719 C 534.8125 455.636719 530.332031 451.160156 530.332031 445.636719 C 530.332031 440.113281 534.8125 435.636719 540.332031 435.636719 C 545.855469 435.636719 550.332031 440.113281 550.332031 445.636719 \"/>\n",
       "<path fill-rule=\"nonzero\" fill=\"rgb(100%, 0%, 0%)\" fill-opacity=\"1\" stroke-width=\"1\" stroke-linecap=\"butt\" stroke-linejoin=\"miter\" stroke=\"rgb(0%, 0%, 0%)\" stroke-opacity=\"1\" stroke-miterlimit=\"10\" d=\"M 590 219.589844 C 590 225.113281 585.523438 229.589844 580 229.589844 C 574.476562 229.589844 570 225.113281 570 219.589844 C 570 214.066406 574.476562 209.589844 580 209.589844 C 585.523438 209.589844 590 214.066406 590 219.589844 \"/>\n",
       "<path fill-rule=\"nonzero\" fill=\"rgb(100%, 0%, 0%)\" fill-opacity=\"1\" stroke-width=\"1\" stroke-linecap=\"butt\" stroke-linejoin=\"miter\" stroke=\"rgb(0%, 0%, 0%)\" stroke-opacity=\"1\" stroke-miterlimit=\"10\" d=\"M 30 380.421875 C 30 385.945312 25.523438 390.421875 20 390.421875 C 14.476562 390.421875 10 385.945312 10 380.421875 C 10 374.902344 14.476562 370.421875 20 370.421875 C 25.523438 370.421875 30 374.902344 30 380.421875 \"/>\n",
       "</svg>\n"
      ],
      "text/plain": [
       "<igraph.drawing.cairo.plot.CairoPlot at 0x1032e12e0>"
      ]
     },
     "execution_count": 6,
     "metadata": {
      "image/svg+xml": {
       "isolated": true
      }
     },
     "output_type": "execute_result"
    }
   ],
   "source": [
    "ig.plot(g1)"
   ]
  },
  {
   "cell_type": "code",
   "execution_count": 7,
   "id": "77fde9b4-bd91-467f-b036-23c460ac97e0",
   "metadata": {},
   "outputs": [
    {
     "data": {
      "image/svg+xml": [
       "<?xml version=\"1.0\" encoding=\"UTF-8\"?>\n",
       "<svg xmlns=\"http://www.w3.org/2000/svg\" xmlns:xlink=\"http://www.w3.org/1999/xlink\" width=\"200\" height=\"200\" viewBox=\"0 0 200 200\">\n",
       "<rect x=\"-20\" y=\"-20\" width=\"240\" height=\"240\" fill=\"rgb(100%, 100%, 100%)\" fill-opacity=\"1\"/>\n",
       "<path fill-rule=\"nonzero\" fill=\"rgb(100%, 0%, 0%)\" fill-opacity=\"1\" stroke-width=\"1\" stroke-linecap=\"butt\" stroke-linejoin=\"miter\" stroke=\"rgb(0%, 0%, 0%)\" stroke-opacity=\"1\" stroke-miterlimit=\"10\" d=\"M 30 72.214844 C 30 77.738281 25.523438 82.214844 20 82.214844 C 14.476562 82.214844 10 77.738281 10 72.214844 C 10 66.691406 14.476562 62.214844 20 62.214844 C 25.523438 62.214844 30 66.691406 30 72.214844 \"/>\n",
       "<path fill-rule=\"nonzero\" fill=\"rgb(100%, 0%, 0%)\" fill-opacity=\"1\" stroke-width=\"1\" stroke-linecap=\"butt\" stroke-linejoin=\"miter\" stroke=\"rgb(0%, 0%, 0%)\" stroke-opacity=\"1\" stroke-miterlimit=\"10\" d=\"M 109.785156 129.929688 C 109.785156 135.453125 105.308594 139.929688 99.785156 139.929688 C 94.261719 139.929688 89.785156 135.453125 89.785156 129.929688 C 89.785156 124.40625 94.261719 119.929688 99.785156 119.929688 C 105.308594 119.929688 109.785156 124.40625 109.785156 129.929688 \"/>\n",
       "<path fill-rule=\"nonzero\" fill=\"rgb(100%, 0%, 0%)\" fill-opacity=\"1\" stroke-width=\"1\" stroke-linecap=\"butt\" stroke-linejoin=\"miter\" stroke=\"rgb(0%, 0%, 0%)\" stroke-opacity=\"1\" stroke-miterlimit=\"10\" d=\"M 144.863281 20 C 144.863281 25.523438 140.382812 30 134.863281 30 C 129.339844 30 124.863281 25.523438 124.863281 20 C 124.863281 14.476562 129.339844 10 134.863281 10 C 140.382812 10 144.863281 14.476562 144.863281 20 \"/>\n",
       "<path fill-rule=\"nonzero\" fill=\"rgb(100%, 0%, 0%)\" fill-opacity=\"1\" stroke-width=\"1\" stroke-linecap=\"butt\" stroke-linejoin=\"miter\" stroke=\"rgb(0%, 0%, 0%)\" stroke-opacity=\"1\" stroke-miterlimit=\"10\" d=\"M 31.25 131.550781 C 31.25 137.074219 26.773438 141.550781 21.25 141.550781 C 15.730469 141.550781 11.25 137.074219 11.25 131.550781 C 11.25 126.027344 15.730469 121.550781 21.25 121.550781 C 26.773438 121.550781 31.25 126.027344 31.25 131.550781 \"/>\n",
       "<path fill-rule=\"nonzero\" fill=\"rgb(100%, 0%, 0%)\" fill-opacity=\"1\" stroke-width=\"1\" stroke-linecap=\"butt\" stroke-linejoin=\"miter\" stroke=\"rgb(0%, 0%, 0%)\" stroke-opacity=\"1\" stroke-miterlimit=\"10\" d=\"M 70.652344 22.214844 C 70.652344 27.738281 66.175781 32.214844 60.652344 32.214844 C 55.128906 32.214844 50.652344 27.738281 50.652344 22.214844 C 50.652344 16.691406 55.128906 12.214844 60.652344 12.214844 C 66.175781 12.214844 70.652344 16.691406 70.652344 22.214844 \"/>\n",
       "<path fill-rule=\"nonzero\" fill=\"rgb(100%, 0%, 0%)\" fill-opacity=\"1\" stroke-width=\"1\" stroke-linecap=\"butt\" stroke-linejoin=\"miter\" stroke=\"rgb(0%, 0%, 0%)\" stroke-opacity=\"1\" stroke-miterlimit=\"10\" d=\"M 188.664062 68.230469 C 188.664062 73.753906 184.183594 78.230469 178.664062 78.230469 C 173.140625 78.230469 168.664062 73.753906 168.664062 68.230469 C 168.664062 62.707031 173.140625 58.230469 178.664062 58.230469 C 184.183594 58.230469 188.664062 62.707031 188.664062 68.230469 \"/>\n",
       "<path fill-rule=\"nonzero\" fill=\"rgb(100%, 0%, 0%)\" fill-opacity=\"1\" stroke-width=\"1\" stroke-linecap=\"butt\" stroke-linejoin=\"miter\" stroke=\"rgb(0%, 0%, 0%)\" stroke-opacity=\"1\" stroke-miterlimit=\"10\" d=\"M 75.140625 180 C 75.140625 185.523438 70.664062 190 65.140625 190 C 59.617188 190 55.140625 185.523438 55.140625 180 C 55.140625 174.476562 59.617188 170 65.140625 170 C 70.664062 170 75.140625 174.476562 75.140625 180 \"/>\n",
       "<path fill-rule=\"nonzero\" fill=\"rgb(100%, 0%, 0%)\" fill-opacity=\"1\" stroke-width=\"1\" stroke-linecap=\"butt\" stroke-linejoin=\"miter\" stroke=\"rgb(0%, 0%, 0%)\" stroke-opacity=\"1\" stroke-miterlimit=\"10\" d=\"M 149.570312 177.480469 C 149.570312 183.003906 145.09375 187.480469 139.570312 187.480469 C 134.046875 187.480469 129.570312 183.003906 129.570312 177.480469 C 129.570312 171.957031 134.046875 167.480469 139.570312 167.480469 C 145.09375 167.480469 149.570312 171.957031 149.570312 177.480469 \"/>\n",
       "<path fill-rule=\"nonzero\" fill=\"rgb(100%, 0%, 0%)\" fill-opacity=\"1\" stroke-width=\"1\" stroke-linecap=\"butt\" stroke-linejoin=\"miter\" stroke=\"rgb(0%, 0%, 0%)\" stroke-opacity=\"1\" stroke-miterlimit=\"10\" d=\"M 190 127.472656 C 190 132.996094 185.523438 137.472656 180 137.472656 C 174.476562 137.472656 170 132.996094 170 127.472656 C 170 121.949219 174.476562 117.472656 180 117.472656 C 185.523438 117.472656 190 121.949219 190 127.472656 \"/>\n",
       "<path fill-rule=\"nonzero\" fill=\"rgb(100%, 0%, 0%)\" fill-opacity=\"1\" stroke-width=\"1\" stroke-linecap=\"butt\" stroke-linejoin=\"miter\" stroke=\"rgb(0%, 0%, 0%)\" stroke-opacity=\"1\" stroke-miterlimit=\"10\" d=\"M 109.945312 70.183594 C 109.945312 75.707031 105.46875 80.183594 99.945312 80.183594 C 94.421875 80.183594 89.945312 75.707031 89.945312 70.183594 C 89.945312 64.664062 94.421875 60.183594 99.945312 60.183594 C 105.46875 60.183594 109.945312 64.664062 109.945312 70.183594 \"/>\n",
       "</svg>\n"
      ],
      "text/plain": [
       "<igraph.drawing.cairo.plot.CairoPlot at 0x1163c8e80>"
      ]
     },
     "execution_count": 7,
     "metadata": {
      "image/svg+xml": {
       "isolated": true
      }
     },
     "output_type": "execute_result"
    }
   ],
   "source": [
    "ig.plot(g1,bbox=(200,200))"
   ]
  },
  {
   "cell_type": "code",
   "execution_count": 10,
   "id": "554bc518-ab41-42cc-b4b8-0e433ab0ff5b",
   "metadata": {},
   "outputs": [
    {
     "name": "stdout",
     "output_type": "stream",
     "text": [
      "Help on function plot in module igraph.drawing:\n",
      "\n",
      "plot(obj, target=None, bbox=(0, 0, 600, 600), *args, **kwds)\n",
      "    Plots the given object to the given target.\n",
      "    \n",
      "    Positional and keyword arguments not explicitly mentioned here will be\n",
      "    passed down to the C{__plot__} method of the object being plotted.\n",
      "    Since you are most likely interested in the keyword arguments available\n",
      "    for graph plots, see L{Graph.__plot__} as well.\n",
      "    \n",
      "    @param obj: the object to be plotted\n",
      "    @param target: the target where the object should be plotted. It can be one\n",
      "      of the following types:\n",
      "    \n",
      "        - C{matplotib.axes.Axes} -- a matplotlib/pyplot axes in which the\n",
      "          graph will be plotted. Drawing is delegated to the chosen matplotlib\n",
      "          backend, and you can use interactive backends and matplotlib\n",
      "          functions to save to file as well.\n",
      "    \n",
      "        - C{string} -- a file with the given name will be created and the plot\n",
      "          will be stored there. If you are using the Cairo backend, an\n",
      "          appropriate Cairo surface will be attached to the file. If you are\n",
      "          using the matplotlib backend, the Figure will be saved to that file\n",
      "          using Figure.savefig with default parameters. The supported image\n",
      "          formats for Cairo are: PNG, PDF, SVG and PostScript; matplotlib might\n",
      "          support additional formats.\n",
      "    \n",
      "        - C{cairo.Surface} -- the given Cairo surface will be used. This can\n",
      "          refer to a PNG image, an arbitrary window, an SVG file, anything that\n",
      "          Cairo can handle.\n",
      "    \n",
      "        - C{None} -- If you are using the Cairo backend, no plotting will be\n",
      "          performed; igraph simply returns a CairoPlot_ object that you can use\n",
      "          to manipulate the plot and save it to a file later. If you are using\n",
      "          the matplotlib backend, a Figure objet and an Axes are created and\n",
      "          the Axes is returned so you can manipulate it further. Similarly, if\n",
      "          you are using the plotly backend, a Figure object is returned.\n",
      "    \n",
      "    @param bbox: the bounding box of the plot. It must be a tuple with either\n",
      "      two or four integers, or a L{BoundingBox} object. If this is a tuple\n",
      "      with two integers, it is interpreted as the width and height of the plot\n",
      "      (in pixels for PNG images and on-screen plots, or in points for PDF,\n",
      "      SVG and PostScript plots, where 72 pt = 1 inch = 2.54 cm). If this is\n",
      "      a tuple with four integers, the first two denotes the X and Y coordinates\n",
      "      of a corner and the latter two denoting the X and Y coordinates of the\n",
      "      opposite corner. Ignored for Matplotlib plots.\n",
      "    \n",
      "    @keyword opacity: the opacity of the object being plotted. It can be\n",
      "      used to overlap several plots of the same graph if you use the same\n",
      "      layout for them -- for instance, you might plot a graph with opacity\n",
      "      0.5 and then plot its spanning tree over it with opacity 0.1. To\n",
      "      achieve this, you'll need to modify the L{Plot} object returned with\n",
      "      L{Plot.add}. Ignored for Matplotlib plots.\n",
      "    \n",
      "    @keyword palette: the palette primarily used on the plot if the\n",
      "      added objects do not specify a private palette. Must be either\n",
      "      an L{igraph.drawing.colors.Palette} object or a string referring\n",
      "      to a valid key of C{igraph.drawing.colors.palettes} (see module\n",
      "      L{igraph.drawing.colors}) or C{None}. In the latter case, the default\n",
      "      palette given by the configuration key C{plotting.palette} is used.\n",
      "    \n",
      "    @keyword margin: the top, right, bottom, left margins as a 4-tuple.\n",
      "      If it has less than 4 elements or is a single float, the elements\n",
      "      will be re-used until the length is at least 4. The default margin\n",
      "      is 20 units on each side. Ignored for Matplotlib plots.\n",
      "    \n",
      "    @keyword inline: whether to try and show the plot object inline in the\n",
      "      current IPython notebook. Passing C{None} here or omitting this keyword\n",
      "      argument will look up the preferred behaviour from the\n",
      "      C{shell.ipython.inlining.Plot} configuration key.  Note that this keyword\n",
      "      argument has an effect only if igraph is run inside IPython and C{target}\n",
      "      is C{None}.\n",
      "    \n",
      "    @keyword backend: the plotting backend to use; one of C{\"cairo\"},\n",
      "      C{\"matplotlib\"} or C{\"plotly\"}. C{None} means to try to decide the backend\n",
      "      from the plotting target and the default igraph configuration object.\n",
      "    \n",
      "    @return: an appropriate L{CairoPlot} object for the Cairo backend, the\n",
      "      Matplotlib C{Axes} object for the Matplotlib backend, and the C{Figure}\n",
      "      object for the plotly backend.\n",
      "    \n",
      "    @see: Graph.__plot__\n",
      "\n"
     ]
    }
   ],
   "source": [
    "help(ig.plot)"
   ]
  },
  {
   "cell_type": "code",
   "execution_count": 11,
   "id": "698a5d5c-b185-43ce-9c51-69486d0aff10",
   "metadata": {},
   "outputs": [],
   "source": [
    "for i in range(N):\n",
    "    for j in range(i):\n",
    "        if rd.randint(0,1) == 1:\n",
    "            g1.add_edges([(i,j)])"
   ]
  },
  {
   "cell_type": "code",
   "execution_count": 12,
   "id": "e6813246-6831-4224-b251-9c1462da584b",
   "metadata": {},
   "outputs": [
    {
     "data": {
      "image/svg+xml": [
       "<?xml version=\"1.0\" encoding=\"UTF-8\"?>\n",
       "<svg xmlns=\"http://www.w3.org/2000/svg\" xmlns:xlink=\"http://www.w3.org/1999/xlink\" width=\"200\" height=\"200\" viewBox=\"0 0 200 200\">\n",
       "<rect x=\"-20\" y=\"-20\" width=\"240\" height=\"240\" fill=\"rgb(100%, 100%, 100%)\" fill-opacity=\"1\"/>\n",
       "<path fill=\"none\" stroke-width=\"1\" stroke-linecap=\"butt\" stroke-linejoin=\"miter\" stroke=\"rgb(26.666667%, 26.666667%, 26.666667%)\" stroke-opacity=\"1\" stroke-miterlimit=\"10\" d=\"M 106.015625 76.464844 L 66.320312 145.371094 \"/>\n",
       "<path fill=\"none\" stroke-width=\"1\" stroke-linecap=\"butt\" stroke-linejoin=\"miter\" stroke=\"rgb(26.666667%, 26.666667%, 26.666667%)\" stroke-opacity=\"1\" stroke-miterlimit=\"10\" d=\"M 106.015625 76.464844 L 180 130.046875 \"/>\n",
       "<path fill=\"none\" stroke-width=\"1\" stroke-linecap=\"butt\" stroke-linejoin=\"miter\" stroke=\"rgb(26.666667%, 26.666667%, 26.666667%)\" stroke-opacity=\"1\" stroke-miterlimit=\"10\" d=\"M 66.320312 145.371094 L 116.789062 180 \"/>\n",
       "<path fill=\"none\" stroke-width=\"1\" stroke-linecap=\"butt\" stroke-linejoin=\"miter\" stroke=\"rgb(26.666667%, 26.666667%, 26.666667%)\" stroke-opacity=\"1\" stroke-miterlimit=\"10\" d=\"M 180 130.046875 L 116.789062 180 \"/>\n",
       "<path fill=\"none\" stroke-width=\"1\" stroke-linecap=\"butt\" stroke-linejoin=\"miter\" stroke=\"rgb(26.666667%, 26.666667%, 26.666667%)\" stroke-opacity=\"1\" stroke-miterlimit=\"10\" d=\"M 106.015625 76.464844 L 20 107.398438 \"/>\n",
       "<path fill=\"none\" stroke-width=\"1\" stroke-linecap=\"butt\" stroke-linejoin=\"miter\" stroke=\"rgb(26.666667%, 26.666667%, 26.666667%)\" stroke-opacity=\"1\" stroke-miterlimit=\"10\" d=\"M 66.320312 145.371094 L 20 107.398438 \"/>\n",
       "<path fill=\"none\" stroke-width=\"1\" stroke-linecap=\"butt\" stroke-linejoin=\"miter\" stroke=\"rgb(26.666667%, 26.666667%, 26.666667%)\" stroke-opacity=\"1\" stroke-miterlimit=\"10\" d=\"M 106.015625 76.464844 L 165.972656 38.890625 \"/>\n",
       "<path fill=\"none\" stroke-width=\"1\" stroke-linecap=\"butt\" stroke-linejoin=\"miter\" stroke=\"rgb(26.666667%, 26.666667%, 26.666667%)\" stroke-opacity=\"1\" stroke-miterlimit=\"10\" d=\"M 180 130.046875 L 165.972656 38.890625 \"/>\n",
       "<path fill=\"none\" stroke-width=\"1\" stroke-linecap=\"butt\" stroke-linejoin=\"miter\" stroke=\"rgb(26.666667%, 26.666667%, 26.666667%)\" stroke-opacity=\"1\" stroke-miterlimit=\"10\" d=\"M 106.015625 76.464844 L 99.015625 20 \"/>\n",
       "<path fill=\"none\" stroke-width=\"1\" stroke-linecap=\"butt\" stroke-linejoin=\"miter\" stroke=\"rgb(26.666667%, 26.666667%, 26.666667%)\" stroke-opacity=\"1\" stroke-miterlimit=\"10\" d=\"M 106.015625 76.464844 L 63.804688 74.949219 \"/>\n",
       "<path fill=\"none\" stroke-width=\"1\" stroke-linecap=\"butt\" stroke-linejoin=\"miter\" stroke=\"rgb(26.666667%, 26.666667%, 26.666667%)\" stroke-opacity=\"1\" stroke-miterlimit=\"10\" d=\"M 66.320312 145.371094 L 63.804688 74.949219 \"/>\n",
       "<path fill=\"none\" stroke-width=\"1\" stroke-linecap=\"butt\" stroke-linejoin=\"miter\" stroke=\"rgb(26.666667%, 26.666667%, 26.666667%)\" stroke-opacity=\"1\" stroke-miterlimit=\"10\" d=\"M 116.789062 180 L 63.804688 74.949219 \"/>\n",
       "<path fill=\"none\" stroke-width=\"1\" stroke-linecap=\"butt\" stroke-linejoin=\"miter\" stroke=\"rgb(26.666667%, 26.666667%, 26.666667%)\" stroke-opacity=\"1\" stroke-miterlimit=\"10\" d=\"M 20 107.398438 L 63.804688 74.949219 \"/>\n",
       "<path fill=\"none\" stroke-width=\"1\" stroke-linecap=\"butt\" stroke-linejoin=\"miter\" stroke=\"rgb(26.666667%, 26.666667%, 26.666667%)\" stroke-opacity=\"1\" stroke-miterlimit=\"10\" d=\"M 165.972656 38.890625 L 63.804688 74.949219 \"/>\n",
       "<path fill=\"none\" stroke-width=\"1\" stroke-linecap=\"butt\" stroke-linejoin=\"miter\" stroke=\"rgb(26.666667%, 26.666667%, 26.666667%)\" stroke-opacity=\"1\" stroke-miterlimit=\"10\" d=\"M 99.015625 20 L 63.804688 74.949219 \"/>\n",
       "<path fill=\"none\" stroke-width=\"1\" stroke-linecap=\"butt\" stroke-linejoin=\"miter\" stroke=\"rgb(26.666667%, 26.666667%, 26.666667%)\" stroke-opacity=\"1\" stroke-miterlimit=\"10\" d=\"M 66.320312 145.371094 L 156.398438 85.796875 \"/>\n",
       "<path fill=\"none\" stroke-width=\"1\" stroke-linecap=\"butt\" stroke-linejoin=\"miter\" stroke=\"rgb(26.666667%, 26.666667%, 26.666667%)\" stroke-opacity=\"1\" stroke-miterlimit=\"10\" d=\"M 165.972656 38.890625 L 156.398438 85.796875 \"/>\n",
       "<path fill=\"none\" stroke-width=\"1\" stroke-linecap=\"butt\" stroke-linejoin=\"miter\" stroke=\"rgb(26.666667%, 26.666667%, 26.666667%)\" stroke-opacity=\"1\" stroke-miterlimit=\"10\" d=\"M 99.015625 20 L 156.398438 85.796875 \"/>\n",
       "<path fill=\"none\" stroke-width=\"1\" stroke-linecap=\"butt\" stroke-linejoin=\"miter\" stroke=\"rgb(26.666667%, 26.666667%, 26.666667%)\" stroke-opacity=\"1\" stroke-miterlimit=\"10\" d=\"M 66.320312 145.371094 L 107.660156 121.644531 \"/>\n",
       "<path fill=\"none\" stroke-width=\"1\" stroke-linecap=\"butt\" stroke-linejoin=\"miter\" stroke=\"rgb(26.666667%, 26.666667%, 26.666667%)\" stroke-opacity=\"1\" stroke-miterlimit=\"10\" d=\"M 180 130.046875 L 107.660156 121.644531 \"/>\n",
       "<path fill=\"none\" stroke-width=\"1\" stroke-linecap=\"butt\" stroke-linejoin=\"miter\" stroke=\"rgb(26.666667%, 26.666667%, 26.666667%)\" stroke-opacity=\"1\" stroke-miterlimit=\"10\" d=\"M 116.789062 180 L 107.660156 121.644531 \"/>\n",
       "<path fill=\"none\" stroke-width=\"1\" stroke-linecap=\"butt\" stroke-linejoin=\"miter\" stroke=\"rgb(26.666667%, 26.666667%, 26.666667%)\" stroke-opacity=\"1\" stroke-miterlimit=\"10\" d=\"M 20 107.398438 L 107.660156 121.644531 \"/>\n",
       "<path fill=\"none\" stroke-width=\"1\" stroke-linecap=\"butt\" stroke-linejoin=\"miter\" stroke=\"rgb(26.666667%, 26.666667%, 26.666667%)\" stroke-opacity=\"1\" stroke-miterlimit=\"10\" d=\"M 99.015625 20 L 107.660156 121.644531 \"/>\n",
       "<path fill=\"none\" stroke-width=\"1\" stroke-linecap=\"butt\" stroke-linejoin=\"miter\" stroke=\"rgb(26.666667%, 26.666667%, 26.666667%)\" stroke-opacity=\"1\" stroke-miterlimit=\"10\" d=\"M 156.398438 85.796875 L 107.660156 121.644531 \"/>\n",
       "<path fill-rule=\"nonzero\" fill=\"rgb(100%, 0%, 0%)\" fill-opacity=\"1\" stroke-width=\"1\" stroke-linecap=\"butt\" stroke-linejoin=\"miter\" stroke=\"rgb(0%, 0%, 0%)\" stroke-opacity=\"1\" stroke-miterlimit=\"10\" d=\"M 116.015625 76.464844 C 116.015625 81.984375 111.539062 86.464844 106.015625 86.464844 C 100.492188 86.464844 96.015625 81.984375 96.015625 76.464844 C 96.015625 70.941406 100.492188 66.464844 106.015625 66.464844 C 111.539062 66.464844 116.015625 70.941406 116.015625 76.464844 \"/>\n",
       "<path fill-rule=\"nonzero\" fill=\"rgb(100%, 0%, 0%)\" fill-opacity=\"1\" stroke-width=\"1\" stroke-linecap=\"butt\" stroke-linejoin=\"miter\" stroke=\"rgb(0%, 0%, 0%)\" stroke-opacity=\"1\" stroke-miterlimit=\"10\" d=\"M 76.320312 145.371094 C 76.320312 150.894531 71.84375 155.371094 66.320312 155.371094 C 60.796875 155.371094 56.320312 150.894531 56.320312 145.371094 C 56.320312 139.847656 60.796875 135.371094 66.320312 135.371094 C 71.84375 135.371094 76.320312 139.847656 76.320312 145.371094 \"/>\n",
       "<path fill-rule=\"nonzero\" fill=\"rgb(100%, 0%, 0%)\" fill-opacity=\"1\" stroke-width=\"1\" stroke-linecap=\"butt\" stroke-linejoin=\"miter\" stroke=\"rgb(0%, 0%, 0%)\" stroke-opacity=\"1\" stroke-miterlimit=\"10\" d=\"M 190 130.046875 C 190 135.570312 185.523438 140.046875 180 140.046875 C 174.476562 140.046875 170 135.570312 170 130.046875 C 170 124.523438 174.476562 120.046875 180 120.046875 C 185.523438 120.046875 190 124.523438 190 130.046875 \"/>\n",
       "<path fill-rule=\"nonzero\" fill=\"rgb(100%, 0%, 0%)\" fill-opacity=\"1\" stroke-width=\"1\" stroke-linecap=\"butt\" stroke-linejoin=\"miter\" stroke=\"rgb(0%, 0%, 0%)\" stroke-opacity=\"1\" stroke-miterlimit=\"10\" d=\"M 126.789062 180 C 126.789062 185.523438 122.3125 190 116.789062 190 C 111.269531 190 106.789062 185.523438 106.789062 180 C 106.789062 174.476562 111.269531 170 116.789062 170 C 122.3125 170 126.789062 174.476562 126.789062 180 \"/>\n",
       "<path fill-rule=\"nonzero\" fill=\"rgb(100%, 0%, 0%)\" fill-opacity=\"1\" stroke-width=\"1\" stroke-linecap=\"butt\" stroke-linejoin=\"miter\" stroke=\"rgb(0%, 0%, 0%)\" stroke-opacity=\"1\" stroke-miterlimit=\"10\" d=\"M 30 107.398438 C 30 112.921875 25.523438 117.398438 20 117.398438 C 14.476562 117.398438 10 112.921875 10 107.398438 C 10 101.875 14.476562 97.398438 20 97.398438 C 25.523438 97.398438 30 101.875 30 107.398438 \"/>\n",
       "<path fill-rule=\"nonzero\" fill=\"rgb(100%, 0%, 0%)\" fill-opacity=\"1\" stroke-width=\"1\" stroke-linecap=\"butt\" stroke-linejoin=\"miter\" stroke=\"rgb(0%, 0%, 0%)\" stroke-opacity=\"1\" stroke-miterlimit=\"10\" d=\"M 175.972656 38.890625 C 175.972656 44.414062 171.496094 48.890625 165.972656 48.890625 C 160.449219 48.890625 155.972656 44.414062 155.972656 38.890625 C 155.972656 33.367188 160.449219 28.890625 165.972656 28.890625 C 171.496094 28.890625 175.972656 33.367188 175.972656 38.890625 \"/>\n",
       "<path fill-rule=\"nonzero\" fill=\"rgb(100%, 0%, 0%)\" fill-opacity=\"1\" stroke-width=\"1\" stroke-linecap=\"butt\" stroke-linejoin=\"miter\" stroke=\"rgb(0%, 0%, 0%)\" stroke-opacity=\"1\" stroke-miterlimit=\"10\" d=\"M 109.015625 20 C 109.015625 25.523438 104.539062 30 99.015625 30 C 93.496094 30 89.015625 25.523438 89.015625 20 C 89.015625 14.476562 93.496094 10 99.015625 10 C 104.539062 10 109.015625 14.476562 109.015625 20 \"/>\n",
       "<path fill-rule=\"nonzero\" fill=\"rgb(100%, 0%, 0%)\" fill-opacity=\"1\" stroke-width=\"1\" stroke-linecap=\"butt\" stroke-linejoin=\"miter\" stroke=\"rgb(0%, 0%, 0%)\" stroke-opacity=\"1\" stroke-miterlimit=\"10\" d=\"M 73.804688 74.949219 C 73.804688 80.472656 69.324219 84.949219 63.804688 84.949219 C 58.28125 84.949219 53.804688 80.472656 53.804688 74.949219 C 53.804688 69.425781 58.28125 64.949219 63.804688 64.949219 C 69.324219 64.949219 73.804688 69.425781 73.804688 74.949219 \"/>\n",
       "<path fill-rule=\"nonzero\" fill=\"rgb(100%, 0%, 0%)\" fill-opacity=\"1\" stroke-width=\"1\" stroke-linecap=\"butt\" stroke-linejoin=\"miter\" stroke=\"rgb(0%, 0%, 0%)\" stroke-opacity=\"1\" stroke-miterlimit=\"10\" d=\"M 166.398438 85.796875 C 166.398438 91.320312 161.921875 95.796875 156.398438 95.796875 C 150.875 95.796875 146.398438 91.320312 146.398438 85.796875 C 146.398438 80.273438 150.875 75.796875 156.398438 75.796875 C 161.921875 75.796875 166.398438 80.273438 166.398438 85.796875 \"/>\n",
       "<path fill-rule=\"nonzero\" fill=\"rgb(100%, 0%, 0%)\" fill-opacity=\"1\" stroke-width=\"1\" stroke-linecap=\"butt\" stroke-linejoin=\"miter\" stroke=\"rgb(0%, 0%, 0%)\" stroke-opacity=\"1\" stroke-miterlimit=\"10\" d=\"M 117.660156 121.644531 C 117.660156 127.167969 113.183594 131.644531 107.660156 131.644531 C 102.136719 131.644531 97.660156 127.167969 97.660156 121.644531 C 97.660156 116.121094 102.136719 111.644531 107.660156 111.644531 C 113.183594 111.644531 117.660156 116.121094 117.660156 121.644531 \"/>\n",
       "</svg>\n"
      ],
      "text/plain": [
       "<igraph.drawing.cairo.plot.CairoPlot at 0x116807b20>"
      ]
     },
     "execution_count": 12,
     "metadata": {
      "image/svg+xml": {
       "isolated": true
      }
     },
     "output_type": "execute_result"
    }
   ],
   "source": [
    "ig.plot(g1,bbox=(200,200))"
   ]
  },
  {
   "cell_type": "code",
   "execution_count": 13,
   "id": "f6de27d3-e3d9-4a4a-b122-b662a18a9f8d",
   "metadata": {},
   "outputs": [
    {
     "data": {
      "image/svg+xml": [
       "<?xml version=\"1.0\" encoding=\"UTF-8\"?>\n",
       "<svg xmlns=\"http://www.w3.org/2000/svg\" xmlns:xlink=\"http://www.w3.org/1999/xlink\" width=\"200\" height=\"200\" viewBox=\"0 0 200 200\">\n",
       "<rect x=\"-20\" y=\"-20\" width=\"240\" height=\"240\" fill=\"rgb(100%, 100%, 100%)\" fill-opacity=\"1\"/>\n",
       "<path fill=\"none\" stroke-width=\"1\" stroke-linecap=\"butt\" stroke-linejoin=\"miter\" stroke=\"rgb(26.666667%, 26.666667%, 26.666667%)\" stroke-opacity=\"1\" stroke-miterlimit=\"10\" d=\"M 180 100 L 164.722656 149.441406 \"/>\n",
       "<path fill=\"none\" stroke-width=\"1\" stroke-linecap=\"butt\" stroke-linejoin=\"miter\" stroke=\"rgb(26.666667%, 26.666667%, 26.666667%)\" stroke-opacity=\"1\" stroke-miterlimit=\"10\" d=\"M 180 100 L 124.722656 180 \"/>\n",
       "<path fill=\"none\" stroke-width=\"1\" stroke-linecap=\"butt\" stroke-linejoin=\"miter\" stroke=\"rgb(26.666667%, 26.666667%, 26.666667%)\" stroke-opacity=\"1\" stroke-miterlimit=\"10\" d=\"M 164.722656 149.441406 L 75.277344 180 \"/>\n",
       "<path fill=\"none\" stroke-width=\"1\" stroke-linecap=\"butt\" stroke-linejoin=\"miter\" stroke=\"rgb(26.666667%, 26.666667%, 26.666667%)\" stroke-opacity=\"1\" stroke-miterlimit=\"10\" d=\"M 124.722656 180 L 75.277344 180 \"/>\n",
       "<path fill=\"none\" stroke-width=\"1\" stroke-linecap=\"butt\" stroke-linejoin=\"miter\" stroke=\"rgb(26.666667%, 26.666667%, 26.666667%)\" stroke-opacity=\"1\" stroke-miterlimit=\"10\" d=\"M 180 100 L 35.277344 149.441406 \"/>\n",
       "<path fill=\"none\" stroke-width=\"1\" stroke-linecap=\"butt\" stroke-linejoin=\"miter\" stroke=\"rgb(26.666667%, 26.666667%, 26.666667%)\" stroke-opacity=\"1\" stroke-miterlimit=\"10\" d=\"M 164.722656 149.441406 L 35.277344 149.441406 \"/>\n",
       "<path fill=\"none\" stroke-width=\"1\" stroke-linecap=\"butt\" stroke-linejoin=\"miter\" stroke=\"rgb(26.666667%, 26.666667%, 26.666667%)\" stroke-opacity=\"1\" stroke-miterlimit=\"10\" d=\"M 180 100 L 20 100 \"/>\n",
       "<path fill=\"none\" stroke-width=\"1\" stroke-linecap=\"butt\" stroke-linejoin=\"miter\" stroke=\"rgb(26.666667%, 26.666667%, 26.666667%)\" stroke-opacity=\"1\" stroke-miterlimit=\"10\" d=\"M 124.722656 180 L 20 100 \"/>\n",
       "<path fill=\"none\" stroke-width=\"1\" stroke-linecap=\"butt\" stroke-linejoin=\"miter\" stroke=\"rgb(26.666667%, 26.666667%, 26.666667%)\" stroke-opacity=\"1\" stroke-miterlimit=\"10\" d=\"M 180 100 L 35.277344 50.558594 \"/>\n",
       "<path fill=\"none\" stroke-width=\"1\" stroke-linecap=\"butt\" stroke-linejoin=\"miter\" stroke=\"rgb(26.666667%, 26.666667%, 26.666667%)\" stroke-opacity=\"1\" stroke-miterlimit=\"10\" d=\"M 180 100 L 75.277344 20 \"/>\n",
       "<path fill=\"none\" stroke-width=\"1\" stroke-linecap=\"butt\" stroke-linejoin=\"miter\" stroke=\"rgb(26.666667%, 26.666667%, 26.666667%)\" stroke-opacity=\"1\" stroke-miterlimit=\"10\" d=\"M 164.722656 149.441406 L 75.277344 20 \"/>\n",
       "<path fill=\"none\" stroke-width=\"1\" stroke-linecap=\"butt\" stroke-linejoin=\"miter\" stroke=\"rgb(26.666667%, 26.666667%, 26.666667%)\" stroke-opacity=\"1\" stroke-miterlimit=\"10\" d=\"M 75.277344 180 L 75.277344 20 \"/>\n",
       "<path fill=\"none\" stroke-width=\"1\" stroke-linecap=\"butt\" stroke-linejoin=\"miter\" stroke=\"rgb(26.666667%, 26.666667%, 26.666667%)\" stroke-opacity=\"1\" stroke-miterlimit=\"10\" d=\"M 35.277344 149.441406 L 75.277344 20 \"/>\n",
       "<path fill=\"none\" stroke-width=\"1\" stroke-linecap=\"butt\" stroke-linejoin=\"miter\" stroke=\"rgb(26.666667%, 26.666667%, 26.666667%)\" stroke-opacity=\"1\" stroke-miterlimit=\"10\" d=\"M 20 100 L 75.277344 20 \"/>\n",
       "<path fill=\"none\" stroke-width=\"1\" stroke-linecap=\"butt\" stroke-linejoin=\"miter\" stroke=\"rgb(26.666667%, 26.666667%, 26.666667%)\" stroke-opacity=\"1\" stroke-miterlimit=\"10\" d=\"M 35.277344 50.558594 L 75.277344 20 \"/>\n",
       "<path fill=\"none\" stroke-width=\"1\" stroke-linecap=\"butt\" stroke-linejoin=\"miter\" stroke=\"rgb(26.666667%, 26.666667%, 26.666667%)\" stroke-opacity=\"1\" stroke-miterlimit=\"10\" d=\"M 164.722656 149.441406 L 124.722656 20 \"/>\n",
       "<path fill=\"none\" stroke-width=\"1\" stroke-linecap=\"butt\" stroke-linejoin=\"miter\" stroke=\"rgb(26.666667%, 26.666667%, 26.666667%)\" stroke-opacity=\"1\" stroke-miterlimit=\"10\" d=\"M 20 100 L 124.722656 20 \"/>\n",
       "<path fill=\"none\" stroke-width=\"1\" stroke-linecap=\"butt\" stroke-linejoin=\"miter\" stroke=\"rgb(26.666667%, 26.666667%, 26.666667%)\" stroke-opacity=\"1\" stroke-miterlimit=\"10\" d=\"M 35.277344 50.558594 L 124.722656 20 \"/>\n",
       "<path fill=\"none\" stroke-width=\"1\" stroke-linecap=\"butt\" stroke-linejoin=\"miter\" stroke=\"rgb(26.666667%, 26.666667%, 26.666667%)\" stroke-opacity=\"1\" stroke-miterlimit=\"10\" d=\"M 164.722656 149.441406 L 164.722656 50.558594 \"/>\n",
       "<path fill=\"none\" stroke-width=\"1\" stroke-linecap=\"butt\" stroke-linejoin=\"miter\" stroke=\"rgb(26.666667%, 26.666667%, 26.666667%)\" stroke-opacity=\"1\" stroke-miterlimit=\"10\" d=\"M 124.722656 180 L 164.722656 50.558594 \"/>\n",
       "<path fill=\"none\" stroke-width=\"1\" stroke-linecap=\"butt\" stroke-linejoin=\"miter\" stroke=\"rgb(26.666667%, 26.666667%, 26.666667%)\" stroke-opacity=\"1\" stroke-miterlimit=\"10\" d=\"M 75.277344 180 L 164.722656 50.558594 \"/>\n",
       "<path fill=\"none\" stroke-width=\"1\" stroke-linecap=\"butt\" stroke-linejoin=\"miter\" stroke=\"rgb(26.666667%, 26.666667%, 26.666667%)\" stroke-opacity=\"1\" stroke-miterlimit=\"10\" d=\"M 35.277344 149.441406 L 164.722656 50.558594 \"/>\n",
       "<path fill=\"none\" stroke-width=\"1\" stroke-linecap=\"butt\" stroke-linejoin=\"miter\" stroke=\"rgb(26.666667%, 26.666667%, 26.666667%)\" stroke-opacity=\"1\" stroke-miterlimit=\"10\" d=\"M 35.277344 50.558594 L 164.722656 50.558594 \"/>\n",
       "<path fill=\"none\" stroke-width=\"1\" stroke-linecap=\"butt\" stroke-linejoin=\"miter\" stroke=\"rgb(26.666667%, 26.666667%, 26.666667%)\" stroke-opacity=\"1\" stroke-miterlimit=\"10\" d=\"M 124.722656 20 L 164.722656 50.558594 \"/>\n",
       "<path fill-rule=\"nonzero\" fill=\"rgb(100%, 0%, 0%)\" fill-opacity=\"1\" stroke-width=\"1\" stroke-linecap=\"butt\" stroke-linejoin=\"miter\" stroke=\"rgb(0%, 0%, 0%)\" stroke-opacity=\"1\" stroke-miterlimit=\"10\" d=\"M 190 100 C 190 105.523438 185.523438 110 180 110 C 174.476562 110 170 105.523438 170 100 C 170 94.476562 174.476562 90 180 90 C 185.523438 90 190 94.476562 190 100 \"/>\n",
       "<path fill-rule=\"nonzero\" fill=\"rgb(100%, 0%, 0%)\" fill-opacity=\"1\" stroke-width=\"1\" stroke-linecap=\"butt\" stroke-linejoin=\"miter\" stroke=\"rgb(0%, 0%, 0%)\" stroke-opacity=\"1\" stroke-miterlimit=\"10\" d=\"M 174.722656 149.441406 C 174.722656 154.964844 170.246094 159.441406 164.722656 159.441406 C 159.199219 159.441406 154.722656 154.964844 154.722656 149.441406 C 154.722656 143.917969 159.199219 139.441406 164.722656 139.441406 C 170.246094 139.441406 174.722656 143.917969 174.722656 149.441406 \"/>\n",
       "<path fill-rule=\"nonzero\" fill=\"rgb(100%, 0%, 0%)\" fill-opacity=\"1\" stroke-width=\"1\" stroke-linecap=\"butt\" stroke-linejoin=\"miter\" stroke=\"rgb(0%, 0%, 0%)\" stroke-opacity=\"1\" stroke-miterlimit=\"10\" d=\"M 134.722656 180 C 134.722656 185.523438 130.246094 190 124.722656 190 C 119.199219 190 114.722656 185.523438 114.722656 180 C 114.722656 174.476562 119.199219 170 124.722656 170 C 130.246094 170 134.722656 174.476562 134.722656 180 \"/>\n",
       "<path fill-rule=\"nonzero\" fill=\"rgb(100%, 0%, 0%)\" fill-opacity=\"1\" stroke-width=\"1\" stroke-linecap=\"butt\" stroke-linejoin=\"miter\" stroke=\"rgb(0%, 0%, 0%)\" stroke-opacity=\"1\" stroke-miterlimit=\"10\" d=\"M 85.277344 180 C 85.277344 185.523438 80.800781 190 75.277344 190 C 69.753906 190 65.277344 185.523438 65.277344 180 C 65.277344 174.476562 69.753906 170 75.277344 170 C 80.800781 170 85.277344 174.476562 85.277344 180 \"/>\n",
       "<path fill-rule=\"nonzero\" fill=\"rgb(100%, 0%, 0%)\" fill-opacity=\"1\" stroke-width=\"1\" stroke-linecap=\"butt\" stroke-linejoin=\"miter\" stroke=\"rgb(0%, 0%, 0%)\" stroke-opacity=\"1\" stroke-miterlimit=\"10\" d=\"M 45.277344 149.441406 C 45.277344 154.964844 40.800781 159.441406 35.277344 159.441406 C 29.753906 159.441406 25.277344 154.964844 25.277344 149.441406 C 25.277344 143.917969 29.753906 139.441406 35.277344 139.441406 C 40.800781 139.441406 45.277344 143.917969 45.277344 149.441406 \"/>\n",
       "<path fill-rule=\"nonzero\" fill=\"rgb(100%, 0%, 0%)\" fill-opacity=\"1\" stroke-width=\"1\" stroke-linecap=\"butt\" stroke-linejoin=\"miter\" stroke=\"rgb(0%, 0%, 0%)\" stroke-opacity=\"1\" stroke-miterlimit=\"10\" d=\"M 30 100 C 30 105.523438 25.523438 110 20 110 C 14.476562 110 10 105.523438 10 100 C 10 94.476562 14.476562 90 20 90 C 25.523438 90 30 94.476562 30 100 \"/>\n",
       "<path fill-rule=\"nonzero\" fill=\"rgb(100%, 0%, 0%)\" fill-opacity=\"1\" stroke-width=\"1\" stroke-linecap=\"butt\" stroke-linejoin=\"miter\" stroke=\"rgb(0%, 0%, 0%)\" stroke-opacity=\"1\" stroke-miterlimit=\"10\" d=\"M 45.277344 50.558594 C 45.277344 56.082031 40.800781 60.558594 35.277344 60.558594 C 29.753906 60.558594 25.277344 56.082031 25.277344 50.558594 C 25.277344 45.035156 29.753906 40.558594 35.277344 40.558594 C 40.800781 40.558594 45.277344 45.035156 45.277344 50.558594 \"/>\n",
       "<path fill-rule=\"nonzero\" fill=\"rgb(100%, 0%, 0%)\" fill-opacity=\"1\" stroke-width=\"1\" stroke-linecap=\"butt\" stroke-linejoin=\"miter\" stroke=\"rgb(0%, 0%, 0%)\" stroke-opacity=\"1\" stroke-miterlimit=\"10\" d=\"M 85.277344 20 C 85.277344 25.523438 80.800781 30 75.277344 30 C 69.753906 30 65.277344 25.523438 65.277344 20 C 65.277344 14.476562 69.753906 10 75.277344 10 C 80.800781 10 85.277344 14.476562 85.277344 20 \"/>\n",
       "<path fill-rule=\"nonzero\" fill=\"rgb(100%, 0%, 0%)\" fill-opacity=\"1\" stroke-width=\"1\" stroke-linecap=\"butt\" stroke-linejoin=\"miter\" stroke=\"rgb(0%, 0%, 0%)\" stroke-opacity=\"1\" stroke-miterlimit=\"10\" d=\"M 134.722656 20 C 134.722656 25.523438 130.246094 30 124.722656 30 C 119.199219 30 114.722656 25.523438 114.722656 20 C 114.722656 14.476562 119.199219 10 124.722656 10 C 130.246094 10 134.722656 14.476562 134.722656 20 \"/>\n",
       "<path fill-rule=\"nonzero\" fill=\"rgb(100%, 0%, 0%)\" fill-opacity=\"1\" stroke-width=\"1\" stroke-linecap=\"butt\" stroke-linejoin=\"miter\" stroke=\"rgb(0%, 0%, 0%)\" stroke-opacity=\"1\" stroke-miterlimit=\"10\" d=\"M 174.722656 50.558594 C 174.722656 56.082031 170.246094 60.558594 164.722656 60.558594 C 159.199219 60.558594 154.722656 56.082031 154.722656 50.558594 C 154.722656 45.035156 159.199219 40.558594 164.722656 40.558594 C 170.246094 40.558594 174.722656 45.035156 174.722656 50.558594 \"/>\n",
       "</svg>\n"
      ],
      "text/plain": [
       "<igraph.drawing.cairo.plot.CairoPlot at 0x1166c1700>"
      ]
     },
     "execution_count": 13,
     "metadata": {
      "image/svg+xml": {
       "isolated": true
      }
     },
     "output_type": "execute_result"
    }
   ],
   "source": [
    "ig.plot(g1,bbox=(200,200),layout='circle')"
   ]
  },
  {
   "cell_type": "code",
   "execution_count": 14,
   "id": "2c974373-64c0-4013-9bc9-c0e2606b1962",
   "metadata": {},
   "outputs": [
    {
     "data": {
      "image/svg+xml": [
       "<?xml version=\"1.0\" encoding=\"UTF-8\"?>\n",
       "<svg xmlns=\"http://www.w3.org/2000/svg\" xmlns:xlink=\"http://www.w3.org/1999/xlink\" width=\"200\" height=\"200\" viewBox=\"0 0 200 200\">\n",
       "<defs>\n",
       "<g>\n",
       "<g id=\"glyph-0-0\">\n",
       "<path d=\"M 3.789062 -9.789062 C 5.054688 -9.789062 5.96875 -9.265625 6.535156 -8.222656 C 6.972656 -7.417969 7.191406 -6.3125 7.191406 -4.90625 C 7.191406 -3.578125 6.992188 -2.476562 6.597656 -1.605469 C 6.023438 -0.359375 5.082031 0.265625 3.78125 0.265625 C 2.605469 0.265625 1.730469 -0.242188 1.15625 -1.265625 C 0.675781 -2.117188 0.4375 -3.261719 0.4375 -4.695312 C 0.4375 -5.808594 0.582031 -6.761719 0.867188 -7.5625 C 1.40625 -9.046875 2.378906 -9.789062 3.789062 -9.789062 Z M 3.773438 -0.855469 C 4.410156 -0.855469 4.917969 -1.136719 5.296875 -1.703125 C 5.675781 -2.265625 5.867188 -3.320312 5.867188 -4.859375 C 5.867188 -5.972656 5.726562 -6.886719 5.453125 -7.605469 C 5.179688 -8.324219 4.652344 -8.679688 3.863281 -8.679688 C 3.136719 -8.679688 2.609375 -8.339844 2.273438 -7.660156 C 1.9375 -6.976562 1.769531 -5.976562 1.769531 -4.648438 C 1.769531 -3.648438 1.878906 -2.847656 2.09375 -2.242188 C 2.421875 -1.316406 2.980469 -0.855469 3.773438 -0.855469 Z M 3.773438 -0.855469 \"/>\n",
       "</g>\n",
       "<g id=\"glyph-0-1\">\n",
       "<path d=\"M 1.339844 -6.929688 L 1.339844 -7.875 C 2.226562 -7.960938 2.847656 -8.105469 3.199219 -8.308594 C 3.550781 -8.511719 3.8125 -8.992188 3.984375 -9.75 L 4.957031 -9.75 L 4.957031 0 L 3.644531 0 L 3.644531 -6.929688 Z M 1.339844 -6.929688 \"/>\n",
       "</g>\n",
       "<g id=\"glyph-0-2\">\n",
       "<path d=\"M 0.4375 0 C 0.484375 -0.84375 0.65625 -1.578125 0.960938 -2.203125 C 1.265625 -2.828125 1.855469 -3.394531 2.734375 -3.902344 L 4.046875 -4.664062 C 4.632812 -5.003906 5.046875 -5.296875 5.285156 -5.539062 C 5.65625 -5.914062 5.84375 -6.347656 5.84375 -6.835938 C 5.84375 -7.40625 5.671875 -7.859375 5.332031 -8.191406 C 4.992188 -8.527344 4.535156 -8.695312 3.964844 -8.695312 C 3.121094 -8.695312 2.539062 -8.375 2.214844 -7.738281 C 2.042969 -7.398438 1.945312 -6.921875 1.929688 -6.316406 L 0.675781 -6.316406 C 0.691406 -7.167969 0.847656 -7.863281 1.148438 -8.402344 C 1.679688 -9.351562 2.621094 -9.824219 3.972656 -9.824219 C 5.09375 -9.824219 5.910156 -9.519531 6.429688 -8.914062 C 6.945312 -8.308594 7.203125 -7.632812 7.203125 -6.890625 C 7.203125 -6.105469 6.929688 -5.4375 6.378906 -4.882812 C 6.058594 -4.558594 5.488281 -4.164062 4.664062 -3.703125 L 3.726562 -3.1875 C 3.28125 -2.941406 2.929688 -2.703125 2.671875 -2.480469 C 2.21875 -2.085938 1.929688 -1.644531 1.8125 -1.164062 L 7.15625 -1.164062 L 7.15625 0 Z M 0.4375 0 \"/>\n",
       "</g>\n",
       "<g id=\"glyph-0-3\">\n",
       "<path d=\"M 3.636719 0.265625 C 2.480469 0.265625 1.640625 -0.0507812 1.117188 -0.6875 C 0.59375 -1.324219 0.335938 -2.097656 0.335938 -3.007812 L 1.621094 -3.007812 C 1.675781 -2.375 1.792969 -1.914062 1.976562 -1.625 C 2.296875 -1.109375 2.871094 -0.855469 3.703125 -0.855469 C 4.351562 -0.855469 4.871094 -1.027344 5.265625 -1.375 C 5.65625 -1.71875 5.851562 -2.167969 5.851562 -2.714844 C 5.851562 -3.390625 5.644531 -3.859375 5.234375 -4.128906 C 4.820312 -4.398438 4.246094 -4.53125 3.515625 -4.53125 C 3.433594 -4.53125 3.347656 -4.53125 3.265625 -4.527344 C 3.179688 -4.527344 3.09375 -4.523438 3.007812 -4.519531 L 3.007812 -5.605469 C 3.136719 -5.59375 3.242188 -5.582031 3.328125 -5.578125 C 3.414062 -5.574219 3.507812 -5.570312 3.609375 -5.570312 C 4.070312 -5.570312 4.449219 -5.644531 4.742188 -5.789062 C 5.261719 -6.046875 5.523438 -6.5 5.523438 -7.15625 C 5.523438 -7.644531 5.351562 -8.019531 5.003906 -8.285156 C 4.65625 -8.550781 4.253906 -8.679688 3.792969 -8.679688 C 2.972656 -8.679688 2.40625 -8.40625 2.09375 -7.859375 C 1.917969 -7.558594 1.820312 -7.132812 1.796875 -6.578125 L 0.582031 -6.578125 C 0.582031 -7.304688 0.726562 -7.925781 1.019531 -8.4375 C 1.519531 -9.347656 2.402344 -9.804688 3.664062 -9.804688 C 4.664062 -9.804688 5.433594 -9.582031 5.980469 -9.136719 C 6.527344 -8.691406 6.800781 -8.046875 6.800781 -7.203125 C 6.800781 -6.601562 6.640625 -6.117188 6.316406 -5.742188 C 6.117188 -5.507812 5.855469 -5.328125 5.539062 -5.195312 C 6.054688 -5.054688 6.453125 -4.78125 6.742188 -4.378906 C 7.03125 -3.976562 7.179688 -3.480469 7.179688 -2.898438 C 7.179688 -1.964844 6.871094 -1.203125 6.253906 -0.617188 C 5.640625 -0.0273438 4.765625 0.265625 3.636719 0.265625 Z M 3.636719 0.265625 \"/>\n",
       "</g>\n",
       "<g id=\"glyph-0-4\">\n",
       "<path d=\"M 4.628906 -3.464844 L 4.628906 -7.902344 L 1.492188 -3.464844 Z M 4.648438 0 L 4.648438 -2.390625 L 0.355469 -2.390625 L 0.355469 -3.59375 L 4.839844 -9.816406 L 5.878906 -9.816406 L 5.878906 -3.464844 L 7.320312 -3.464844 L 7.320312 -2.390625 L 5.878906 -2.390625 L 5.878906 0 Z M 4.648438 0 \"/>\n",
       "</g>\n",
       "<g id=\"glyph-0-5\">\n",
       "<path d=\"M 1.730469 -2.496094 C 1.8125 -1.792969 2.136719 -1.308594 2.707031 -1.039062 C 3 -0.902344 3.335938 -0.835938 3.71875 -0.835938 C 4.449219 -0.835938 4.988281 -1.066406 5.339844 -1.53125 C 5.691406 -1.996094 5.867188 -2.511719 5.867188 -3.078125 C 5.867188 -3.761719 5.65625 -4.289062 5.238281 -4.664062 C 4.820312 -5.035156 4.324219 -5.222656 3.738281 -5.222656 C 3.316406 -5.222656 2.953125 -5.140625 2.648438 -4.976562 C 2.34375 -4.8125 2.085938 -4.585938 1.875 -4.292969 L 0.804688 -4.355469 L 1.550781 -9.625 L 6.636719 -9.625 L 6.636719 -8.4375 L 2.476562 -8.4375 L 2.058594 -5.714844 C 2.285156 -5.886719 2.5 -6.019531 2.707031 -6.105469 C 3.070312 -6.253906 3.492188 -6.328125 3.972656 -6.328125 C 4.871094 -6.328125 5.628906 -6.039062 6.253906 -5.460938 C 6.878906 -4.882812 7.191406 -4.148438 7.191406 -3.261719 C 7.191406 -2.335938 6.90625 -1.519531 6.332031 -0.8125 C 5.761719 -0.105469 4.847656 0.246094 3.59375 0.246094 C 2.796875 0.246094 2.09375 0.0234375 1.480469 -0.425781 C 0.867188 -0.875 0.523438 -1.566406 0.453125 -2.496094 Z M 1.730469 -2.496094 \"/>\n",
       "</g>\n",
       "<g id=\"glyph-0-6\">\n",
       "<path d=\"M 4.09375 -9.828125 C 5.1875 -9.828125 5.949219 -9.546875 6.382812 -8.980469 C 6.8125 -8.414062 7.027344 -7.828125 7.027344 -7.226562 L 5.8125 -7.226562 C 5.738281 -7.613281 5.621094 -7.914062 5.460938 -8.132812 C 5.164062 -8.542969 4.71875 -8.75 4.117188 -8.75 C 3.429688 -8.75 2.878906 -8.433594 2.476562 -7.796875 C 2.070312 -7.160156 1.84375 -6.25 1.796875 -5.066406 C 2.078125 -5.480469 2.4375 -5.789062 2.863281 -5.996094 C 3.257812 -6.179688 3.695312 -6.269531 4.175781 -6.269531 C 4.996094 -6.269531 5.710938 -6.007812 6.324219 -5.484375 C 6.933594 -4.960938 7.238281 -4.175781 7.238281 -3.136719 C 7.238281 -2.25 6.949219 -1.460938 6.371094 -0.777344 C 5.792969 -0.0898438 4.96875 0.253906 3.898438 0.253906 C 2.980469 0.253906 2.191406 -0.09375 1.523438 -0.789062 C 0.859375 -1.484375 0.527344 -2.65625 0.527344 -4.300781 C 0.527344 -5.515625 0.675781 -6.546875 0.96875 -7.398438 C 1.539062 -9.019531 2.582031 -9.828125 4.09375 -9.828125 Z M 4.007812 -0.839844 C 4.652344 -0.839844 5.136719 -1.058594 5.457031 -1.492188 C 5.78125 -1.929688 5.941406 -2.441406 5.941406 -3.035156 C 5.941406 -3.535156 5.796875 -4.015625 5.507812 -4.46875 C 5.222656 -4.921875 4.699219 -5.148438 3.945312 -5.148438 C 3.414062 -5.148438 2.953125 -4.972656 2.554688 -4.621094 C 2.15625 -4.269531 1.953125 -3.742188 1.953125 -3.035156 C 1.953125 -2.414062 2.136719 -1.894531 2.5 -1.472656 C 2.859375 -1.050781 3.363281 -0.839844 4.007812 -0.839844 Z M 4.007812 -0.839844 \"/>\n",
       "</g>\n",
       "<g id=\"glyph-0-7\">\n",
       "<path d=\"M 7.320312 -9.625 L 7.320312 -8.550781 C 7.007812 -8.246094 6.589844 -7.714844 6.066406 -6.960938 C 5.546875 -6.203125 5.082031 -5.386719 4.683594 -4.511719 C 4.285156 -3.660156 3.984375 -2.882812 3.78125 -2.179688 C 3.648438 -1.730469 3.476562 -1.003906 3.265625 0 L 1.90625 0 C 2.21875 -1.867188 2.902344 -3.726562 3.957031 -5.578125 C 4.582031 -6.664062 5.238281 -7.597656 5.925781 -8.386719 L 0.511719 -8.386719 L 0.511719 -9.625 Z M 7.320312 -9.625 \"/>\n",
       "</g>\n",
       "<g id=\"glyph-0-8\">\n",
       "<path d=\"M 3.808594 -5.6875 C 4.351562 -5.6875 4.773438 -5.839844 5.078125 -6.140625 C 5.382812 -6.445312 5.539062 -6.804688 5.539062 -7.226562 C 5.539062 -7.589844 5.390625 -7.925781 5.101562 -8.230469 C 4.808594 -8.535156 4.363281 -8.6875 3.765625 -8.6875 C 3.171875 -8.6875 2.746094 -8.535156 2.480469 -8.230469 C 2.21875 -7.925781 2.085938 -7.566406 2.085938 -7.15625 C 2.085938 -6.695312 2.257812 -6.335938 2.597656 -6.078125 C 2.9375 -5.816406 3.34375 -5.6875 3.808594 -5.6875 Z M 3.882812 -0.839844 C 4.453125 -0.839844 4.925781 -0.996094 5.300781 -1.300781 C 5.675781 -1.609375 5.867188 -2.070312 5.867188 -2.679688 C 5.867188 -3.3125 5.671875 -3.792969 5.285156 -4.121094 C 4.898438 -4.449219 4.398438 -4.613281 3.792969 -4.613281 C 3.207031 -4.613281 2.726562 -4.445312 2.355469 -4.113281 C 1.984375 -3.777344 1.796875 -3.3125 1.796875 -2.71875 C 1.796875 -2.210938 1.96875 -1.769531 2.308594 -1.398438 C 2.648438 -1.027344 3.171875 -0.839844 3.882812 -0.839844 Z M 2.132812 -5.214844 C 1.789062 -5.359375 1.523438 -5.53125 1.332031 -5.726562 C 0.972656 -6.09375 0.792969 -6.566406 0.792969 -7.148438 C 0.792969 -7.878906 1.058594 -8.507812 1.585938 -9.03125 C 2.113281 -9.554688 2.863281 -9.816406 3.835938 -9.816406 C 4.773438 -9.816406 5.507812 -9.570312 6.042969 -9.074219 C 6.578125 -8.578125 6.84375 -8.003906 6.84375 -7.34375 C 6.84375 -6.730469 6.6875 -6.238281 6.378906 -5.859375 C 6.203125 -5.644531 5.9375 -5.433594 5.570312 -5.230469 C 5.976562 -5.042969 6.296875 -4.828125 6.527344 -4.585938 C 6.960938 -4.132812 7.179688 -3.539062 7.179688 -2.808594 C 7.179688 -1.949219 6.886719 -1.21875 6.308594 -0.617188 C 5.730469 -0.0195312 4.914062 0.28125 3.855469 0.28125 C 2.902344 0.28125 2.097656 0.0234375 1.4375 -0.496094 C 0.78125 -1.011719 0.453125 -1.765625 0.453125 -2.75 C 0.453125 -3.328125 0.59375 -3.828125 0.875 -4.25 C 1.15625 -4.671875 1.578125 -4.992188 2.132812 -5.214844 Z M 2.132812 -5.214844 \"/>\n",
       "</g>\n",
       "<g id=\"glyph-0-9\">\n",
       "<path d=\"M 1.859375 -2.367188 C 1.894531 -1.6875 2.15625 -1.21875 2.644531 -0.957031 C 2.894531 -0.820312 3.179688 -0.75 3.492188 -0.75 C 4.082031 -0.75 4.582031 -0.996094 4.996094 -1.488281 C 5.410156 -1.976562 5.707031 -2.972656 5.878906 -4.46875 C 5.605469 -4.039062 5.265625 -3.734375 4.863281 -3.558594 C 4.460938 -3.382812 4.027344 -3.296875 3.5625 -3.296875 C 2.617188 -3.296875 1.871094 -3.589844 1.324219 -4.175781 C 0.773438 -4.765625 0.5 -5.519531 0.5 -6.445312 C 0.5 -7.335938 0.769531 -8.117188 1.3125 -8.789062 C 1.855469 -9.464844 2.65625 -9.804688 3.710938 -9.804688 C 5.136719 -9.804688 6.121094 -9.160156 6.664062 -7.875 C 6.964844 -7.167969 7.117188 -6.285156 7.117188 -5.222656 C 7.117188 -4.023438 6.9375 -2.960938 6.578125 -2.039062 C 5.980469 -0.496094 4.96875 0.273438 3.539062 0.273438 C 2.582031 0.273438 1.855469 0.0234375 1.359375 -0.476562 C 0.863281 -0.980469 0.617188 -1.609375 0.617188 -2.367188 Z M 3.726562 -4.375 C 4.214844 -4.375 4.660156 -4.535156 5.0625 -4.855469 C 5.464844 -5.179688 5.667969 -5.738281 5.667969 -6.542969 C 5.667969 -7.261719 5.484375 -7.796875 5.125 -8.152344 C 4.761719 -8.503906 4.300781 -8.679688 3.738281 -8.679688 C 3.136719 -8.679688 2.660156 -8.480469 2.308594 -8.078125 C 1.953125 -7.671875 1.777344 -7.132812 1.777344 -6.460938 C 1.777344 -5.820312 1.933594 -5.316406 2.242188 -4.9375 C 2.550781 -4.5625 3.046875 -4.375 3.726562 -4.375 Z M 3.726562 -4.375 \"/>\n",
       "</g>\n",
       "</g>\n",
       "</defs>\n",
       "<rect x=\"-20\" y=\"-20\" width=\"240\" height=\"240\" fill=\"rgb(100%, 100%, 100%)\" fill-opacity=\"1\"/>\n",
       "<path fill=\"none\" stroke-width=\"1\" stroke-linecap=\"butt\" stroke-linejoin=\"miter\" stroke=\"rgb(26.666667%, 26.666667%, 26.666667%)\" stroke-opacity=\"1\" stroke-miterlimit=\"10\" d=\"M 180 100 L 164.722656 149.441406 \"/>\n",
       "<path fill=\"none\" stroke-width=\"1\" stroke-linecap=\"butt\" stroke-linejoin=\"miter\" stroke=\"rgb(26.666667%, 26.666667%, 26.666667%)\" stroke-opacity=\"1\" stroke-miterlimit=\"10\" d=\"M 180 100 L 124.722656 180 \"/>\n",
       "<path fill=\"none\" stroke-width=\"1\" stroke-linecap=\"butt\" stroke-linejoin=\"miter\" stroke=\"rgb(26.666667%, 26.666667%, 26.666667%)\" stroke-opacity=\"1\" stroke-miterlimit=\"10\" d=\"M 164.722656 149.441406 L 75.277344 180 \"/>\n",
       "<path fill=\"none\" stroke-width=\"1\" stroke-linecap=\"butt\" stroke-linejoin=\"miter\" stroke=\"rgb(26.666667%, 26.666667%, 26.666667%)\" stroke-opacity=\"1\" stroke-miterlimit=\"10\" d=\"M 124.722656 180 L 75.277344 180 \"/>\n",
       "<path fill=\"none\" stroke-width=\"1\" stroke-linecap=\"butt\" stroke-linejoin=\"miter\" stroke=\"rgb(26.666667%, 26.666667%, 26.666667%)\" stroke-opacity=\"1\" stroke-miterlimit=\"10\" d=\"M 180 100 L 35.277344 149.441406 \"/>\n",
       "<path fill=\"none\" stroke-width=\"1\" stroke-linecap=\"butt\" stroke-linejoin=\"miter\" stroke=\"rgb(26.666667%, 26.666667%, 26.666667%)\" stroke-opacity=\"1\" stroke-miterlimit=\"10\" d=\"M 164.722656 149.441406 L 35.277344 149.441406 \"/>\n",
       "<path fill=\"none\" stroke-width=\"1\" stroke-linecap=\"butt\" stroke-linejoin=\"miter\" stroke=\"rgb(26.666667%, 26.666667%, 26.666667%)\" stroke-opacity=\"1\" stroke-miterlimit=\"10\" d=\"M 180 100 L 20 100 \"/>\n",
       "<path fill=\"none\" stroke-width=\"1\" stroke-linecap=\"butt\" stroke-linejoin=\"miter\" stroke=\"rgb(26.666667%, 26.666667%, 26.666667%)\" stroke-opacity=\"1\" stroke-miterlimit=\"10\" d=\"M 124.722656 180 L 20 100 \"/>\n",
       "<path fill=\"none\" stroke-width=\"1\" stroke-linecap=\"butt\" stroke-linejoin=\"miter\" stroke=\"rgb(26.666667%, 26.666667%, 26.666667%)\" stroke-opacity=\"1\" stroke-miterlimit=\"10\" d=\"M 180 100 L 35.277344 50.558594 \"/>\n",
       "<path fill=\"none\" stroke-width=\"1\" stroke-linecap=\"butt\" stroke-linejoin=\"miter\" stroke=\"rgb(26.666667%, 26.666667%, 26.666667%)\" stroke-opacity=\"1\" stroke-miterlimit=\"10\" d=\"M 180 100 L 75.277344 20 \"/>\n",
       "<path fill=\"none\" stroke-width=\"1\" stroke-linecap=\"butt\" stroke-linejoin=\"miter\" stroke=\"rgb(26.666667%, 26.666667%, 26.666667%)\" stroke-opacity=\"1\" stroke-miterlimit=\"10\" d=\"M 164.722656 149.441406 L 75.277344 20 \"/>\n",
       "<path fill=\"none\" stroke-width=\"1\" stroke-linecap=\"butt\" stroke-linejoin=\"miter\" stroke=\"rgb(26.666667%, 26.666667%, 26.666667%)\" stroke-opacity=\"1\" stroke-miterlimit=\"10\" d=\"M 75.277344 180 L 75.277344 20 \"/>\n",
       "<path fill=\"none\" stroke-width=\"1\" stroke-linecap=\"butt\" stroke-linejoin=\"miter\" stroke=\"rgb(26.666667%, 26.666667%, 26.666667%)\" stroke-opacity=\"1\" stroke-miterlimit=\"10\" d=\"M 35.277344 149.441406 L 75.277344 20 \"/>\n",
       "<path fill=\"none\" stroke-width=\"1\" stroke-linecap=\"butt\" stroke-linejoin=\"miter\" stroke=\"rgb(26.666667%, 26.666667%, 26.666667%)\" stroke-opacity=\"1\" stroke-miterlimit=\"10\" d=\"M 20 100 L 75.277344 20 \"/>\n",
       "<path fill=\"none\" stroke-width=\"1\" stroke-linecap=\"butt\" stroke-linejoin=\"miter\" stroke=\"rgb(26.666667%, 26.666667%, 26.666667%)\" stroke-opacity=\"1\" stroke-miterlimit=\"10\" d=\"M 35.277344 50.558594 L 75.277344 20 \"/>\n",
       "<path fill=\"none\" stroke-width=\"1\" stroke-linecap=\"butt\" stroke-linejoin=\"miter\" stroke=\"rgb(26.666667%, 26.666667%, 26.666667%)\" stroke-opacity=\"1\" stroke-miterlimit=\"10\" d=\"M 164.722656 149.441406 L 124.722656 20 \"/>\n",
       "<path fill=\"none\" stroke-width=\"1\" stroke-linecap=\"butt\" stroke-linejoin=\"miter\" stroke=\"rgb(26.666667%, 26.666667%, 26.666667%)\" stroke-opacity=\"1\" stroke-miterlimit=\"10\" d=\"M 20 100 L 124.722656 20 \"/>\n",
       "<path fill=\"none\" stroke-width=\"1\" stroke-linecap=\"butt\" stroke-linejoin=\"miter\" stroke=\"rgb(26.666667%, 26.666667%, 26.666667%)\" stroke-opacity=\"1\" stroke-miterlimit=\"10\" d=\"M 35.277344 50.558594 L 124.722656 20 \"/>\n",
       "<path fill=\"none\" stroke-width=\"1\" stroke-linecap=\"butt\" stroke-linejoin=\"miter\" stroke=\"rgb(26.666667%, 26.666667%, 26.666667%)\" stroke-opacity=\"1\" stroke-miterlimit=\"10\" d=\"M 164.722656 149.441406 L 164.722656 50.558594 \"/>\n",
       "<path fill=\"none\" stroke-width=\"1\" stroke-linecap=\"butt\" stroke-linejoin=\"miter\" stroke=\"rgb(26.666667%, 26.666667%, 26.666667%)\" stroke-opacity=\"1\" stroke-miterlimit=\"10\" d=\"M 124.722656 180 L 164.722656 50.558594 \"/>\n",
       "<path fill=\"none\" stroke-width=\"1\" stroke-linecap=\"butt\" stroke-linejoin=\"miter\" stroke=\"rgb(26.666667%, 26.666667%, 26.666667%)\" stroke-opacity=\"1\" stroke-miterlimit=\"10\" d=\"M 75.277344 180 L 164.722656 50.558594 \"/>\n",
       "<path fill=\"none\" stroke-width=\"1\" stroke-linecap=\"butt\" stroke-linejoin=\"miter\" stroke=\"rgb(26.666667%, 26.666667%, 26.666667%)\" stroke-opacity=\"1\" stroke-miterlimit=\"10\" d=\"M 35.277344 149.441406 L 164.722656 50.558594 \"/>\n",
       "<path fill=\"none\" stroke-width=\"1\" stroke-linecap=\"butt\" stroke-linejoin=\"miter\" stroke=\"rgb(26.666667%, 26.666667%, 26.666667%)\" stroke-opacity=\"1\" stroke-miterlimit=\"10\" d=\"M 35.277344 50.558594 L 164.722656 50.558594 \"/>\n",
       "<path fill=\"none\" stroke-width=\"1\" stroke-linecap=\"butt\" stroke-linejoin=\"miter\" stroke=\"rgb(26.666667%, 26.666667%, 26.666667%)\" stroke-opacity=\"1\" stroke-miterlimit=\"10\" d=\"M 124.722656 20 L 164.722656 50.558594 \"/>\n",
       "<path fill-rule=\"nonzero\" fill=\"rgb(100%, 0%, 0%)\" fill-opacity=\"1\" stroke-width=\"1\" stroke-linecap=\"butt\" stroke-linejoin=\"miter\" stroke=\"rgb(0%, 0%, 0%)\" stroke-opacity=\"1\" stroke-miterlimit=\"10\" d=\"M 190 100 C 190 105.523438 185.523438 110 180 110 C 174.476562 110 170 105.523438 170 100 C 170 94.476562 174.476562 90 180 90 C 185.523438 90 190 94.476562 190 100 \"/>\n",
       "<path fill-rule=\"nonzero\" fill=\"rgb(100%, 0%, 0%)\" fill-opacity=\"1\" stroke-width=\"1\" stroke-linecap=\"butt\" stroke-linejoin=\"miter\" stroke=\"rgb(0%, 0%, 0%)\" stroke-opacity=\"1\" stroke-miterlimit=\"10\" d=\"M 174.722656 149.441406 C 174.722656 154.964844 170.246094 159.441406 164.722656 159.441406 C 159.199219 159.441406 154.722656 154.964844 154.722656 149.441406 C 154.722656 143.917969 159.199219 139.441406 164.722656 139.441406 C 170.246094 139.441406 174.722656 143.917969 174.722656 149.441406 \"/>\n",
       "<path fill-rule=\"nonzero\" fill=\"rgb(100%, 0%, 0%)\" fill-opacity=\"1\" stroke-width=\"1\" stroke-linecap=\"butt\" stroke-linejoin=\"miter\" stroke=\"rgb(0%, 0%, 0%)\" stroke-opacity=\"1\" stroke-miterlimit=\"10\" d=\"M 134.722656 180 C 134.722656 185.523438 130.246094 190 124.722656 190 C 119.199219 190 114.722656 185.523438 114.722656 180 C 114.722656 174.476562 119.199219 170 124.722656 170 C 130.246094 170 134.722656 174.476562 134.722656 180 \"/>\n",
       "<path fill-rule=\"nonzero\" fill=\"rgb(100%, 0%, 0%)\" fill-opacity=\"1\" stroke-width=\"1\" stroke-linecap=\"butt\" stroke-linejoin=\"miter\" stroke=\"rgb(0%, 0%, 0%)\" stroke-opacity=\"1\" stroke-miterlimit=\"10\" d=\"M 85.277344 180 C 85.277344 185.523438 80.800781 190 75.277344 190 C 69.753906 190 65.277344 185.523438 65.277344 180 C 65.277344 174.476562 69.753906 170 75.277344 170 C 80.800781 170 85.277344 174.476562 85.277344 180 \"/>\n",
       "<path fill-rule=\"nonzero\" fill=\"rgb(100%, 0%, 0%)\" fill-opacity=\"1\" stroke-width=\"1\" stroke-linecap=\"butt\" stroke-linejoin=\"miter\" stroke=\"rgb(0%, 0%, 0%)\" stroke-opacity=\"1\" stroke-miterlimit=\"10\" d=\"M 45.277344 149.441406 C 45.277344 154.964844 40.800781 159.441406 35.277344 159.441406 C 29.753906 159.441406 25.277344 154.964844 25.277344 149.441406 C 25.277344 143.917969 29.753906 139.441406 35.277344 139.441406 C 40.800781 139.441406 45.277344 143.917969 45.277344 149.441406 \"/>\n",
       "<path fill-rule=\"nonzero\" fill=\"rgb(100%, 0%, 0%)\" fill-opacity=\"1\" stroke-width=\"1\" stroke-linecap=\"butt\" stroke-linejoin=\"miter\" stroke=\"rgb(0%, 0%, 0%)\" stroke-opacity=\"1\" stroke-miterlimit=\"10\" d=\"M 30 100 C 30 105.523438 25.523438 110 20 110 C 14.476562 110 10 105.523438 10 100 C 10 94.476562 14.476562 90 20 90 C 25.523438 90 30 94.476562 30 100 \"/>\n",
       "<path fill-rule=\"nonzero\" fill=\"rgb(100%, 0%, 0%)\" fill-opacity=\"1\" stroke-width=\"1\" stroke-linecap=\"butt\" stroke-linejoin=\"miter\" stroke=\"rgb(0%, 0%, 0%)\" stroke-opacity=\"1\" stroke-miterlimit=\"10\" d=\"M 45.277344 50.558594 C 45.277344 56.082031 40.800781 60.558594 35.277344 60.558594 C 29.753906 60.558594 25.277344 56.082031 25.277344 50.558594 C 25.277344 45.035156 29.753906 40.558594 35.277344 40.558594 C 40.800781 40.558594 45.277344 45.035156 45.277344 50.558594 \"/>\n",
       "<path fill-rule=\"nonzero\" fill=\"rgb(100%, 0%, 0%)\" fill-opacity=\"1\" stroke-width=\"1\" stroke-linecap=\"butt\" stroke-linejoin=\"miter\" stroke=\"rgb(0%, 0%, 0%)\" stroke-opacity=\"1\" stroke-miterlimit=\"10\" d=\"M 85.277344 20 C 85.277344 25.523438 80.800781 30 75.277344 30 C 69.753906 30 65.277344 25.523438 65.277344 20 C 65.277344 14.476562 69.753906 10 75.277344 10 C 80.800781 10 85.277344 14.476562 85.277344 20 \"/>\n",
       "<path fill-rule=\"nonzero\" fill=\"rgb(100%, 0%, 0%)\" fill-opacity=\"1\" stroke-width=\"1\" stroke-linecap=\"butt\" stroke-linejoin=\"miter\" stroke=\"rgb(0%, 0%, 0%)\" stroke-opacity=\"1\" stroke-miterlimit=\"10\" d=\"M 134.722656 20 C 134.722656 25.523438 130.246094 30 124.722656 30 C 119.199219 30 114.722656 25.523438 114.722656 20 C 114.722656 14.476562 119.199219 10 124.722656 10 C 130.246094 10 134.722656 14.476562 134.722656 20 \"/>\n",
       "<path fill-rule=\"nonzero\" fill=\"rgb(100%, 0%, 0%)\" fill-opacity=\"1\" stroke-width=\"1\" stroke-linecap=\"butt\" stroke-linejoin=\"miter\" stroke=\"rgb(0%, 0%, 0%)\" stroke-opacity=\"1\" stroke-miterlimit=\"10\" d=\"M 174.722656 50.558594 C 174.722656 56.082031 170.246094 60.558594 164.722656 60.558594 C 159.199219 60.558594 154.722656 56.082031 154.722656 50.558594 C 154.722656 45.035156 159.199219 40.558594 164.722656 40.558594 C 170.246094 40.558594 174.722656 45.035156 174.722656 50.558594 \"/>\n",
       "<g fill=\"rgb(0%, 0%, 0%)\" fill-opacity=\"1\">\n",
       "<use xlink:href=\"#glyph-0-0\" x=\"176.1875\" y=\"106.503906\"/>\n",
       "</g>\n",
       "<g fill=\"rgb(0%, 0%, 0%)\" fill-opacity=\"1\">\n",
       "<use xlink:href=\"#glyph-0-1\" x=\"161.574219\" y=\"155.925781\"/>\n",
       "</g>\n",
       "<g fill=\"rgb(0%, 0%, 0%)\" fill-opacity=\"1\">\n",
       "<use xlink:href=\"#glyph-0-2\" x=\"120.898438\" y=\"186.523438\"/>\n",
       "</g>\n",
       "<g fill=\"rgb(0%, 0%, 0%)\" fill-opacity=\"1\">\n",
       "<use xlink:href=\"#glyph-0-3\" x=\"71.523438\" y=\"186.511719\"/>\n",
       "</g>\n",
       "<g fill=\"rgb(0%, 0%, 0%)\" fill-opacity=\"1\">\n",
       "<use xlink:href=\"#glyph-0-4\" x=\"31.441406\" y=\"155.960938\"/>\n",
       "</g>\n",
       "<g fill=\"rgb(0%, 0%, 0%)\" fill-opacity=\"1\">\n",
       "<use xlink:href=\"#glyph-0-5\" x=\"16.179688\" y=\"106.421875\"/>\n",
       "</g>\n",
       "<g fill=\"rgb(0%, 0%, 0%)\" fill-opacity=\"1\">\n",
       "<use xlink:href=\"#glyph-0-6\" x=\"31.394531\" y=\"57.082031\"/>\n",
       "</g>\n",
       "<g fill=\"rgb(0%, 0%, 0%)\" fill-opacity=\"1\">\n",
       "<use xlink:href=\"#glyph-0-7\" x=\"71.363281\" y=\"26.421875\"/>\n",
       "</g>\n",
       "<g fill=\"rgb(0%, 0%, 0%)\" fill-opacity=\"1\">\n",
       "<use xlink:href=\"#glyph-0-8\" x=\"120.90625\" y=\"26.519531\"/>\n",
       "</g>\n",
       "<g fill=\"rgb(0%, 0%, 0%)\" fill-opacity=\"1\">\n",
       "<use xlink:href=\"#glyph-0-9\" x=\"160.914062\" y=\"57.070312\"/>\n",
       "</g>\n",
       "</svg>\n"
      ],
      "text/plain": [
       "<igraph.drawing.cairo.plot.CairoPlot at 0x1168391c0>"
      ]
     },
     "execution_count": 14,
     "metadata": {
      "image/svg+xml": {
       "isolated": true
      }
     },
     "output_type": "execute_result"
    }
   ],
   "source": [
    "ig.plot(g1,bbox=(200,200),layout='circle',vertex_label=range(N))"
   ]
  },
  {
   "cell_type": "code",
   "execution_count": 15,
   "id": "24847da5-2763-485e-93e2-57c36b3c1239",
   "metadata": {},
   "outputs": [],
   "source": [
    "g2 = ig.Graph.Erdos_Renyi(N,0.5)"
   ]
  },
  {
   "cell_type": "code",
   "execution_count": 16,
   "id": "2e22a036-4fec-4e93-96fd-5e95febddf5e",
   "metadata": {},
   "outputs": [
    {
     "data": {
      "image/svg+xml": [
       "<?xml version=\"1.0\" encoding=\"UTF-8\"?>\n",
       "<svg xmlns=\"http://www.w3.org/2000/svg\" xmlns:xlink=\"http://www.w3.org/1999/xlink\" width=\"200\" height=\"200\" viewBox=\"0 0 200 200\">\n",
       "<defs>\n",
       "<g>\n",
       "<g id=\"glyph-0-0\">\n",
       "<path d=\"M 3.789062 -9.789062 C 5.054688 -9.789062 5.96875 -9.265625 6.535156 -8.222656 C 6.972656 -7.417969 7.191406 -6.3125 7.191406 -4.90625 C 7.191406 -3.578125 6.992188 -2.476562 6.597656 -1.605469 C 6.023438 -0.359375 5.082031 0.265625 3.78125 0.265625 C 2.605469 0.265625 1.730469 -0.242188 1.15625 -1.265625 C 0.675781 -2.117188 0.4375 -3.261719 0.4375 -4.695312 C 0.4375 -5.808594 0.582031 -6.761719 0.867188 -7.5625 C 1.40625 -9.046875 2.378906 -9.789062 3.789062 -9.789062 Z M 3.773438 -0.855469 C 4.410156 -0.855469 4.917969 -1.136719 5.296875 -1.703125 C 5.675781 -2.265625 5.867188 -3.320312 5.867188 -4.859375 C 5.867188 -5.972656 5.726562 -6.886719 5.453125 -7.605469 C 5.179688 -8.324219 4.652344 -8.679688 3.863281 -8.679688 C 3.136719 -8.679688 2.609375 -8.339844 2.273438 -7.660156 C 1.9375 -6.976562 1.769531 -5.976562 1.769531 -4.648438 C 1.769531 -3.648438 1.878906 -2.847656 2.09375 -2.242188 C 2.421875 -1.316406 2.980469 -0.855469 3.773438 -0.855469 Z M 3.773438 -0.855469 \"/>\n",
       "</g>\n",
       "<g id=\"glyph-0-1\">\n",
       "<path d=\"M 1.339844 -6.929688 L 1.339844 -7.875 C 2.226562 -7.960938 2.847656 -8.105469 3.199219 -8.308594 C 3.550781 -8.511719 3.8125 -8.992188 3.984375 -9.75 L 4.957031 -9.75 L 4.957031 0 L 3.644531 0 L 3.644531 -6.929688 Z M 1.339844 -6.929688 \"/>\n",
       "</g>\n",
       "<g id=\"glyph-0-2\">\n",
       "<path d=\"M 0.4375 0 C 0.484375 -0.84375 0.65625 -1.578125 0.960938 -2.203125 C 1.265625 -2.828125 1.855469 -3.394531 2.734375 -3.902344 L 4.046875 -4.664062 C 4.632812 -5.003906 5.046875 -5.296875 5.285156 -5.539062 C 5.65625 -5.914062 5.84375 -6.347656 5.84375 -6.835938 C 5.84375 -7.40625 5.671875 -7.859375 5.332031 -8.191406 C 4.992188 -8.527344 4.535156 -8.695312 3.964844 -8.695312 C 3.121094 -8.695312 2.539062 -8.375 2.214844 -7.738281 C 2.042969 -7.398438 1.945312 -6.921875 1.929688 -6.316406 L 0.675781 -6.316406 C 0.691406 -7.167969 0.847656 -7.863281 1.148438 -8.402344 C 1.679688 -9.351562 2.621094 -9.824219 3.972656 -9.824219 C 5.09375 -9.824219 5.910156 -9.519531 6.429688 -8.914062 C 6.945312 -8.308594 7.203125 -7.632812 7.203125 -6.890625 C 7.203125 -6.105469 6.929688 -5.4375 6.378906 -4.882812 C 6.058594 -4.558594 5.488281 -4.164062 4.664062 -3.703125 L 3.726562 -3.1875 C 3.28125 -2.941406 2.929688 -2.703125 2.671875 -2.480469 C 2.21875 -2.085938 1.929688 -1.644531 1.8125 -1.164062 L 7.15625 -1.164062 L 7.15625 0 Z M 0.4375 0 \"/>\n",
       "</g>\n",
       "<g id=\"glyph-0-3\">\n",
       "<path d=\"M 3.636719 0.265625 C 2.480469 0.265625 1.640625 -0.0507812 1.117188 -0.6875 C 0.59375 -1.324219 0.335938 -2.097656 0.335938 -3.007812 L 1.621094 -3.007812 C 1.675781 -2.375 1.792969 -1.914062 1.976562 -1.625 C 2.296875 -1.109375 2.871094 -0.855469 3.703125 -0.855469 C 4.351562 -0.855469 4.871094 -1.027344 5.265625 -1.375 C 5.65625 -1.71875 5.851562 -2.167969 5.851562 -2.714844 C 5.851562 -3.390625 5.644531 -3.859375 5.234375 -4.128906 C 4.820312 -4.398438 4.246094 -4.53125 3.515625 -4.53125 C 3.433594 -4.53125 3.347656 -4.53125 3.265625 -4.527344 C 3.179688 -4.527344 3.09375 -4.523438 3.007812 -4.519531 L 3.007812 -5.605469 C 3.136719 -5.59375 3.242188 -5.582031 3.328125 -5.578125 C 3.414062 -5.574219 3.507812 -5.570312 3.609375 -5.570312 C 4.070312 -5.570312 4.449219 -5.644531 4.742188 -5.789062 C 5.261719 -6.046875 5.523438 -6.5 5.523438 -7.15625 C 5.523438 -7.644531 5.351562 -8.019531 5.003906 -8.285156 C 4.65625 -8.550781 4.253906 -8.679688 3.792969 -8.679688 C 2.972656 -8.679688 2.40625 -8.40625 2.09375 -7.859375 C 1.917969 -7.558594 1.820312 -7.132812 1.796875 -6.578125 L 0.582031 -6.578125 C 0.582031 -7.304688 0.726562 -7.925781 1.019531 -8.4375 C 1.519531 -9.347656 2.402344 -9.804688 3.664062 -9.804688 C 4.664062 -9.804688 5.433594 -9.582031 5.980469 -9.136719 C 6.527344 -8.691406 6.800781 -8.046875 6.800781 -7.203125 C 6.800781 -6.601562 6.640625 -6.117188 6.316406 -5.742188 C 6.117188 -5.507812 5.855469 -5.328125 5.539062 -5.195312 C 6.054688 -5.054688 6.453125 -4.78125 6.742188 -4.378906 C 7.03125 -3.976562 7.179688 -3.480469 7.179688 -2.898438 C 7.179688 -1.964844 6.871094 -1.203125 6.253906 -0.617188 C 5.640625 -0.0273438 4.765625 0.265625 3.636719 0.265625 Z M 3.636719 0.265625 \"/>\n",
       "</g>\n",
       "<g id=\"glyph-0-4\">\n",
       "<path d=\"M 4.628906 -3.464844 L 4.628906 -7.902344 L 1.492188 -3.464844 Z M 4.648438 0 L 4.648438 -2.390625 L 0.355469 -2.390625 L 0.355469 -3.59375 L 4.839844 -9.816406 L 5.878906 -9.816406 L 5.878906 -3.464844 L 7.320312 -3.464844 L 7.320312 -2.390625 L 5.878906 -2.390625 L 5.878906 0 Z M 4.648438 0 \"/>\n",
       "</g>\n",
       "<g id=\"glyph-0-5\">\n",
       "<path d=\"M 1.730469 -2.496094 C 1.8125 -1.792969 2.136719 -1.308594 2.707031 -1.039062 C 3 -0.902344 3.335938 -0.835938 3.71875 -0.835938 C 4.449219 -0.835938 4.988281 -1.066406 5.339844 -1.53125 C 5.691406 -1.996094 5.867188 -2.511719 5.867188 -3.078125 C 5.867188 -3.761719 5.65625 -4.289062 5.238281 -4.664062 C 4.820312 -5.035156 4.324219 -5.222656 3.738281 -5.222656 C 3.316406 -5.222656 2.953125 -5.140625 2.648438 -4.976562 C 2.34375 -4.8125 2.085938 -4.585938 1.875 -4.292969 L 0.804688 -4.355469 L 1.550781 -9.625 L 6.636719 -9.625 L 6.636719 -8.4375 L 2.476562 -8.4375 L 2.058594 -5.714844 C 2.285156 -5.886719 2.5 -6.019531 2.707031 -6.105469 C 3.070312 -6.253906 3.492188 -6.328125 3.972656 -6.328125 C 4.871094 -6.328125 5.628906 -6.039062 6.253906 -5.460938 C 6.878906 -4.882812 7.191406 -4.148438 7.191406 -3.261719 C 7.191406 -2.335938 6.90625 -1.519531 6.332031 -0.8125 C 5.761719 -0.105469 4.847656 0.246094 3.59375 0.246094 C 2.796875 0.246094 2.09375 0.0234375 1.480469 -0.425781 C 0.867188 -0.875 0.523438 -1.566406 0.453125 -2.496094 Z M 1.730469 -2.496094 \"/>\n",
       "</g>\n",
       "<g id=\"glyph-0-6\">\n",
       "<path d=\"M 4.09375 -9.828125 C 5.1875 -9.828125 5.949219 -9.546875 6.382812 -8.980469 C 6.8125 -8.414062 7.027344 -7.828125 7.027344 -7.226562 L 5.8125 -7.226562 C 5.738281 -7.613281 5.621094 -7.914062 5.460938 -8.132812 C 5.164062 -8.542969 4.71875 -8.75 4.117188 -8.75 C 3.429688 -8.75 2.878906 -8.433594 2.476562 -7.796875 C 2.070312 -7.160156 1.84375 -6.25 1.796875 -5.066406 C 2.078125 -5.480469 2.4375 -5.789062 2.863281 -5.996094 C 3.257812 -6.179688 3.695312 -6.269531 4.175781 -6.269531 C 4.996094 -6.269531 5.710938 -6.007812 6.324219 -5.484375 C 6.933594 -4.960938 7.238281 -4.175781 7.238281 -3.136719 C 7.238281 -2.25 6.949219 -1.460938 6.371094 -0.777344 C 5.792969 -0.0898438 4.96875 0.253906 3.898438 0.253906 C 2.980469 0.253906 2.191406 -0.09375 1.523438 -0.789062 C 0.859375 -1.484375 0.527344 -2.65625 0.527344 -4.300781 C 0.527344 -5.515625 0.675781 -6.546875 0.96875 -7.398438 C 1.539062 -9.019531 2.582031 -9.828125 4.09375 -9.828125 Z M 4.007812 -0.839844 C 4.652344 -0.839844 5.136719 -1.058594 5.457031 -1.492188 C 5.78125 -1.929688 5.941406 -2.441406 5.941406 -3.035156 C 5.941406 -3.535156 5.796875 -4.015625 5.507812 -4.46875 C 5.222656 -4.921875 4.699219 -5.148438 3.945312 -5.148438 C 3.414062 -5.148438 2.953125 -4.972656 2.554688 -4.621094 C 2.15625 -4.269531 1.953125 -3.742188 1.953125 -3.035156 C 1.953125 -2.414062 2.136719 -1.894531 2.5 -1.472656 C 2.859375 -1.050781 3.363281 -0.839844 4.007812 -0.839844 Z M 4.007812 -0.839844 \"/>\n",
       "</g>\n",
       "<g id=\"glyph-0-7\">\n",
       "<path d=\"M 7.320312 -9.625 L 7.320312 -8.550781 C 7.007812 -8.246094 6.589844 -7.714844 6.066406 -6.960938 C 5.546875 -6.203125 5.082031 -5.386719 4.683594 -4.511719 C 4.285156 -3.660156 3.984375 -2.882812 3.78125 -2.179688 C 3.648438 -1.730469 3.476562 -1.003906 3.265625 0 L 1.90625 0 C 2.21875 -1.867188 2.902344 -3.726562 3.957031 -5.578125 C 4.582031 -6.664062 5.238281 -7.597656 5.925781 -8.386719 L 0.511719 -8.386719 L 0.511719 -9.625 Z M 7.320312 -9.625 \"/>\n",
       "</g>\n",
       "<g id=\"glyph-0-8\">\n",
       "<path d=\"M 3.808594 -5.6875 C 4.351562 -5.6875 4.773438 -5.839844 5.078125 -6.140625 C 5.382812 -6.445312 5.539062 -6.804688 5.539062 -7.226562 C 5.539062 -7.589844 5.390625 -7.925781 5.101562 -8.230469 C 4.808594 -8.535156 4.363281 -8.6875 3.765625 -8.6875 C 3.171875 -8.6875 2.746094 -8.535156 2.480469 -8.230469 C 2.21875 -7.925781 2.085938 -7.566406 2.085938 -7.15625 C 2.085938 -6.695312 2.257812 -6.335938 2.597656 -6.078125 C 2.9375 -5.816406 3.34375 -5.6875 3.808594 -5.6875 Z M 3.882812 -0.839844 C 4.453125 -0.839844 4.925781 -0.996094 5.300781 -1.300781 C 5.675781 -1.609375 5.867188 -2.070312 5.867188 -2.679688 C 5.867188 -3.3125 5.671875 -3.792969 5.285156 -4.121094 C 4.898438 -4.449219 4.398438 -4.613281 3.792969 -4.613281 C 3.207031 -4.613281 2.726562 -4.445312 2.355469 -4.113281 C 1.984375 -3.777344 1.796875 -3.3125 1.796875 -2.71875 C 1.796875 -2.210938 1.96875 -1.769531 2.308594 -1.398438 C 2.648438 -1.027344 3.171875 -0.839844 3.882812 -0.839844 Z M 2.132812 -5.214844 C 1.789062 -5.359375 1.523438 -5.53125 1.332031 -5.726562 C 0.972656 -6.09375 0.792969 -6.566406 0.792969 -7.148438 C 0.792969 -7.878906 1.058594 -8.507812 1.585938 -9.03125 C 2.113281 -9.554688 2.863281 -9.816406 3.835938 -9.816406 C 4.773438 -9.816406 5.507812 -9.570312 6.042969 -9.074219 C 6.578125 -8.578125 6.84375 -8.003906 6.84375 -7.34375 C 6.84375 -6.730469 6.6875 -6.238281 6.378906 -5.859375 C 6.203125 -5.644531 5.9375 -5.433594 5.570312 -5.230469 C 5.976562 -5.042969 6.296875 -4.828125 6.527344 -4.585938 C 6.960938 -4.132812 7.179688 -3.539062 7.179688 -2.808594 C 7.179688 -1.949219 6.886719 -1.21875 6.308594 -0.617188 C 5.730469 -0.0195312 4.914062 0.28125 3.855469 0.28125 C 2.902344 0.28125 2.097656 0.0234375 1.4375 -0.496094 C 0.78125 -1.011719 0.453125 -1.765625 0.453125 -2.75 C 0.453125 -3.328125 0.59375 -3.828125 0.875 -4.25 C 1.15625 -4.671875 1.578125 -4.992188 2.132812 -5.214844 Z M 2.132812 -5.214844 \"/>\n",
       "</g>\n",
       "<g id=\"glyph-0-9\">\n",
       "<path d=\"M 1.859375 -2.367188 C 1.894531 -1.6875 2.15625 -1.21875 2.644531 -0.957031 C 2.894531 -0.820312 3.179688 -0.75 3.492188 -0.75 C 4.082031 -0.75 4.582031 -0.996094 4.996094 -1.488281 C 5.410156 -1.976562 5.707031 -2.972656 5.878906 -4.46875 C 5.605469 -4.039062 5.265625 -3.734375 4.863281 -3.558594 C 4.460938 -3.382812 4.027344 -3.296875 3.5625 -3.296875 C 2.617188 -3.296875 1.871094 -3.589844 1.324219 -4.175781 C 0.773438 -4.765625 0.5 -5.519531 0.5 -6.445312 C 0.5 -7.335938 0.769531 -8.117188 1.3125 -8.789062 C 1.855469 -9.464844 2.65625 -9.804688 3.710938 -9.804688 C 5.136719 -9.804688 6.121094 -9.160156 6.664062 -7.875 C 6.964844 -7.167969 7.117188 -6.285156 7.117188 -5.222656 C 7.117188 -4.023438 6.9375 -2.960938 6.578125 -2.039062 C 5.980469 -0.496094 4.96875 0.273438 3.539062 0.273438 C 2.582031 0.273438 1.855469 0.0234375 1.359375 -0.476562 C 0.863281 -0.980469 0.617188 -1.609375 0.617188 -2.367188 Z M 3.726562 -4.375 C 4.214844 -4.375 4.660156 -4.535156 5.0625 -4.855469 C 5.464844 -5.179688 5.667969 -5.738281 5.667969 -6.542969 C 5.667969 -7.261719 5.484375 -7.796875 5.125 -8.152344 C 4.761719 -8.503906 4.300781 -8.679688 3.738281 -8.679688 C 3.136719 -8.679688 2.660156 -8.480469 2.308594 -8.078125 C 1.953125 -7.671875 1.777344 -7.132812 1.777344 -6.460938 C 1.777344 -5.820312 1.933594 -5.316406 2.242188 -4.9375 C 2.550781 -4.5625 3.046875 -4.375 3.726562 -4.375 Z M 3.726562 -4.375 \"/>\n",
       "</g>\n",
       "</g>\n",
       "</defs>\n",
       "<rect x=\"-20\" y=\"-20\" width=\"240\" height=\"240\" fill=\"rgb(100%, 100%, 100%)\" fill-opacity=\"1\"/>\n",
       "<path fill=\"none\" stroke-width=\"1\" stroke-linecap=\"butt\" stroke-linejoin=\"miter\" stroke=\"rgb(26.666667%, 26.666667%, 26.666667%)\" stroke-opacity=\"1\" stroke-miterlimit=\"10\" d=\"M 180 100 L 124.722656 180 \"/>\n",
       "<path fill=\"none\" stroke-width=\"1\" stroke-linecap=\"butt\" stroke-linejoin=\"miter\" stroke=\"rgb(26.666667%, 26.666667%, 26.666667%)\" stroke-opacity=\"1\" stroke-miterlimit=\"10\" d=\"M 180 100 L 75.277344 180 \"/>\n",
       "<path fill=\"none\" stroke-width=\"1\" stroke-linecap=\"butt\" stroke-linejoin=\"miter\" stroke=\"rgb(26.666667%, 26.666667%, 26.666667%)\" stroke-opacity=\"1\" stroke-miterlimit=\"10\" d=\"M 164.722656 149.441406 L 75.277344 180 \"/>\n",
       "<path fill=\"none\" stroke-width=\"1\" stroke-linecap=\"butt\" stroke-linejoin=\"miter\" stroke=\"rgb(26.666667%, 26.666667%, 26.666667%)\" stroke-opacity=\"1\" stroke-miterlimit=\"10\" d=\"M 124.722656 180 L 35.277344 149.441406 \"/>\n",
       "<path fill=\"none\" stroke-width=\"1\" stroke-linecap=\"butt\" stroke-linejoin=\"miter\" stroke=\"rgb(26.666667%, 26.666667%, 26.666667%)\" stroke-opacity=\"1\" stroke-miterlimit=\"10\" d=\"M 180 100 L 20 100 \"/>\n",
       "<path fill=\"none\" stroke-width=\"1\" stroke-linecap=\"butt\" stroke-linejoin=\"miter\" stroke=\"rgb(26.666667%, 26.666667%, 26.666667%)\" stroke-opacity=\"1\" stroke-miterlimit=\"10\" d=\"M 164.722656 149.441406 L 20 100 \"/>\n",
       "<path fill=\"none\" stroke-width=\"1\" stroke-linecap=\"butt\" stroke-linejoin=\"miter\" stroke=\"rgb(26.666667%, 26.666667%, 26.666667%)\" stroke-opacity=\"1\" stroke-miterlimit=\"10\" d=\"M 75.277344 180 L 20 100 \"/>\n",
       "<path fill=\"none\" stroke-width=\"1\" stroke-linecap=\"butt\" stroke-linejoin=\"miter\" stroke=\"rgb(26.666667%, 26.666667%, 26.666667%)\" stroke-opacity=\"1\" stroke-miterlimit=\"10\" d=\"M 35.277344 149.441406 L 20 100 \"/>\n",
       "<path fill=\"none\" stroke-width=\"1\" stroke-linecap=\"butt\" stroke-linejoin=\"miter\" stroke=\"rgb(26.666667%, 26.666667%, 26.666667%)\" stroke-opacity=\"1\" stroke-miterlimit=\"10\" d=\"M 35.277344 149.441406 L 35.277344 50.558594 \"/>\n",
       "<path fill=\"none\" stroke-width=\"1\" stroke-linecap=\"butt\" stroke-linejoin=\"miter\" stroke=\"rgb(26.666667%, 26.666667%, 26.666667%)\" stroke-opacity=\"1\" stroke-miterlimit=\"10\" d=\"M 180 100 L 75.277344 20 \"/>\n",
       "<path fill=\"none\" stroke-width=\"1\" stroke-linecap=\"butt\" stroke-linejoin=\"miter\" stroke=\"rgb(26.666667%, 26.666667%, 26.666667%)\" stroke-opacity=\"1\" stroke-miterlimit=\"10\" d=\"M 164.722656 149.441406 L 75.277344 20 \"/>\n",
       "<path fill=\"none\" stroke-width=\"1\" stroke-linecap=\"butt\" stroke-linejoin=\"miter\" stroke=\"rgb(26.666667%, 26.666667%, 26.666667%)\" stroke-opacity=\"1\" stroke-miterlimit=\"10\" d=\"M 35.277344 149.441406 L 75.277344 20 \"/>\n",
       "<path fill=\"none\" stroke-width=\"1\" stroke-linecap=\"butt\" stroke-linejoin=\"miter\" stroke=\"rgb(26.666667%, 26.666667%, 26.666667%)\" stroke-opacity=\"1\" stroke-miterlimit=\"10\" d=\"M 20 100 L 75.277344 20 \"/>\n",
       "<path fill=\"none\" stroke-width=\"1\" stroke-linecap=\"butt\" stroke-linejoin=\"miter\" stroke=\"rgb(26.666667%, 26.666667%, 26.666667%)\" stroke-opacity=\"1\" stroke-miterlimit=\"10\" d=\"M 35.277344 50.558594 L 75.277344 20 \"/>\n",
       "<path fill=\"none\" stroke-width=\"1\" stroke-linecap=\"butt\" stroke-linejoin=\"miter\" stroke=\"rgb(26.666667%, 26.666667%, 26.666667%)\" stroke-opacity=\"1\" stroke-miterlimit=\"10\" d=\"M 180 100 L 124.722656 20 \"/>\n",
       "<path fill=\"none\" stroke-width=\"1\" stroke-linecap=\"butt\" stroke-linejoin=\"miter\" stroke=\"rgb(26.666667%, 26.666667%, 26.666667%)\" stroke-opacity=\"1\" stroke-miterlimit=\"10\" d=\"M 164.722656 149.441406 L 124.722656 20 \"/>\n",
       "<path fill=\"none\" stroke-width=\"1\" stroke-linecap=\"butt\" stroke-linejoin=\"miter\" stroke=\"rgb(26.666667%, 26.666667%, 26.666667%)\" stroke-opacity=\"1\" stroke-miterlimit=\"10\" d=\"M 35.277344 149.441406 L 124.722656 20 \"/>\n",
       "<path fill=\"none\" stroke-width=\"1\" stroke-linecap=\"butt\" stroke-linejoin=\"miter\" stroke=\"rgb(26.666667%, 26.666667%, 26.666667%)\" stroke-opacity=\"1\" stroke-miterlimit=\"10\" d=\"M 20 100 L 124.722656 20 \"/>\n",
       "<path fill=\"none\" stroke-width=\"1\" stroke-linecap=\"butt\" stroke-linejoin=\"miter\" stroke=\"rgb(26.666667%, 26.666667%, 26.666667%)\" stroke-opacity=\"1\" stroke-miterlimit=\"10\" d=\"M 180 100 L 164.722656 50.558594 \"/>\n",
       "<path fill=\"none\" stroke-width=\"1\" stroke-linecap=\"butt\" stroke-linejoin=\"miter\" stroke=\"rgb(26.666667%, 26.666667%, 26.666667%)\" stroke-opacity=\"1\" stroke-miterlimit=\"10\" d=\"M 164.722656 149.441406 L 164.722656 50.558594 \"/>\n",
       "<path fill=\"none\" stroke-width=\"1\" stroke-linecap=\"butt\" stroke-linejoin=\"miter\" stroke=\"rgb(26.666667%, 26.666667%, 26.666667%)\" stroke-opacity=\"1\" stroke-miterlimit=\"10\" d=\"M 124.722656 180 L 164.722656 50.558594 \"/>\n",
       "<path fill=\"none\" stroke-width=\"1\" stroke-linecap=\"butt\" stroke-linejoin=\"miter\" stroke=\"rgb(26.666667%, 26.666667%, 26.666667%)\" stroke-opacity=\"1\" stroke-miterlimit=\"10\" d=\"M 35.277344 149.441406 L 164.722656 50.558594 \"/>\n",
       "<path fill=\"none\" stroke-width=\"1\" stroke-linecap=\"butt\" stroke-linejoin=\"miter\" stroke=\"rgb(26.666667%, 26.666667%, 26.666667%)\" stroke-opacity=\"1\" stroke-miterlimit=\"10\" d=\"M 124.722656 20 L 164.722656 50.558594 \"/>\n",
       "<path fill-rule=\"nonzero\" fill=\"rgb(100%, 0%, 0%)\" fill-opacity=\"1\" stroke-width=\"1\" stroke-linecap=\"butt\" stroke-linejoin=\"miter\" stroke=\"rgb(0%, 0%, 0%)\" stroke-opacity=\"1\" stroke-miterlimit=\"10\" d=\"M 190 100 C 190 105.523438 185.523438 110 180 110 C 174.476562 110 170 105.523438 170 100 C 170 94.476562 174.476562 90 180 90 C 185.523438 90 190 94.476562 190 100 \"/>\n",
       "<path fill-rule=\"nonzero\" fill=\"rgb(100%, 0%, 0%)\" fill-opacity=\"1\" stroke-width=\"1\" stroke-linecap=\"butt\" stroke-linejoin=\"miter\" stroke=\"rgb(0%, 0%, 0%)\" stroke-opacity=\"1\" stroke-miterlimit=\"10\" d=\"M 174.722656 149.441406 C 174.722656 154.964844 170.246094 159.441406 164.722656 159.441406 C 159.199219 159.441406 154.722656 154.964844 154.722656 149.441406 C 154.722656 143.917969 159.199219 139.441406 164.722656 139.441406 C 170.246094 139.441406 174.722656 143.917969 174.722656 149.441406 \"/>\n",
       "<path fill-rule=\"nonzero\" fill=\"rgb(100%, 0%, 0%)\" fill-opacity=\"1\" stroke-width=\"1\" stroke-linecap=\"butt\" stroke-linejoin=\"miter\" stroke=\"rgb(0%, 0%, 0%)\" stroke-opacity=\"1\" stroke-miterlimit=\"10\" d=\"M 134.722656 180 C 134.722656 185.523438 130.246094 190 124.722656 190 C 119.199219 190 114.722656 185.523438 114.722656 180 C 114.722656 174.476562 119.199219 170 124.722656 170 C 130.246094 170 134.722656 174.476562 134.722656 180 \"/>\n",
       "<path fill-rule=\"nonzero\" fill=\"rgb(100%, 0%, 0%)\" fill-opacity=\"1\" stroke-width=\"1\" stroke-linecap=\"butt\" stroke-linejoin=\"miter\" stroke=\"rgb(0%, 0%, 0%)\" stroke-opacity=\"1\" stroke-miterlimit=\"10\" d=\"M 85.277344 180 C 85.277344 185.523438 80.800781 190 75.277344 190 C 69.753906 190 65.277344 185.523438 65.277344 180 C 65.277344 174.476562 69.753906 170 75.277344 170 C 80.800781 170 85.277344 174.476562 85.277344 180 \"/>\n",
       "<path fill-rule=\"nonzero\" fill=\"rgb(100%, 0%, 0%)\" fill-opacity=\"1\" stroke-width=\"1\" stroke-linecap=\"butt\" stroke-linejoin=\"miter\" stroke=\"rgb(0%, 0%, 0%)\" stroke-opacity=\"1\" stroke-miterlimit=\"10\" d=\"M 45.277344 149.441406 C 45.277344 154.964844 40.800781 159.441406 35.277344 159.441406 C 29.753906 159.441406 25.277344 154.964844 25.277344 149.441406 C 25.277344 143.917969 29.753906 139.441406 35.277344 139.441406 C 40.800781 139.441406 45.277344 143.917969 45.277344 149.441406 \"/>\n",
       "<path fill-rule=\"nonzero\" fill=\"rgb(100%, 0%, 0%)\" fill-opacity=\"1\" stroke-width=\"1\" stroke-linecap=\"butt\" stroke-linejoin=\"miter\" stroke=\"rgb(0%, 0%, 0%)\" stroke-opacity=\"1\" stroke-miterlimit=\"10\" d=\"M 30 100 C 30 105.523438 25.523438 110 20 110 C 14.476562 110 10 105.523438 10 100 C 10 94.476562 14.476562 90 20 90 C 25.523438 90 30 94.476562 30 100 \"/>\n",
       "<path fill-rule=\"nonzero\" fill=\"rgb(100%, 0%, 0%)\" fill-opacity=\"1\" stroke-width=\"1\" stroke-linecap=\"butt\" stroke-linejoin=\"miter\" stroke=\"rgb(0%, 0%, 0%)\" stroke-opacity=\"1\" stroke-miterlimit=\"10\" d=\"M 45.277344 50.558594 C 45.277344 56.082031 40.800781 60.558594 35.277344 60.558594 C 29.753906 60.558594 25.277344 56.082031 25.277344 50.558594 C 25.277344 45.035156 29.753906 40.558594 35.277344 40.558594 C 40.800781 40.558594 45.277344 45.035156 45.277344 50.558594 \"/>\n",
       "<path fill-rule=\"nonzero\" fill=\"rgb(100%, 0%, 0%)\" fill-opacity=\"1\" stroke-width=\"1\" stroke-linecap=\"butt\" stroke-linejoin=\"miter\" stroke=\"rgb(0%, 0%, 0%)\" stroke-opacity=\"1\" stroke-miterlimit=\"10\" d=\"M 85.277344 20 C 85.277344 25.523438 80.800781 30 75.277344 30 C 69.753906 30 65.277344 25.523438 65.277344 20 C 65.277344 14.476562 69.753906 10 75.277344 10 C 80.800781 10 85.277344 14.476562 85.277344 20 \"/>\n",
       "<path fill-rule=\"nonzero\" fill=\"rgb(100%, 0%, 0%)\" fill-opacity=\"1\" stroke-width=\"1\" stroke-linecap=\"butt\" stroke-linejoin=\"miter\" stroke=\"rgb(0%, 0%, 0%)\" stroke-opacity=\"1\" stroke-miterlimit=\"10\" d=\"M 134.722656 20 C 134.722656 25.523438 130.246094 30 124.722656 30 C 119.199219 30 114.722656 25.523438 114.722656 20 C 114.722656 14.476562 119.199219 10 124.722656 10 C 130.246094 10 134.722656 14.476562 134.722656 20 \"/>\n",
       "<path fill-rule=\"nonzero\" fill=\"rgb(100%, 0%, 0%)\" fill-opacity=\"1\" stroke-width=\"1\" stroke-linecap=\"butt\" stroke-linejoin=\"miter\" stroke=\"rgb(0%, 0%, 0%)\" stroke-opacity=\"1\" stroke-miterlimit=\"10\" d=\"M 174.722656 50.558594 C 174.722656 56.082031 170.246094 60.558594 164.722656 60.558594 C 159.199219 60.558594 154.722656 56.082031 154.722656 50.558594 C 154.722656 45.035156 159.199219 40.558594 164.722656 40.558594 C 170.246094 40.558594 174.722656 45.035156 174.722656 50.558594 \"/>\n",
       "<g fill=\"rgb(0%, 0%, 0%)\" fill-opacity=\"1\">\n",
       "<use xlink:href=\"#glyph-0-0\" x=\"176.1875\" y=\"106.503906\"/>\n",
       "</g>\n",
       "<g fill=\"rgb(0%, 0%, 0%)\" fill-opacity=\"1\">\n",
       "<use xlink:href=\"#glyph-0-1\" x=\"161.574219\" y=\"155.925781\"/>\n",
       "</g>\n",
       "<g fill=\"rgb(0%, 0%, 0%)\" fill-opacity=\"1\">\n",
       "<use xlink:href=\"#glyph-0-2\" x=\"120.898438\" y=\"186.523438\"/>\n",
       "</g>\n",
       "<g fill=\"rgb(0%, 0%, 0%)\" fill-opacity=\"1\">\n",
       "<use xlink:href=\"#glyph-0-3\" x=\"71.523438\" y=\"186.511719\"/>\n",
       "</g>\n",
       "<g fill=\"rgb(0%, 0%, 0%)\" fill-opacity=\"1\">\n",
       "<use xlink:href=\"#glyph-0-4\" x=\"31.441406\" y=\"155.960938\"/>\n",
       "</g>\n",
       "<g fill=\"rgb(0%, 0%, 0%)\" fill-opacity=\"1\">\n",
       "<use xlink:href=\"#glyph-0-5\" x=\"16.179688\" y=\"106.421875\"/>\n",
       "</g>\n",
       "<g fill=\"rgb(0%, 0%, 0%)\" fill-opacity=\"1\">\n",
       "<use xlink:href=\"#glyph-0-6\" x=\"31.394531\" y=\"57.082031\"/>\n",
       "</g>\n",
       "<g fill=\"rgb(0%, 0%, 0%)\" fill-opacity=\"1\">\n",
       "<use xlink:href=\"#glyph-0-7\" x=\"71.363281\" y=\"26.421875\"/>\n",
       "</g>\n",
       "<g fill=\"rgb(0%, 0%, 0%)\" fill-opacity=\"1\">\n",
       "<use xlink:href=\"#glyph-0-8\" x=\"120.90625\" y=\"26.519531\"/>\n",
       "</g>\n",
       "<g fill=\"rgb(0%, 0%, 0%)\" fill-opacity=\"1\">\n",
       "<use xlink:href=\"#glyph-0-9\" x=\"160.914062\" y=\"57.070312\"/>\n",
       "</g>\n",
       "</svg>\n"
      ],
      "text/plain": [
       "<igraph.drawing.cairo.plot.CairoPlot at 0x11680c160>"
      ]
     },
     "execution_count": 16,
     "metadata": {
      "image/svg+xml": {
       "isolated": true
      }
     },
     "output_type": "execute_result"
    }
   ],
   "source": [
    "ig.plot(g2,bbox=(200,200),layout='circle',vertex_label=range(N))"
   ]
  },
  {
   "cell_type": "code",
   "execution_count": 17,
   "id": "3c8f006e-cb31-4220-807b-66a317632b53",
   "metadata": {},
   "outputs": [],
   "source": [
    "g3 = ig.Graph.Erdos_Renyi(10000,0.05)"
   ]
  },
  {
   "cell_type": "code",
   "execution_count": 18,
   "id": "efa0176b-add8-4011-91c0-43d74afe557e",
   "metadata": {},
   "outputs": [
    {
     "ename": "TypeError",
     "evalue": "bounding boxes work for 2D layouts only",
     "output_type": "error",
     "traceback": [
      "\u001b[0;31m---------------------------------------------------------------------------\u001b[0m",
      "\u001b[0;31mTypeError\u001b[0m                                 Traceback (most recent call last)",
      "File \u001b[0;32m~/Library/Python/3.9/lib/python/site-packages/IPython/core/formatters.py:344\u001b[0m, in \u001b[0;36mBaseFormatter.__call__\u001b[0;34m(self, obj)\u001b[0m\n\u001b[1;32m    342\u001b[0m     method \u001b[38;5;241m=\u001b[39m get_real_method(obj, \u001b[38;5;28mself\u001b[39m\u001b[38;5;241m.\u001b[39mprint_method)\n\u001b[1;32m    343\u001b[0m     \u001b[38;5;28;01mif\u001b[39;00m method \u001b[38;5;129;01mis\u001b[39;00m \u001b[38;5;129;01mnot\u001b[39;00m \u001b[38;5;28;01mNone\u001b[39;00m:\n\u001b[0;32m--> 344\u001b[0m         \u001b[38;5;28;01mreturn\u001b[39;00m \u001b[43mmethod\u001b[49m\u001b[43m(\u001b[49m\u001b[43m)\u001b[49m\n\u001b[1;32m    345\u001b[0m     \u001b[38;5;28;01mreturn\u001b[39;00m \u001b[38;5;28;01mNone\u001b[39;00m\n\u001b[1;32m    346\u001b[0m \u001b[38;5;28;01melse\u001b[39;00m:\n",
      "File \u001b[0;32m~/Library/Python/3.9/lib/python/site-packages/igraph/drawing/cairo/plot.py:340\u001b[0m, in \u001b[0;36mCairoPlot._repr_svg_\u001b[0;34m(self)\u001b[0m\n\u001b[1;32m    338\u001b[0m context \u001b[38;5;241m=\u001b[39m cairo\u001b[38;5;241m.\u001b[39mContext(surface)\n\u001b[1;32m    339\u001b[0m \u001b[38;5;66;03m# Plot the graph on this context\u001b[39;00m\n\u001b[0;32m--> 340\u001b[0m \u001b[38;5;28;43mself\u001b[39;49m\u001b[38;5;241;43m.\u001b[39;49m\u001b[43mredraw\u001b[49m\u001b[43m(\u001b[49m\u001b[43mcontext\u001b[49m\u001b[43m)\u001b[49m\n\u001b[1;32m    341\u001b[0m \u001b[38;5;66;03m# No idea why this is needed but python crashes without\u001b[39;00m\n\u001b[1;32m    342\u001b[0m context\u001b[38;5;241m.\u001b[39mshow_page()\n",
      "File \u001b[0;32m~/Library/Python/3.9/lib/python/site-packages/igraph/drawing/cairo/plot.py:283\u001b[0m, in \u001b[0;36mCairoPlot.redraw\u001b[0;34m(self, context)\u001b[0m\n\u001b[1;32m    281\u001b[0m \u001b[38;5;28;01melse\u001b[39;00m:\n\u001b[1;32m    282\u001b[0m     ctx\u001b[38;5;241m.\u001b[39msave()\n\u001b[0;32m--> 283\u001b[0m \u001b[43mplotter\u001b[49m\u001b[43m(\u001b[49m\n\u001b[1;32m    284\u001b[0m \u001b[43m    \u001b[49m\u001b[38;5;124;43m\"\u001b[39;49m\u001b[38;5;124;43mcairo\u001b[39;49m\u001b[38;5;124;43m\"\u001b[39;49m\u001b[43m,\u001b[49m\n\u001b[1;32m    285\u001b[0m \u001b[43m    \u001b[49m\u001b[43mctx\u001b[49m\u001b[43m,\u001b[49m\n\u001b[1;32m    286\u001b[0m \u001b[43m    \u001b[49m\u001b[43mbbox\u001b[49m\u001b[38;5;241;43m=\u001b[39;49m\u001b[43mbbox\u001b[49m\u001b[43m,\u001b[49m\n\u001b[1;32m    287\u001b[0m \u001b[43m    \u001b[49m\u001b[43mpalette\u001b[49m\u001b[38;5;241;43m=\u001b[39;49m\u001b[43mpalette\u001b[49m\u001b[43m,\u001b[49m\n\u001b[1;32m    288\u001b[0m \u001b[43m    \u001b[49m\u001b[38;5;241;43m*\u001b[39;49m\u001b[43margs\u001b[49m\u001b[43m,\u001b[49m\u001b[43m  \u001b[49m\u001b[38;5;66;43;03m# noqa: B026\u001b[39;49;00m\n\u001b[1;32m    289\u001b[0m \u001b[43m    \u001b[49m\u001b[38;5;241;43m*\u001b[39;49m\u001b[38;5;241;43m*\u001b[39;49m\u001b[43mkwds\u001b[49m\n\u001b[1;32m    290\u001b[0m \u001b[43m\u001b[49m\u001b[43m)\u001b[49m\n\u001b[1;32m    291\u001b[0m \u001b[38;5;28;01mif\u001b[39;00m opacity \u001b[38;5;241m<\u001b[39m \u001b[38;5;241m1.0\u001b[39m:\n\u001b[1;32m    292\u001b[0m     ctx\u001b[38;5;241m.\u001b[39mpop_group_to_source()\n",
      "File \u001b[0;32m~/Library/Python/3.9/lib/python/site-packages/igraph/drawing/graph.py:561\u001b[0m, in \u001b[0;36m__plot__\u001b[0;34m(self, backend, context, *args, **kwds)\u001b[0m\n\u001b[1;32m    555\u001b[0m \u001b[38;5;28;01mfrom\u001b[39;00m \u001b[38;5;21;01migraph\u001b[39;00m\u001b[38;5;21;01m.\u001b[39;00m\u001b[38;5;21;01mdrawing\u001b[39;00m \u001b[38;5;28;01mimport\u001b[39;00m DrawerDirectory\n\u001b[1;32m    557\u001b[0m drawer \u001b[38;5;241m=\u001b[39m kwds\u001b[38;5;241m.\u001b[39mpop(\n\u001b[1;32m    558\u001b[0m     \u001b[38;5;124m\"\u001b[39m\u001b[38;5;124mdrawer_factory\u001b[39m\u001b[38;5;124m\"\u001b[39m,\n\u001b[1;32m    559\u001b[0m     DrawerDirectory\u001b[38;5;241m.\u001b[39mresolve(\u001b[38;5;28mself\u001b[39m, backend)(context),\n\u001b[1;32m    560\u001b[0m )\n\u001b[0;32m--> 561\u001b[0m \u001b[38;5;28;01mreturn\u001b[39;00m \u001b[43mdrawer\u001b[49m\u001b[38;5;241;43m.\u001b[39;49m\u001b[43mdraw\u001b[49m\u001b[43m(\u001b[49m\u001b[38;5;28;43mself\u001b[39;49m\u001b[43m,\u001b[49m\u001b[43m \u001b[49m\u001b[38;5;241;43m*\u001b[39;49m\u001b[43margs\u001b[49m\u001b[43m,\u001b[49m\u001b[43m \u001b[49m\u001b[38;5;241;43m*\u001b[39;49m\u001b[38;5;241;43m*\u001b[39;49m\u001b[43mkwds\u001b[49m\u001b[43m)\u001b[49m\n",
      "File \u001b[0;32m~/Library/Python/3.9/lib/python/site-packages/igraph/drawing/cairo/graph.py:154\u001b[0m, in \u001b[0;36mCairoGraphDrawer.draw\u001b[0;34m(self, graph, *args, **kwds)\u001b[0m\n\u001b[1;32m    152\u001b[0m \u001b[38;5;66;03m# Contract the drawing area by the margin and fit the layout\u001b[39;00m\n\u001b[1;32m    153\u001b[0m bbox \u001b[38;5;241m=\u001b[39m \u001b[38;5;28mself\u001b[39m\u001b[38;5;241m.\u001b[39mbbox\u001b[38;5;241m.\u001b[39mcontract(margin)\n\u001b[0;32m--> 154\u001b[0m \u001b[43mlayout\u001b[49m\u001b[38;5;241;43m.\u001b[39;49m\u001b[43mfit_into\u001b[49m\u001b[43m(\u001b[49m\u001b[43mbbox\u001b[49m\u001b[43m,\u001b[49m\u001b[43m \u001b[49m\u001b[43mkeep_aspect_ratio\u001b[49m\u001b[38;5;241;43m=\u001b[39;49m\u001b[43mkwds\u001b[49m\u001b[38;5;241;43m.\u001b[39;49m\u001b[43mget\u001b[49m\u001b[43m(\u001b[49m\u001b[38;5;124;43m\"\u001b[39;49m\u001b[38;5;124;43mkeep_aspect_ratio\u001b[39;49m\u001b[38;5;124;43m\"\u001b[39;49m\u001b[43m,\u001b[49m\u001b[43m \u001b[49m\u001b[38;5;28;43;01mFalse\u001b[39;49;00m\u001b[43m)\u001b[49m\u001b[43m)\u001b[49m\n\u001b[1;32m    156\u001b[0m \u001b[38;5;66;03m# Decide whether we need to calculate the curvature of edges\u001b[39;00m\n\u001b[1;32m    157\u001b[0m \u001b[38;5;66;03m# automatically -- and calculate them if needed.\u001b[39;00m\n\u001b[1;32m    158\u001b[0m autocurve \u001b[38;5;241m=\u001b[39m kwds\u001b[38;5;241m.\u001b[39mget(\u001b[38;5;124m\"\u001b[39m\u001b[38;5;124mautocurve\u001b[39m\u001b[38;5;124m\"\u001b[39m, \u001b[38;5;28;01mNone\u001b[39;00m)\n",
      "File \u001b[0;32m~/Library/Python/3.9/lib/python/site-packages/igraph/layout.py:398\u001b[0m, in \u001b[0;36mLayout.fit_into\u001b[0;34m(self, bbox, keep_aspect_ratio)\u001b[0m\n\u001b[1;32m    396\u001b[0m \u001b[38;5;28;01mif\u001b[39;00m \u001b[38;5;28misinstance\u001b[39m(bbox, BoundingBox):\n\u001b[1;32m    397\u001b[0m     \u001b[38;5;28;01mif\u001b[39;00m \u001b[38;5;28mself\u001b[39m\u001b[38;5;241m.\u001b[39m_dim \u001b[38;5;241m!=\u001b[39m \u001b[38;5;241m2\u001b[39m:\n\u001b[0;32m--> 398\u001b[0m         \u001b[38;5;28;01mraise\u001b[39;00m \u001b[38;5;167;01mTypeError\u001b[39;00m(\u001b[38;5;124m\"\u001b[39m\u001b[38;5;124mbounding boxes work for 2D layouts only\u001b[39m\u001b[38;5;124m\"\u001b[39m)\n\u001b[1;32m    399\u001b[0m     corner, target_sizes \u001b[38;5;241m=\u001b[39m [bbox\u001b[38;5;241m.\u001b[39mleft, bbox\u001b[38;5;241m.\u001b[39mtop], [bbox\u001b[38;5;241m.\u001b[39mwidth, bbox\u001b[38;5;241m.\u001b[39mheight]\n\u001b[1;32m    400\u001b[0m \u001b[38;5;28;01melif\u001b[39;00m \u001b[38;5;28mlen\u001b[39m(bbox) \u001b[38;5;241m==\u001b[39m \u001b[38;5;28mself\u001b[39m\u001b[38;5;241m.\u001b[39m_dim:\n",
      "\u001b[0;31mTypeError\u001b[0m: bounding boxes work for 2D layouts only"
     ]
    },
    {
     "data": {
      "text/plain": [
       "<igraph.drawing.cairo.plot.CairoPlot at 0x11692a070>"
      ]
     },
     "execution_count": 18,
     "metadata": {},
     "output_type": "execute_result"
    }
   ],
   "source": [
    "ig.plot(g3,bbox=(300,300))"
   ]
  },
  {
   "cell_type": "code",
   "execution_count": 20,
   "id": "656046f1-4b65-45d0-9793-a3abfe98cc3b",
   "metadata": {},
   "outputs": [
    {
     "data": {
      "text/plain": [
       "(array([  1.,   1.,   5.,   8.,   6.,  17.,  16.,  19.,  61.,  61.,  87.,\n",
       "        140., 154., 188., 313., 233., 316., 507., 395., 448., 662., 555.,\n",
       "        518., 725., 526., 534., 595., 444., 377., 519., 308., 246., 300.,\n",
       "        150., 143., 140.,  83.,  38.,  60.,  30.,  22.,  18.,   8.,   9.,\n",
       "          5.,   4.,   0.,   4.,   0.,   1.]),\n",
       " array([422.  , 425.34, 428.68, 432.02, 435.36, 438.7 , 442.04, 445.38,\n",
       "        448.72, 452.06, 455.4 , 458.74, 462.08, 465.42, 468.76, 472.1 ,\n",
       "        475.44, 478.78, 482.12, 485.46, 488.8 , 492.14, 495.48, 498.82,\n",
       "        502.16, 505.5 , 508.84, 512.18, 515.52, 518.86, 522.2 , 525.54,\n",
       "        528.88, 532.22, 535.56, 538.9 , 542.24, 545.58, 548.92, 552.26,\n",
       "        555.6 , 558.94, 562.28, 565.62, 568.96, 572.3 , 575.64, 578.98,\n",
       "        582.32, 585.66, 589.  ]),\n",
       " <BarContainer object of 50 artists>)"
      ]
     },
     "execution_count": 20,
     "metadata": {},
     "output_type": "execute_result"
    },
    {
     "data": {
      "image/png": "[encoded data removed]",
      "text/plain": [
       "<Figure size 640x480 with 1 Axes>"
      ]
     },
     "metadata": {},
     "output_type": "display_data"
    }
   ],
   "source": [
    "plt.hist(g3.degree(),bins=50)"
   ]
  },
  {
   "cell_type": "code",
   "execution_count": 21,
   "id": "43d8b9c5-7a1c-42af-a182-ebd1779a5606",
   "metadata": {},
   "outputs": [],
   "source": [
    "g4 = ig.Graph.Erdos_Renyi(10000,0.05)"
   ]
  },
  {
   "cell_type": "code",
   "execution_count": null,
   "id": "aa06d97f-757d-490d-b009-09f5391572bb",
   "metadata": {},
   "outputs": [],
   "source": [
    "plt.hist(g3.degree(),bins=50)"
   ]
  }
 ],
 "metadata": {
  "kernelspec": {
   "display_name": "Python 3 (ipykernel)",
   "language": "python",
   "name": "python3"
  },
  "language_info": {
   "codemirror_mode": {
    "name": "ipython",
    "version": 3
   },
   "file_extension": ".py",
   "mimetype": "text/x-python",
   "name": "python",
   "nbconvert_exporter": "python",
   "pygments_lexer": "ipython3",
   "version": "3.9.6"
  }
 },
 "nbformat": 4,
 "nbformat_minor": 5
}
