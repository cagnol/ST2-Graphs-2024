{
 "cells": [
  {
   "cell_type": "markdown",
   "id": "0ea4fc81-d546-46c3-bc61-23a4909b806e",
   "metadata": {},
   "source": [
    "# ST2 Viral Propagation - An introduction to Random Graphs."
   ]
  },
  {
   "cell_type": "code",
   "execution_count": 1,
   "id": "ecc7bec8-8b4f-4ca2-95aa-8e1bdc363893",
   "metadata": {},
   "outputs": [],
   "source": [
    "import numpy as np\n",
    "import matplotlib.pyplot as plt\n",
    "import random as rd\n",
    "import igraph as ig"
   ]
  },
  {
   "cell_type": "code",
   "execution_count": 2,
   "id": "6dd3062d-d8fd-4b60-a74d-1693ccce10cf",
   "metadata": {},
   "outputs": [],
   "source": [
    "g1 = ig.Graph()"
   ]
  },
  {
   "cell_type": "code",
   "execution_count": 3,
   "id": "83512e77-babe-4639-a9fc-beb9b7427de1",
   "metadata": {},
   "outputs": [
    {
     "data": {
      "image/svg+xml": [
       "<?xml version=\"1.0\" encoding=\"UTF-8\"?>\n",
       "<svg xmlns=\"http://www.w3.org/2000/svg\" xmlns:xlink=\"http://www.w3.org/1999/xlink\" width=\"600\" height=\"600\" viewBox=\"0 0 600 600\">\n",
       "<rect x=\"-60\" y=\"-60\" width=\"720\" height=\"720\" fill=\"rgb(100%, 100%, 100%)\" fill-opacity=\"1\"/>\n",
       "</svg>\n"
      ],
      "text/plain": [
       "<igraph.drawing.cairo.plot.CairoPlot at 0x1032e1a00>"
      ]
     },
     "execution_count": 3,
     "metadata": {
      "image/svg+xml": {
       "isolated": true
      }
     },
     "output_type": "execute_result"
    }
   ],
   "source": [
    "ig.plot(g1)"
   ]
  },
  {
   "cell_type": "code",
   "execution_count": 4,
   "id": "4496d041-0f95-40fa-b87c-f1cb44263ca5",
   "metadata": {},
   "outputs": [],
   "source": [
    "N=10"
   ]
  },
  {
   "cell_type": "code",
   "execution_count": 5,
   "id": "09edeaed-dc28-4c78-873a-6b0eaad01ae2",
   "metadata": {},
   "outputs": [],
   "source": [
    "g1.add_vertices(N)"
   ]
  },
  {
   "cell_type": "code",
   "execution_count": 6,
   "id": "0b0b7601-1e9c-4847-9f9b-176ea1edd647",
   "metadata": {},
   "outputs": [
    {
     "data": {
      "image/svg+xml": [
       "<?xml version=\"1.0\" encoding=\"UTF-8\"?>\n",
       "<svg xmlns=\"http://www.w3.org/2000/svg\" xmlns:xlink=\"http://www.w3.org/1999/xlink\" width=\"600\" height=\"600\" viewBox=\"0 0 600 600\">\n",
       "<rect x=\"-60\" y=\"-60\" width=\"720\" height=\"720\" fill=\"rgb(100%, 100%, 100%)\" fill-opacity=\"1\"/>\n",
       "<path fill-rule=\"nonzero\" fill=\"rgb(100%, 0%, 0%)\" fill-opacity=\"1\" stroke-width=\"1\" stroke-linecap=\"butt\" stroke-linejoin=\"miter\" stroke=\"rgb(0%, 0%, 0%)\" stroke-opacity=\"1\" stroke-miterlimit=\"10\" d=\"M 435.09375 21.308594 C 435.09375 26.828125 430.617188 31.308594 425.09375 31.308594 C 419.570312 31.308594 415.09375 26.828125 415.09375 21.308594 C 415.09375 15.785156 419.570312 11.308594 425.09375 11.308594 C 430.617188 11.308594 435.09375 15.785156 435.09375 21.308594 \"/>\n",
       "<path fill-rule=\"nonzero\" fill=\"rgb(100%, 0%, 0%)\" fill-opacity=\"1\" stroke-width=\"1\" stroke-linecap=\"butt\" stroke-linejoin=\"miter\" stroke=\"rgb(0%, 0%, 0%)\" stroke-opacity=\"1\" stroke-miterlimit=\"10\" d=\"M 69.617188 154.382812 C 69.617188 159.902344 65.140625 164.382812 59.617188 164.382812 C 54.097656 164.382812 49.617188 159.902344 49.617188 154.382812 C 49.617188 148.859375 54.097656 144.382812 59.617188 144.382812 C 65.140625 144.382812 69.617188 148.859375 69.617188 154.382812 \"/>\n",
       "<path fill-rule=\"nonzero\" fill=\"rgb(100%, 0%, 0%)\" fill-opacity=\"1\" stroke-width=\"1\" stroke-linecap=\"butt\" stroke-linejoin=\"miter\" stroke=\"rgb(0%, 0%, 0%)\" stroke-opacity=\"1\" stroke-miterlimit=\"10\" d=\"M 184.867188 578.648438 C 184.867188 584.171875 180.386719 588.648438 174.867188 588.648438 C 169.34375 588.648438 164.867188 584.171875 164.867188 578.648438 C 164.867188 573.125 169.34375 568.648438 174.867188 568.648438 C 180.386719 568.648438 184.867188 573.125 184.867188 578.648438 \"/>\n",
       "<path fill-rule=\"nonzero\" fill=\"rgb(100%, 0%, 0%)\" fill-opacity=\"1\" stroke-width=\"1\" stroke-linecap=\"butt\" stroke-linejoin=\"miter\" stroke=\"rgb(0%, 0%, 0%)\" stroke-opacity=\"1\" stroke-miterlimit=\"10\" d=\"M 222.457031 20 C 222.457031 25.523438 217.980469 30 212.457031 30 C 206.933594 30 202.457031 25.523438 202.457031 20 C 202.457031 14.476562 206.933594 10 212.457031 10 C 217.980469 10 222.457031 14.476562 222.457031 20 \"/>\n",
       "<path fill-rule=\"nonzero\" fill=\"rgb(100%, 0%, 0%)\" fill-opacity=\"1\" stroke-width=\"1\" stroke-linecap=\"butt\" stroke-linejoin=\"miter\" stroke=\"rgb(0%, 0%, 0%)\" stroke-opacity=\"1\" stroke-miterlimit=\"10\" d=\"M 231.515625 365.683594 C 231.515625 371.207031 227.039062 375.683594 221.515625 375.683594 C 215.992188 375.683594 211.515625 371.207031 211.515625 365.683594 C 211.515625 360.160156 215.992188 355.683594 221.515625 355.683594 C 227.039062 355.683594 231.515625 360.160156 231.515625 365.683594 \"/>\n",
       "<path fill-rule=\"nonzero\" fill=\"rgb(100%, 0%, 0%)\" fill-opacity=\"1\" stroke-width=\"1\" stroke-linecap=\"butt\" stroke-linejoin=\"miter\" stroke=\"rgb(0%, 0%, 0%)\" stroke-opacity=\"1\" stroke-miterlimit=\"10\" d=\"M 397.492188 580 C 397.492188 585.523438 393.011719 590 387.492188 590 C 381.96875 590 377.492188 585.523438 377.492188 580 C 377.492188 574.476562 381.96875 570 387.492188 570 C 393.011719 570 397.492188 574.476562 397.492188 580 \"/>\n",
       "<path fill-rule=\"nonzero\" fill=\"rgb(100%, 0%, 0%)\" fill-opacity=\"1\" stroke-width=\"1\" stroke-linecap=\"butt\" stroke-linejoin=\"miter\" stroke=\"rgb(0%, 0%, 0%)\" stroke-opacity=\"1\" stroke-miterlimit=\"10\" d=\"M 388.515625 234.25 C 388.515625 239.773438 384.039062 244.25 378.515625 244.25 C 372.992188 244.25 368.515625 239.773438 368.515625 234.25 C 368.515625 228.726562 372.992188 224.25 378.515625 224.25 C 384.039062 224.25 388.515625 228.726562 388.515625 234.25 \"/>\n",
       "<path fill-rule=\"nonzero\" fill=\"rgb(100%, 0%, 0%)\" fill-opacity=\"1\" stroke-width=\"1\" stroke-linecap=\"butt\" stroke-linejoin=\"miter\" stroke=\"rgb(0%, 0%, 0%)\" stroke-opacity=\"1\" stroke-miterlimit=\"10\" d=\"M 550.332031 445.636719 C 550.332031 451.160156 545.855469 455.636719 540.332031 455.636719 C 534.8125 455.636719 530.332031 451.160156 530.332031 445.636719 C 530.332031 440.113281 534.8125 435.636719 540.332031 435.636719 C 545.855469 435.636719 550.332031 440.113281 550.332031 445.636719 \"/>\n",
       "<path fill-rule=\"nonzero\" fill=\"rgb(100%, 0%, 0%)\" fill-opacity=\"1\" stroke-width=\"1\" stroke-linecap=\"butt\" stroke-linejoin=\"miter\" stroke=\"rgb(0%, 0%, 0%)\" stroke-opacity=\"1\" stroke-miterlimit=\"10\" d=\"M 590 219.589844 C 590 225.113281 585.523438 229.589844 580 229.589844 C 574.476562 229.589844 570 225.113281 570 219.589844 C 570 214.066406 574.476562 209.589844 580 209.589844 C 585.523438 209.589844 590 214.066406 590 219.589844 \"/>\n",
       "<path fill-rule=\"nonzero\" fill=\"rgb(100%, 0%, 0%)\" fill-opacity=\"1\" stroke-width=\"1\" stroke-linecap=\"butt\" stroke-linejoin=\"miter\" stroke=\"rgb(0%, 0%, 0%)\" stroke-opacity=\"1\" stroke-miterlimit=\"10\" d=\"M 30 380.421875 C 30 385.945312 25.523438 390.421875 20 390.421875 C 14.476562 390.421875 10 385.945312 10 380.421875 C 10 374.902344 14.476562 370.421875 20 370.421875 C 25.523438 370.421875 30 374.902344 30 380.421875 \"/>\n",
       "</svg>\n"
      ],
      "text/plain": [
       "<igraph.drawing.cairo.plot.CairoPlot at 0x1032e12e0>"
      ]
     },
     "execution_count": 6,
     "metadata": {
      "image/svg+xml": {
       "isolated": true
      }
     },
     "output_type": "execute_result"
    }
   ],
   "source": [
    "ig.plot(g1)"
   ]
  },
  {
   "cell_type": "code",
   "execution_count": 7,
   "id": "77fde9b4-bd91-467f-b036-23c460ac97e0",
   "metadata": {},
   "outputs": [
    {
     "data": {
      "image/svg+xml": [
       "<?xml version=\"1.0\" encoding=\"UTF-8\"?>\n",
       "<svg xmlns=\"http://www.w3.org/2000/svg\" xmlns:xlink=\"http://www.w3.org/1999/xlink\" width=\"200\" height=\"200\" viewBox=\"0 0 200 200\">\n",
       "<rect x=\"-20\" y=\"-20\" width=\"240\" height=\"240\" fill=\"rgb(100%, 100%, 100%)\" fill-opacity=\"1\"/>\n",
       "<path fill-rule=\"nonzero\" fill=\"rgb(100%, 0%, 0%)\" fill-opacity=\"1\" stroke-width=\"1\" stroke-linecap=\"butt\" stroke-linejoin=\"miter\" stroke=\"rgb(0%, 0%, 0%)\" stroke-opacity=\"1\" stroke-miterlimit=\"10\" d=\"M 30 72.214844 C 30 77.738281 25.523438 82.214844 20 82.214844 C 14.476562 82.214844 10 77.738281 10 72.214844 C 10 66.691406 14.476562 62.214844 20 62.214844 C 25.523438 62.214844 30 66.691406 30 72.214844 \"/>\n",
       "<path fill-rule=\"nonzero\" fill=\"rgb(100%, 0%, 0%)\" fill-opacity=\"1\" stroke-width=\"1\" stroke-linecap=\"butt\" stroke-linejoin=\"miter\" stroke=\"rgb(0%, 0%, 0%)\" stroke-opacity=\"1\" stroke-miterlimit=\"10\" d=\"M 109.785156 129.929688 C 109.785156 135.453125 105.308594 139.929688 99.785156 139.929688 C 94.261719 139.929688 89.785156 135.453125 89.785156 129.929688 C 89.785156 124.40625 94.261719 119.929688 99.785156 119.929688 C 105.308594 119.929688 109.785156 124.40625 109.785156 129.929688 \"/>\n",
       "<path fill-rule=\"nonzero\" fill=\"rgb(100%, 0%, 0%)\" fill-opacity=\"1\" stroke-width=\"1\" stroke-linecap=\"butt\" stroke-linejoin=\"miter\" stroke=\"rgb(0%, 0%, 0%)\" stroke-opacity=\"1\" stroke-miterlimit=\"10\" d=\"M 144.863281 20 C 144.863281 25.523438 140.382812 30 134.863281 30 C 129.339844 30 124.863281 25.523438 124.863281 20 C 124.863281 14.476562 129.339844 10 134.863281 10 C 140.382812 10 144.863281 14.476562 144.863281 20 \"/>\n",
       "<path fill-rule=\"nonzero\" fill=\"rgb(100%, 0%, 0%)\" fill-opacity=\"1\" stroke-width=\"1\" stroke-linecap=\"butt\" stroke-linejoin=\"miter\" stroke=\"rgb(0%, 0%, 0%)\" stroke-opacity=\"1\" stroke-miterlimit=\"10\" d=\"M 31.25 131.550781 C 31.25 137.074219 26.773438 141.550781 21.25 141.550781 C 15.730469 141.550781 11.25 137.074219 11.25 131.550781 C 11.25 126.027344 15.730469 121.550781 21.25 121.550781 C 26.773438 121.550781 31.25 126.027344 31.25 131.550781 \"/>\n",
       "<path fill-rule=\"nonzero\" fill=\"rgb(100%, 0%, 0%)\" fill-opacity=\"1\" stroke-width=\"1\" stroke-linecap=\"butt\" stroke-linejoin=\"miter\" stroke=\"rgb(0%, 0%, 0%)\" stroke-opacity=\"1\" stroke-miterlimit=\"10\" d=\"M 70.652344 22.214844 C 70.652344 27.738281 66.175781 32.214844 60.652344 32.214844 C 55.128906 32.214844 50.652344 27.738281 50.652344 22.214844 C 50.652344 16.691406 55.128906 12.214844 60.652344 12.214844 C 66.175781 12.214844 70.652344 16.691406 70.652344 22.214844 \"/>\n",
       "<path fill-rule=\"nonzero\" fill=\"rgb(100%, 0%, 0%)\" fill-opacity=\"1\" stroke-width=\"1\" stroke-linecap=\"butt\" stroke-linejoin=\"miter\" stroke=\"rgb(0%, 0%, 0%)\" stroke-opacity=\"1\" stroke-miterlimit=\"10\" d=\"M 188.664062 68.230469 C 188.664062 73.753906 184.183594 78.230469 178.664062 78.230469 C 173.140625 78.230469 168.664062 73.753906 168.664062 68.230469 C 168.664062 62.707031 173.140625 58.230469 178.664062 58.230469 C 184.183594 58.230469 188.664062 62.707031 188.664062 68.230469 \"/>\n",
       "<path fill-rule=\"nonzero\" fill=\"rgb(100%, 0%, 0%)\" fill-opacity=\"1\" stroke-width=\"1\" stroke-linecap=\"butt\" stroke-linejoin=\"miter\" stroke=\"rgb(0%, 0%, 0%)\" stroke-opacity=\"1\" stroke-miterlimit=\"10\" d=\"M 75.140625 180 C 75.140625 185.523438 70.664062 190 65.140625 190 C 59.617188 190 55.140625 185.523438 55.140625 180 C 55.140625 174.476562 59.617188 170 65.140625 170 C 70.664062 170 75.140625 174.476562 75.140625 180 \"/>\n",
       "<path fill-rule=\"nonzero\" fill=\"rgb(100%, 0%, 0%)\" fill-opacity=\"1\" stroke-width=\"1\" stroke-linecap=\"butt\" stroke-linejoin=\"miter\" stroke=\"rgb(0%, 0%, 0%)\" stroke-opacity=\"1\" stroke-miterlimit=\"10\" d=\"M 149.570312 177.480469 C 149.570312 183.003906 145.09375 187.480469 139.570312 187.480469 C 134.046875 187.480469 129.570312 183.003906 129.570312 177.480469 C 129.570312 171.957031 134.046875 167.480469 139.570312 167.480469 C 145.09375 167.480469 149.570312 171.957031 149.570312 177.480469 \"/>\n",
       "<path fill-rule=\"nonzero\" fill=\"rgb(100%, 0%, 0%)\" fill-opacity=\"1\" stroke-width=\"1\" stroke-linecap=\"butt\" stroke-linejoin=\"miter\" stroke=\"rgb(0%, 0%, 0%)\" stroke-opacity=\"1\" stroke-miterlimit=\"10\" d=\"M 190 127.472656 C 190 132.996094 185.523438 137.472656 180 137.472656 C 174.476562 137.472656 170 132.996094 170 127.472656 C 170 121.949219 174.476562 117.472656 180 117.472656 C 185.523438 117.472656 190 121.949219 190 127.472656 \"/>\n",
       "<path fill-rule=\"nonzero\" fill=\"rgb(100%, 0%, 0%)\" fill-opacity=\"1\" stroke-width=\"1\" stroke-linecap=\"butt\" stroke-linejoin=\"miter\" stroke=\"rgb(0%, 0%, 0%)\" stroke-opacity=\"1\" stroke-miterlimit=\"10\" d=\"M 109.945312 70.183594 C 109.945312 75.707031 105.46875 80.183594 99.945312 80.183594 C 94.421875 80.183594 89.945312 75.707031 89.945312 70.183594 C 89.945312 64.664062 94.421875 60.183594 99.945312 60.183594 C 105.46875 60.183594 109.945312 64.664062 109.945312 70.183594 \"/>\n",
       "</svg>\n"
      ],
      "text/plain": [
       "<igraph.drawing.cairo.plot.CairoPlot at 0x1163c8e80>"
      ]
     },
     "execution_count": 7,
     "metadata": {
      "image/svg+xml": {
       "isolated": true
      }
     },
     "output_type": "execute_result"
    }
   ],
   "source": [
    "ig.plot(g1,bbox=(200,200))"
   ]
  },
  {
   "cell_type": "code",
   "execution_count": null,
   "id": "554bc518-ab41-42cc-b4b8-0e433ab0ff5b",
   "metadata": {},
   "outputs": [],
   "source": []
  }
 ],
 "metadata": {
  "kernelspec": {
   "display_name": "Python 3 (ipykernel)",
   "language": "python",
   "name": "python3"
  },
  "language_info": {
   "codemirror_mode": {
    "name": "ipython",
    "version": 3
   },
   "file_extension": ".py",
   "mimetype": "text/x-python",
   "name": "python",
   "nbconvert_exporter": "python",
   "pygments_lexer": "ipython3",
   "version": "3.9.6"
  }
 },
 "nbformat": 4,
 "nbformat_minor": 5
}
