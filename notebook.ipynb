{
 "cells": [
  {
   "cell_type": "markdown",
   "id": "0ea4fc81-d546-46c3-bc61-23a4909b806e",
   "metadata": {},
   "source": [
    "# ST2 Viral Propagation - An introduction to Random Graphs\n",
    "Friday, January 19th 2024"
   ]
  },
  {
   "cell_type": "markdown",
   "id": "c480fd7c-39f5-47a7-9144-c28842746dbd",
   "metadata": {},
   "source": [
    "## Introduction"
   ]
  },
  {
   "cell_type": "code",
   "execution_count": 13,
   "id": "3051bb8c-b71c-4aa9-a126-96dc2aed14af",
   "metadata": {},
   "outputs": [],
   "source": [
    "import numpy as np\n",
    "import matplotlib.pyplot as plt\n",
    "import random as rd\n",
    "import igraph as ig"
   ]
  },
  {
   "cell_type": "markdown",
   "id": "2e7d7487-e4d0-461e-b172-44dc4bea6523",
   "metadata": {},
   "source": [
    "## The Erdos-Reny Model"
   ]
  },
  {
   "cell_type": "code",
   "execution_count": 14,
   "id": "ac845c41-0578-49bd-bee5-38ccc48e0a75",
   "metadata": {},
   "outputs": [],
   "source": [
    "g1 = ig.Graph()"
   ]
  },
  {
   "cell_type": "code",
   "execution_count": 15,
   "id": "f3bc91b4-b4fb-44b1-b151-ddc670966981",
   "metadata": {},
   "outputs": [
    {
     "data": {
      "image/svg+xml": [
       "<?xml version=\"1.0\" encoding=\"UTF-8\"?>\n",
       "<svg xmlns=\"http://www.w3.org/2000/svg\" xmlns:xlink=\"http://www.w3.org/1999/xlink\" width=\"600\" height=\"600\" viewBox=\"0 0 600 600\">\n",
       "<rect x=\"-60\" y=\"-60\" width=\"720\" height=\"720\" fill=\"rgb(100%, 100%, 100%)\" fill-opacity=\"1\"/>\n",
       "</svg>\n"
      ],
      "text/plain": [
       "<igraph.drawing.cairo.plot.CairoPlot at 0x123dc3be0>"
      ]
     },
     "execution_count": 15,
     "metadata": {
      "image/svg+xml": {
       "isolated": true
      }
     },
     "output_type": "execute_result"
    }
   ],
   "source": [
    "ig.plot(g1)"
   ]
  },
  {
   "cell_type": "code",
   "execution_count": 16,
   "id": "95b9a7c2-39b1-4cff-b891-cb65edab2052",
   "metadata": {},
   "outputs": [],
   "source": [
    "N = 10"
   ]
  },
  {
   "cell_type": "code",
   "execution_count": 17,
   "id": "407b7ac5-cb29-4c67-b625-de03a1e1a603",
   "metadata": {},
   "outputs": [],
   "source": [
    "g1.add_vertices(N)"
   ]
  },
  {
   "cell_type": "code",
   "execution_count": 18,
   "id": "f21faa83-6f37-444f-9d61-b119387bf9fa",
   "metadata": {},
   "outputs": [
    {
     "data": {
      "image/svg+xml": [
       "<?xml version=\"1.0\" encoding=\"UTF-8\"?>\n",
       "<svg xmlns=\"http://www.w3.org/2000/svg\" xmlns:xlink=\"http://www.w3.org/1999/xlink\" width=\"200\" height=\"200\" viewBox=\"0 0 200 200\">\n",
       "<rect x=\"-20\" y=\"-20\" width=\"240\" height=\"240\" fill=\"rgb(100%, 100%, 100%)\" fill-opacity=\"1\"/>\n",
       "<path fill-rule=\"nonzero\" fill=\"rgb(100%, 0%, 0%)\" fill-opacity=\"1\" stroke-width=\"1\" stroke-linecap=\"butt\" stroke-linejoin=\"miter\" stroke=\"rgb(0%, 0%, 0%)\" stroke-opacity=\"1\" stroke-miterlimit=\"10\" d=\"M 89.796875 180 C 89.796875 185.523438 85.320312 190 79.796875 190 C 74.273438 190 69.796875 185.523438 69.796875 180 C 69.796875 174.476562 74.273438 170 79.796875 170 C 85.320312 170 89.796875 174.476562 89.796875 180 \"/>\n",
       "<path fill-rule=\"nonzero\" fill=\"rgb(100%, 0%, 0%)\" fill-opacity=\"1\" stroke-width=\"1\" stroke-linecap=\"butt\" stroke-linejoin=\"miter\" stroke=\"rgb(0%, 0%, 0%)\" stroke-opacity=\"1\" stroke-miterlimit=\"10\" d=\"M 44.183594 147.84375 C 44.183594 153.367188 39.707031 157.84375 34.183594 157.84375 C 28.660156 157.84375 24.183594 153.367188 24.183594 147.84375 C 24.183594 142.320312 28.660156 137.84375 34.183594 137.84375 C 39.707031 137.84375 44.183594 142.320312 44.183594 147.84375 \"/>\n",
       "<path fill-rule=\"nonzero\" fill=\"rgb(100%, 0%, 0%)\" fill-opacity=\"1\" stroke-width=\"1\" stroke-linecap=\"butt\" stroke-linejoin=\"miter\" stroke=\"rgb(0%, 0%, 0%)\" stroke-opacity=\"1\" stroke-miterlimit=\"10\" d=\"M 190 80.363281 C 190 85.886719 185.523438 90.363281 180 90.363281 C 174.476562 90.363281 170 85.886719 170 80.363281 C 170 74.839844 174.476562 70.363281 180 70.363281 C 185.523438 70.363281 190 74.839844 190 80.363281 \"/>\n",
       "<path fill-rule=\"nonzero\" fill=\"rgb(100%, 0%, 0%)\" fill-opacity=\"1\" stroke-width=\"1\" stroke-linecap=\"butt\" stroke-linejoin=\"miter\" stroke=\"rgb(0%, 0%, 0%)\" stroke-opacity=\"1\" stroke-miterlimit=\"10\" d=\"M 184.914062 135.933594 C 184.914062 141.457031 180.4375 145.933594 174.914062 145.933594 C 169.394531 145.933594 164.914062 141.457031 164.914062 135.933594 C 164.914062 130.414062 169.394531 125.933594 174.914062 125.933594 C 180.4375 125.933594 184.914062 130.414062 184.914062 135.933594 \"/>\n",
       "<path fill-rule=\"nonzero\" fill=\"rgb(100%, 0%, 0%)\" fill-opacity=\"1\" stroke-width=\"1\" stroke-linecap=\"butt\" stroke-linejoin=\"miter\" stroke=\"rgb(0%, 0%, 0%)\" stroke-opacity=\"1\" stroke-miterlimit=\"10\" d=\"M 53.648438 43.347656 C 53.648438 48.871094 49.171875 53.347656 43.648438 53.347656 C 38.125 53.347656 33.648438 48.871094 33.648438 43.347656 C 33.648438 37.828125 38.125 33.347656 43.648438 33.347656 C 49.171875 33.347656 53.648438 37.828125 53.648438 43.347656 \"/>\n",
       "<path fill-rule=\"nonzero\" fill=\"rgb(100%, 0%, 0%)\" fill-opacity=\"1\" stroke-width=\"1\" stroke-linecap=\"butt\" stroke-linejoin=\"miter\" stroke=\"rgb(0%, 0%, 0%)\" stroke-opacity=\"1\" stroke-miterlimit=\"10\" d=\"M 145.371094 175.257812 C 145.371094 180.78125 140.890625 185.257812 135.371094 185.257812 C 129.847656 185.257812 125.371094 180.78125 125.371094 175.257812 C 125.371094 169.734375 129.847656 165.257812 135.371094 165.257812 C 140.890625 165.257812 145.371094 169.734375 145.371094 175.257812 \"/>\n",
       "<path fill-rule=\"nonzero\" fill=\"rgb(100%, 0%, 0%)\" fill-opacity=\"1\" stroke-width=\"1\" stroke-linecap=\"butt\" stroke-linejoin=\"miter\" stroke=\"rgb(0%, 0%, 0%)\" stroke-opacity=\"1\" stroke-miterlimit=\"10\" d=\"M 158.144531 34.527344 C 158.144531 40.050781 153.667969 44.527344 148.144531 44.527344 C 142.621094 44.527344 138.144531 40.050781 138.144531 34.527344 C 138.144531 29.003906 142.621094 24.527344 148.144531 24.527344 C 153.667969 24.527344 158.144531 29.003906 158.144531 34.527344 \"/>\n",
       "<path fill-rule=\"nonzero\" fill=\"rgb(100%, 0%, 0%)\" fill-opacity=\"1\" stroke-width=\"1\" stroke-linecap=\"butt\" stroke-linejoin=\"miter\" stroke=\"rgb(0%, 0%, 0%)\" stroke-opacity=\"1\" stroke-miterlimit=\"10\" d=\"M 104.292969 20 C 104.292969 25.523438 99.8125 30 94.292969 30 C 88.769531 30 84.292969 25.523438 84.292969 20 C 84.292969 14.476562 88.769531 10 94.292969 10 C 99.8125 10 104.292969 14.476562 104.292969 20 \"/>\n",
       "<path fill-rule=\"nonzero\" fill=\"rgb(100%, 0%, 0%)\" fill-opacity=\"1\" stroke-width=\"1\" stroke-linecap=\"butt\" stroke-linejoin=\"miter\" stroke=\"rgb(0%, 0%, 0%)\" stroke-opacity=\"1\" stroke-miterlimit=\"10\" d=\"M 111.164062 101.253906 C 111.164062 106.777344 106.6875 111.253906 101.164062 111.253906 C 95.640625 111.253906 91.164062 106.777344 91.164062 101.253906 C 91.164062 95.730469 95.640625 91.253906 101.164062 91.253906 C 106.6875 91.253906 111.164062 95.730469 111.164062 101.253906 \"/>\n",
       "<path fill-rule=\"nonzero\" fill=\"rgb(100%, 0%, 0%)\" fill-opacity=\"1\" stroke-width=\"1\" stroke-linecap=\"butt\" stroke-linejoin=\"miter\" stroke=\"rgb(0%, 0%, 0%)\" stroke-opacity=\"1\" stroke-miterlimit=\"10\" d=\"M 30 93.871094 C 30 99.394531 25.523438 103.871094 20 103.871094 C 14.476562 103.871094 10 99.394531 10 93.871094 C 10 88.351562 14.476562 83.871094 20 83.871094 C 25.523438 83.871094 30 88.351562 30 93.871094 \"/>\n",
       "</svg>\n"
      ],
      "text/plain": [
       "<igraph.drawing.cairo.plot.CairoPlot at 0x10cc359a0>"
      ]
     },
     "execution_count": 18,
     "metadata": {
      "image/svg+xml": {
       "isolated": true
      }
     },
     "output_type": "execute_result"
    }
   ],
   "source": [
    "ig.plot(g1,bbox=(200,200))"
   ]
  },
  {
   "cell_type": "code",
   "execution_count": 19,
   "id": "28ef19a8-6e4b-4d77-b167-e5c941dddc39",
   "metadata": {},
   "outputs": [
    {
     "name": "stdout",
     "output_type": "stream",
     "text": [
      "Help on method _add_vertices in module igraph.basic:\n",
      "\n",
      "_add_vertices(n, attributes=None) method of igraph.Graph instance\n",
      "    Adds some vertices to the graph.\n",
      "    \n",
      "    Note that if C{n} is a sequence of strings, indicating the names of the\n",
      "    new vertices, and attributes has a key C{name}, the two conflict. In\n",
      "    that case the attribute will be applied.\n",
      "    \n",
      "    @param n: the number of vertices to be added, or the name of a single\n",
      "      vertex to be added, or a sequence of strings, each corresponding to the\n",
      "      name of a vertex to be added. Names will be assigned to the C{name}\n",
      "      vertex attribute.\n",
      "    @param attributes: dict of sequences, all of length equal to the\n",
      "      number of vertices to be added, containing the attributes of the new\n",
      "      vertices. If n is a string (so a single vertex is added), then the\n",
      "      values of this dict are the attributes themselves, but if n=1 then\n",
      "      they have to be lists of length 1.\n",
      "\n"
     ]
    }
   ],
   "source": [
    "help(g1.add_vertices)"
   ]
  },
  {
   "cell_type": "code",
   "execution_count": 21,
   "id": "85b5c597-05ea-4003-a811-37e48f5f0fdf",
   "metadata": {},
   "outputs": [],
   "source": [
    "for i in range(N):\n",
    "    for j in range(i):\n",
    "        if rd.randint(0,1) == 1:\n",
    "            g1.add_edges([(i,j)])"
   ]
  },
  {
   "cell_type": "code",
   "execution_count": null,
   "id": "878b5d02-a0a9-42d1-aa8e-929b3d8468c2",
   "metadata": {},
   "outputs": [],
   "source": []
  },
  {
   "cell_type": "code",
   "execution_count": null,
   "id": "b583f641-5de7-48e2-96a1-683564ad85ad",
   "metadata": {},
   "outputs": [],
   "source": []
  }
 ],
 "metadata": {
  "kernelspec": {
   "display_name": "Python 3 (ipykernel)",
   "language": "python",
   "name": "python3"
  },
  "language_info": {
   "codemirror_mode": {
    "name": "ipython",
    "version": 3
   },
   "file_extension": ".py",
   "mimetype": "text/x-python",
   "name": "python",
   "nbconvert_exporter": "python",
   "pygments_lexer": "ipython3",
   "version": "3.9.6"
  }
 },
 "nbformat": 4,
 "nbformat_minor": 5
}
