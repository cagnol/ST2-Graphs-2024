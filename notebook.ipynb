{
 "cells": [
  {
   "cell_type": "markdown",
   "id": "0ea4fc81-d546-46c3-bc61-23a4909b806e",
   "metadata": {},
   "source": [
    "# ST2 Viral Propagation - An introduction to Random Graphs\n",
    "Friday, January 19th 2024"
   ]
  },
  {
   "cell_type": "markdown",
   "id": "c480fd7c-39f5-47a7-9144-c28842746dbd",
   "metadata": {},
   "source": [
    "## Introduction"
   ]
  },
  {
   "cell_type": "code",
   "execution_count": 13,
   "id": "3051bb8c-b71c-4aa9-a126-96dc2aed14af",
   "metadata": {},
   "outputs": [],
   "source": [
    "import numpy as np\n",
    "import matplotlib.pyplot as plt\n",
    "import random as rd\n",
    "import igraph as ig"
   ]
  },
  {
   "cell_type": "markdown",
   "id": "2e7d7487-e4d0-461e-b172-44dc4bea6523",
   "metadata": {},
   "source": [
    "## The Erdos-Reny Model"
   ]
  },
  {
   "cell_type": "code",
   "execution_count": 14,
   "id": "ac845c41-0578-49bd-bee5-38ccc48e0a75",
   "metadata": {},
   "outputs": [],
   "source": [
    "g1 = ig.Graph()"
   ]
  },
  {
   "cell_type": "code",
   "execution_count": 15,
   "id": "f3bc91b4-b4fb-44b1-b151-ddc670966981",
   "metadata": {},
   "outputs": [
    {
     "data": {
      "image/svg+xml": [
       "<?xml version=\"1.0\" encoding=\"UTF-8\"?>\n",
       "<svg xmlns=\"http://www.w3.org/2000/svg\" xmlns:xlink=\"http://www.w3.org/1999/xlink\" width=\"600\" height=\"600\" viewBox=\"0 0 600 600\">\n",
       "<rect x=\"-60\" y=\"-60\" width=\"720\" height=\"720\" fill=\"rgb(100%, 100%, 100%)\" fill-opacity=\"1\"/>\n",
       "</svg>\n"
      ],
      "text/plain": [
       "<igraph.drawing.cairo.plot.CairoPlot at 0x123dc3be0>"
      ]
     },
     "execution_count": 15,
     "metadata": {
      "image/svg+xml": {
       "isolated": true
      }
     },
     "output_type": "execute_result"
    }
   ],
   "source": [
    "ig.plot(g1)"
   ]
  },
  {
   "cell_type": "code",
   "execution_count": 16,
   "id": "95b9a7c2-39b1-4cff-b891-cb65edab2052",
   "metadata": {},
   "outputs": [],
   "source": [
    "N = 10"
   ]
  },
  {
   "cell_type": "code",
   "execution_count": 17,
   "id": "407b7ac5-cb29-4c67-b625-de03a1e1a603",
   "metadata": {},
   "outputs": [],
   "source": [
    "g1.add_vertices(N)"
   ]
  },
  {
   "cell_type": "code",
   "execution_count": 18,
   "id": "f21faa83-6f37-444f-9d61-b119387bf9fa",
   "metadata": {},
   "outputs": [
    {
     "data": {
      "image/svg+xml": [
       "<?xml version=\"1.0\" encoding=\"UTF-8\"?>\n",
       "<svg xmlns=\"http://www.w3.org/2000/svg\" xmlns:xlink=\"http://www.w3.org/1999/xlink\" width=\"200\" height=\"200\" viewBox=\"0 0 200 200\">\n",
       "<rect x=\"-20\" y=\"-20\" width=\"240\" height=\"240\" fill=\"rgb(100%, 100%, 100%)\" fill-opacity=\"1\"/>\n",
       "<path fill-rule=\"nonzero\" fill=\"rgb(100%, 0%, 0%)\" fill-opacity=\"1\" stroke-width=\"1\" stroke-linecap=\"butt\" stroke-linejoin=\"miter\" stroke=\"rgb(0%, 0%, 0%)\" stroke-opacity=\"1\" stroke-miterlimit=\"10\" d=\"M 89.796875 180 C 89.796875 185.523438 85.320312 190 79.796875 190 C 74.273438 190 69.796875 185.523438 69.796875 180 C 69.796875 174.476562 74.273438 170 79.796875 170 C 85.320312 170 89.796875 174.476562 89.796875 180 \"/>\n",
       "<path fill-rule=\"nonzero\" fill=\"rgb(100%, 0%, 0%)\" fill-opacity=\"1\" stroke-width=\"1\" stroke-linecap=\"butt\" stroke-linejoin=\"miter\" stroke=\"rgb(0%, 0%, 0%)\" stroke-opacity=\"1\" stroke-miterlimit=\"10\" d=\"M 44.183594 147.84375 C 44.183594 153.367188 39.707031 157.84375 34.183594 157.84375 C 28.660156 157.84375 24.183594 153.367188 24.183594 147.84375 C 24.183594 142.320312 28.660156 137.84375 34.183594 137.84375 C 39.707031 137.84375 44.183594 142.320312 44.183594 147.84375 \"/>\n",
       "<path fill-rule=\"nonzero\" fill=\"rgb(100%, 0%, 0%)\" fill-opacity=\"1\" stroke-width=\"1\" stroke-linecap=\"butt\" stroke-linejoin=\"miter\" stroke=\"rgb(0%, 0%, 0%)\" stroke-opacity=\"1\" stroke-miterlimit=\"10\" d=\"M 190 80.363281 C 190 85.886719 185.523438 90.363281 180 90.363281 C 174.476562 90.363281 170 85.886719 170 80.363281 C 170 74.839844 174.476562 70.363281 180 70.363281 C 185.523438 70.363281 190 74.839844 190 80.363281 \"/>\n",
       "<path fill-rule=\"nonzero\" fill=\"rgb(100%, 0%, 0%)\" fill-opacity=\"1\" stroke-width=\"1\" stroke-linecap=\"butt\" stroke-linejoin=\"miter\" stroke=\"rgb(0%, 0%, 0%)\" stroke-opacity=\"1\" stroke-miterlimit=\"10\" d=\"M 184.914062 135.933594 C 184.914062 141.457031 180.4375 145.933594 174.914062 145.933594 C 169.394531 145.933594 164.914062 141.457031 164.914062 135.933594 C 164.914062 130.414062 169.394531 125.933594 174.914062 125.933594 C 180.4375 125.933594 184.914062 130.414062 184.914062 135.933594 \"/>\n",
       "<path fill-rule=\"nonzero\" fill=\"rgb(100%, 0%, 0%)\" fill-opacity=\"1\" stroke-width=\"1\" stroke-linecap=\"butt\" stroke-linejoin=\"miter\" stroke=\"rgb(0%, 0%, 0%)\" stroke-opacity=\"1\" stroke-miterlimit=\"10\" d=\"M 53.648438 43.347656 C 53.648438 48.871094 49.171875 53.347656 43.648438 53.347656 C 38.125 53.347656 33.648438 48.871094 33.648438 43.347656 C 33.648438 37.828125 38.125 33.347656 43.648438 33.347656 C 49.171875 33.347656 53.648438 37.828125 53.648438 43.347656 \"/>\n",
       "<path fill-rule=\"nonzero\" fill=\"rgb(100%, 0%, 0%)\" fill-opacity=\"1\" stroke-width=\"1\" stroke-linecap=\"butt\" stroke-linejoin=\"miter\" stroke=\"rgb(0%, 0%, 0%)\" stroke-opacity=\"1\" stroke-miterlimit=\"10\" d=\"M 145.371094 175.257812 C 145.371094 180.78125 140.890625 185.257812 135.371094 185.257812 C 129.847656 185.257812 125.371094 180.78125 125.371094 175.257812 C 125.371094 169.734375 129.847656 165.257812 135.371094 165.257812 C 140.890625 165.257812 145.371094 169.734375 145.371094 175.257812 \"/>\n",
       "<path fill-rule=\"nonzero\" fill=\"rgb(100%, 0%, 0%)\" fill-opacity=\"1\" stroke-width=\"1\" stroke-linecap=\"butt\" stroke-linejoin=\"miter\" stroke=\"rgb(0%, 0%, 0%)\" stroke-opacity=\"1\" stroke-miterlimit=\"10\" d=\"M 158.144531 34.527344 C 158.144531 40.050781 153.667969 44.527344 148.144531 44.527344 C 142.621094 44.527344 138.144531 40.050781 138.144531 34.527344 C 138.144531 29.003906 142.621094 24.527344 148.144531 24.527344 C 153.667969 24.527344 158.144531 29.003906 158.144531 34.527344 \"/>\n",
       "<path fill-rule=\"nonzero\" fill=\"rgb(100%, 0%, 0%)\" fill-opacity=\"1\" stroke-width=\"1\" stroke-linecap=\"butt\" stroke-linejoin=\"miter\" stroke=\"rgb(0%, 0%, 0%)\" stroke-opacity=\"1\" stroke-miterlimit=\"10\" d=\"M 104.292969 20 C 104.292969 25.523438 99.8125 30 94.292969 30 C 88.769531 30 84.292969 25.523438 84.292969 20 C 84.292969 14.476562 88.769531 10 94.292969 10 C 99.8125 10 104.292969 14.476562 104.292969 20 \"/>\n",
       "<path fill-rule=\"nonzero\" fill=\"rgb(100%, 0%, 0%)\" fill-opacity=\"1\" stroke-width=\"1\" stroke-linecap=\"butt\" stroke-linejoin=\"miter\" stroke=\"rgb(0%, 0%, 0%)\" stroke-opacity=\"1\" stroke-miterlimit=\"10\" d=\"M 111.164062 101.253906 C 111.164062 106.777344 106.6875 111.253906 101.164062 111.253906 C 95.640625 111.253906 91.164062 106.777344 91.164062 101.253906 C 91.164062 95.730469 95.640625 91.253906 101.164062 91.253906 C 106.6875 91.253906 111.164062 95.730469 111.164062 101.253906 \"/>\n",
       "<path fill-rule=\"nonzero\" fill=\"rgb(100%, 0%, 0%)\" fill-opacity=\"1\" stroke-width=\"1\" stroke-linecap=\"butt\" stroke-linejoin=\"miter\" stroke=\"rgb(0%, 0%, 0%)\" stroke-opacity=\"1\" stroke-miterlimit=\"10\" d=\"M 30 93.871094 C 30 99.394531 25.523438 103.871094 20 103.871094 C 14.476562 103.871094 10 99.394531 10 93.871094 C 10 88.351562 14.476562 83.871094 20 83.871094 C 25.523438 83.871094 30 88.351562 30 93.871094 \"/>\n",
       "</svg>\n"
      ],
      "text/plain": [
       "<igraph.drawing.cairo.plot.CairoPlot at 0x10cc359a0>"
      ]
     },
     "execution_count": 18,
     "metadata": {
      "image/svg+xml": {
       "isolated": true
      }
     },
     "output_type": "execute_result"
    }
   ],
   "source": [
    "ig.plot(g1,bbox=(200,200))"
   ]
  },
  {
   "cell_type": "code",
   "execution_count": 19,
   "id": "28ef19a8-6e4b-4d77-b167-e5c941dddc39",
   "metadata": {},
   "outputs": [
    {
     "name": "stdout",
     "output_type": "stream",
     "text": [
      "Help on method _add_vertices in module igraph.basic:\n",
      "\n",
      "_add_vertices(n, attributes=None) method of igraph.Graph instance\n",
      "    Adds some vertices to the graph.\n",
      "    \n",
      "    Note that if C{n} is a sequence of strings, indicating the names of the\n",
      "    new vertices, and attributes has a key C{name}, the two conflict. In\n",
      "    that case the attribute will be applied.\n",
      "    \n",
      "    @param n: the number of vertices to be added, or the name of a single\n",
      "      vertex to be added, or a sequence of strings, each corresponding to the\n",
      "      name of a vertex to be added. Names will be assigned to the C{name}\n",
      "      vertex attribute.\n",
      "    @param attributes: dict of sequences, all of length equal to the\n",
      "      number of vertices to be added, containing the attributes of the new\n",
      "      vertices. If n is a string (so a single vertex is added), then the\n",
      "      values of this dict are the attributes themselves, but if n=1 then\n",
      "      they have to be lists of length 1.\n",
      "\n"
     ]
    }
   ],
   "source": [
    "help(g1.add_vertices)"
   ]
  },
  {
   "cell_type": "code",
   "execution_count": 21,
   "id": "85b5c597-05ea-4003-a811-37e48f5f0fdf",
   "metadata": {},
   "outputs": [],
   "source": [
    "for i in range(N):\n",
    "    for j in range(i):\n",
    "        if rd.randint(0,1) == 1:\n",
    "            g1.add_edges([(i,j)])"
   ]
  },
  {
   "cell_type": "code",
   "execution_count": 22,
   "id": "878b5d02-a0a9-42d1-aa8e-929b3d8468c2",
   "metadata": {},
   "outputs": [
    {
     "data": {
      "image/svg+xml": [
       "<?xml version=\"1.0\" encoding=\"UTF-8\"?>\n",
       "<svg xmlns=\"http://www.w3.org/2000/svg\" xmlns:xlink=\"http://www.w3.org/1999/xlink\" width=\"200\" height=\"200\" viewBox=\"0 0 200 200\">\n",
       "<rect x=\"-20\" y=\"-20\" width=\"240\" height=\"240\" fill=\"rgb(100%, 100%, 100%)\" fill-opacity=\"1\"/>\n",
       "<path fill=\"none\" stroke-width=\"1\" stroke-linecap=\"butt\" stroke-linejoin=\"miter\" stroke=\"rgb(26.666667%, 26.666667%, 26.666667%)\" stroke-opacity=\"1\" stroke-miterlimit=\"10\" d=\"M 129.351562 180 L 180 113.691406 \"/>\n",
       "<path fill=\"none\" stroke-width=\"1\" stroke-linecap=\"butt\" stroke-linejoin=\"miter\" stroke=\"rgb(26.666667%, 26.666667%, 26.666667%)\" stroke-opacity=\"1\" stroke-miterlimit=\"10\" d=\"M 129.351562 180 L 40.050781 157.699219 \"/>\n",
       "<path fill=\"none\" stroke-width=\"1\" stroke-linecap=\"butt\" stroke-linejoin=\"miter\" stroke=\"rgb(26.666667%, 26.666667%, 26.666667%)\" stroke-opacity=\"1\" stroke-miterlimit=\"10\" d=\"M 129.351562 180 L 131.40625 122.535156 \"/>\n",
       "<path fill=\"none\" stroke-width=\"1\" stroke-linecap=\"butt\" stroke-linejoin=\"miter\" stroke=\"rgb(26.666667%, 26.666667%, 26.666667%)\" stroke-opacity=\"1\" stroke-miterlimit=\"10\" d=\"M 180 113.691406 L 131.40625 122.535156 \"/>\n",
       "<path fill=\"none\" stroke-width=\"1\" stroke-linecap=\"butt\" stroke-linejoin=\"miter\" stroke=\"rgb(26.666667%, 26.666667%, 26.666667%)\" stroke-opacity=\"1\" stroke-miterlimit=\"10\" d=\"M 40.050781 157.699219 L 20 112.015625 \"/>\n",
       "<path fill=\"none\" stroke-width=\"1\" stroke-linecap=\"butt\" stroke-linejoin=\"miter\" stroke=\"rgb(26.666667%, 26.666667%, 26.666667%)\" stroke-opacity=\"1\" stroke-miterlimit=\"10\" d=\"M 129.351562 180 L 80.980469 135.03125 \"/>\n",
       "<path fill=\"none\" stroke-width=\"1\" stroke-linecap=\"butt\" stroke-linejoin=\"miter\" stroke=\"rgb(26.666667%, 26.666667%, 26.666667%)\" stroke-opacity=\"1\" stroke-miterlimit=\"10\" d=\"M 40.050781 157.699219 L 80.980469 135.03125 \"/>\n",
       "<path fill=\"none\" stroke-width=\"1\" stroke-linecap=\"butt\" stroke-linejoin=\"miter\" stroke=\"rgb(26.666667%, 26.666667%, 26.666667%)\" stroke-opacity=\"1\" stroke-miterlimit=\"10\" d=\"M 131.40625 122.535156 L 80.980469 135.03125 \"/>\n",
       "<path fill=\"none\" stroke-width=\"1\" stroke-linecap=\"butt\" stroke-linejoin=\"miter\" stroke=\"rgb(26.666667%, 26.666667%, 26.666667%)\" stroke-opacity=\"1\" stroke-miterlimit=\"10\" d=\"M 20 112.015625 L 80.980469 135.03125 \"/>\n",
       "<path fill=\"none\" stroke-width=\"1\" stroke-linecap=\"butt\" stroke-linejoin=\"miter\" stroke=\"rgb(26.666667%, 26.666667%, 26.666667%)\" stroke-opacity=\"1\" stroke-miterlimit=\"10\" d=\"M 40.050781 157.699219 L 39.351562 82.085938 \"/>\n",
       "<path fill=\"none\" stroke-width=\"1\" stroke-linecap=\"butt\" stroke-linejoin=\"miter\" stroke=\"rgb(26.666667%, 26.666667%, 26.666667%)\" stroke-opacity=\"1\" stroke-miterlimit=\"10\" d=\"M 131.40625 122.535156 L 39.351562 82.085938 \"/>\n",
       "<path fill=\"none\" stroke-width=\"1\" stroke-linecap=\"butt\" stroke-linejoin=\"miter\" stroke=\"rgb(26.666667%, 26.666667%, 26.666667%)\" stroke-opacity=\"1\" stroke-miterlimit=\"10\" d=\"M 20 112.015625 L 39.351562 82.085938 \"/>\n",
       "<path fill=\"none\" stroke-width=\"1\" stroke-linecap=\"butt\" stroke-linejoin=\"miter\" stroke=\"rgb(26.666667%, 26.666667%, 26.666667%)\" stroke-opacity=\"1\" stroke-miterlimit=\"10\" d=\"M 80.980469 135.03125 L 39.351562 82.085938 \"/>\n",
       "<path fill=\"none\" stroke-width=\"1\" stroke-linecap=\"butt\" stroke-linejoin=\"miter\" stroke=\"rgb(26.666667%, 26.666667%, 26.666667%)\" stroke-opacity=\"1\" stroke-miterlimit=\"10\" d=\"M 180 113.691406 L 129.652344 73.835938 \"/>\n",
       "<path fill=\"none\" stroke-width=\"1\" stroke-linecap=\"butt\" stroke-linejoin=\"miter\" stroke=\"rgb(26.666667%, 26.666667%, 26.666667%)\" stroke-opacity=\"1\" stroke-miterlimit=\"10\" d=\"M 131.40625 122.535156 L 129.652344 73.835938 \"/>\n",
       "<path fill=\"none\" stroke-width=\"1\" stroke-linecap=\"butt\" stroke-linejoin=\"miter\" stroke=\"rgb(26.666667%, 26.666667%, 26.666667%)\" stroke-opacity=\"1\" stroke-miterlimit=\"10\" d=\"M 20 112.015625 L 129.652344 73.835938 \"/>\n",
       "<path fill=\"none\" stroke-width=\"1\" stroke-linecap=\"butt\" stroke-linejoin=\"miter\" stroke=\"rgb(26.666667%, 26.666667%, 26.666667%)\" stroke-opacity=\"1\" stroke-miterlimit=\"10\" d=\"M 80.980469 135.03125 L 129.652344 73.835938 \"/>\n",
       "<path fill=\"none\" stroke-width=\"1\" stroke-linecap=\"butt\" stroke-linejoin=\"miter\" stroke=\"rgb(26.666667%, 26.666667%, 26.666667%)\" stroke-opacity=\"1\" stroke-miterlimit=\"10\" d=\"M 39.351562 82.085938 L 49.253906 20 \"/>\n",
       "<path fill=\"none\" stroke-width=\"1\" stroke-linecap=\"butt\" stroke-linejoin=\"miter\" stroke=\"rgb(26.666667%, 26.666667%, 26.666667%)\" stroke-opacity=\"1\" stroke-miterlimit=\"10\" d=\"M 180 113.691406 L 86.761719 85.210938 \"/>\n",
       "<path fill=\"none\" stroke-width=\"1\" stroke-linecap=\"butt\" stroke-linejoin=\"miter\" stroke=\"rgb(26.666667%, 26.666667%, 26.666667%)\" stroke-opacity=\"1\" stroke-miterlimit=\"10\" d=\"M 40.050781 157.699219 L 86.761719 85.210938 \"/>\n",
       "<path fill=\"none\" stroke-width=\"1\" stroke-linecap=\"butt\" stroke-linejoin=\"miter\" stroke=\"rgb(26.666667%, 26.666667%, 26.666667%)\" stroke-opacity=\"1\" stroke-miterlimit=\"10\" d=\"M 131.40625 122.535156 L 86.761719 85.210938 \"/>\n",
       "<path fill=\"none\" stroke-width=\"1\" stroke-linecap=\"butt\" stroke-linejoin=\"miter\" stroke=\"rgb(26.666667%, 26.666667%, 26.666667%)\" stroke-opacity=\"1\" stroke-miterlimit=\"10\" d=\"M 20 112.015625 L 86.761719 85.210938 \"/>\n",
       "<path fill=\"none\" stroke-width=\"1\" stroke-linecap=\"butt\" stroke-linejoin=\"miter\" stroke=\"rgb(26.666667%, 26.666667%, 26.666667%)\" stroke-opacity=\"1\" stroke-miterlimit=\"10\" d=\"M 80.980469 135.03125 L 86.761719 85.210938 \"/>\n",
       "<path fill=\"none\" stroke-width=\"1\" stroke-linecap=\"butt\" stroke-linejoin=\"miter\" stroke=\"rgb(26.666667%, 26.666667%, 26.666667%)\" stroke-opacity=\"1\" stroke-miterlimit=\"10\" d=\"M 39.351562 82.085938 L 86.761719 85.210938 \"/>\n",
       "<path fill=\"none\" stroke-width=\"1\" stroke-linecap=\"butt\" stroke-linejoin=\"miter\" stroke=\"rgb(26.666667%, 26.666667%, 26.666667%)\" stroke-opacity=\"1\" stroke-miterlimit=\"10\" d=\"M 49.253906 20 L 86.761719 85.210938 \"/>\n",
       "<path fill-rule=\"nonzero\" fill=\"rgb(100%, 0%, 0%)\" fill-opacity=\"1\" stroke-width=\"1\" stroke-linecap=\"butt\" stroke-linejoin=\"miter\" stroke=\"rgb(0%, 0%, 0%)\" stroke-opacity=\"1\" stroke-miterlimit=\"10\" d=\"M 139.351562 180 C 139.351562 185.523438 134.871094 190 129.351562 190 C 123.828125 190 119.351562 185.523438 119.351562 180 C 119.351562 174.476562 123.828125 170 129.351562 170 C 134.871094 170 139.351562 174.476562 139.351562 180 \"/>\n",
       "<path fill-rule=\"nonzero\" fill=\"rgb(100%, 0%, 0%)\" fill-opacity=\"1\" stroke-width=\"1\" stroke-linecap=\"butt\" stroke-linejoin=\"miter\" stroke=\"rgb(0%, 0%, 0%)\" stroke-opacity=\"1\" stroke-miterlimit=\"10\" d=\"M 190 113.691406 C 190 119.214844 185.523438 123.691406 180 123.691406 C 174.476562 123.691406 170 119.214844 170 113.691406 C 170 108.171875 174.476562 103.691406 180 103.691406 C 185.523438 103.691406 190 108.171875 190 113.691406 \"/>\n",
       "<path fill-rule=\"nonzero\" fill=\"rgb(100%, 0%, 0%)\" fill-opacity=\"1\" stroke-width=\"1\" stroke-linecap=\"butt\" stroke-linejoin=\"miter\" stroke=\"rgb(0%, 0%, 0%)\" stroke-opacity=\"1\" stroke-miterlimit=\"10\" d=\"M 50.050781 157.699219 C 50.050781 163.222656 45.574219 167.699219 40.050781 167.699219 C 34.53125 167.699219 30.050781 163.222656 30.050781 157.699219 C 30.050781 152.175781 34.53125 147.699219 40.050781 147.699219 C 45.574219 147.699219 50.050781 152.175781 50.050781 157.699219 \"/>\n",
       "<path fill-rule=\"nonzero\" fill=\"rgb(100%, 0%, 0%)\" fill-opacity=\"1\" stroke-width=\"1\" stroke-linecap=\"butt\" stroke-linejoin=\"miter\" stroke=\"rgb(0%, 0%, 0%)\" stroke-opacity=\"1\" stroke-miterlimit=\"10\" d=\"M 141.40625 122.535156 C 141.40625 128.058594 136.929688 132.535156 131.40625 132.535156 C 125.882812 132.535156 121.40625 128.058594 121.40625 122.535156 C 121.40625 117.011719 125.882812 112.535156 131.40625 112.535156 C 136.929688 112.535156 141.40625 117.011719 141.40625 122.535156 \"/>\n",
       "<path fill-rule=\"nonzero\" fill=\"rgb(100%, 0%, 0%)\" fill-opacity=\"1\" stroke-width=\"1\" stroke-linecap=\"butt\" stroke-linejoin=\"miter\" stroke=\"rgb(0%, 0%, 0%)\" stroke-opacity=\"1\" stroke-miterlimit=\"10\" d=\"M 30 112.015625 C 30 117.539062 25.523438 122.015625 20 122.015625 C 14.476562 122.015625 10 117.539062 10 112.015625 C 10 106.496094 14.476562 102.015625 20 102.015625 C 25.523438 102.015625 30 106.496094 30 112.015625 \"/>\n",
       "<path fill-rule=\"nonzero\" fill=\"rgb(100%, 0%, 0%)\" fill-opacity=\"1\" stroke-width=\"1\" stroke-linecap=\"butt\" stroke-linejoin=\"miter\" stroke=\"rgb(0%, 0%, 0%)\" stroke-opacity=\"1\" stroke-miterlimit=\"10\" d=\"M 90.980469 135.03125 C 90.980469 140.554688 86.5 145.03125 80.980469 145.03125 C 75.457031 145.03125 70.980469 140.554688 70.980469 135.03125 C 70.980469 129.507812 75.457031 125.03125 80.980469 125.03125 C 86.5 125.03125 90.980469 129.507812 90.980469 135.03125 \"/>\n",
       "<path fill-rule=\"nonzero\" fill=\"rgb(100%, 0%, 0%)\" fill-opacity=\"1\" stroke-width=\"1\" stroke-linecap=\"butt\" stroke-linejoin=\"miter\" stroke=\"rgb(0%, 0%, 0%)\" stroke-opacity=\"1\" stroke-miterlimit=\"10\" d=\"M 49.351562 82.085938 C 49.351562 87.605469 44.875 92.085938 39.351562 92.085938 C 33.828125 92.085938 29.351562 87.605469 29.351562 82.085938 C 29.351562 76.5625 33.828125 72.085938 39.351562 72.085938 C 44.875 72.085938 49.351562 76.5625 49.351562 82.085938 \"/>\n",
       "<path fill-rule=\"nonzero\" fill=\"rgb(100%, 0%, 0%)\" fill-opacity=\"1\" stroke-width=\"1\" stroke-linecap=\"butt\" stroke-linejoin=\"miter\" stroke=\"rgb(0%, 0%, 0%)\" stroke-opacity=\"1\" stroke-miterlimit=\"10\" d=\"M 139.652344 73.835938 C 139.652344 79.359375 135.175781 83.835938 129.652344 83.835938 C 124.128906 83.835938 119.652344 79.359375 119.652344 73.835938 C 119.652344 68.3125 124.128906 63.835938 129.652344 63.835938 C 135.175781 63.835938 139.652344 68.3125 139.652344 73.835938 \"/>\n",
       "<path fill-rule=\"nonzero\" fill=\"rgb(100%, 0%, 0%)\" fill-opacity=\"1\" stroke-width=\"1\" stroke-linecap=\"butt\" stroke-linejoin=\"miter\" stroke=\"rgb(0%, 0%, 0%)\" stroke-opacity=\"1\" stroke-miterlimit=\"10\" d=\"M 59.253906 20 C 59.253906 25.523438 54.777344 30 49.253906 30 C 43.734375 30 39.253906 25.523438 39.253906 20 C 39.253906 14.476562 43.734375 10 49.253906 10 C 54.777344 10 59.253906 14.476562 59.253906 20 \"/>\n",
       "<path fill-rule=\"nonzero\" fill=\"rgb(100%, 0%, 0%)\" fill-opacity=\"1\" stroke-width=\"1\" stroke-linecap=\"butt\" stroke-linejoin=\"miter\" stroke=\"rgb(0%, 0%, 0%)\" stroke-opacity=\"1\" stroke-miterlimit=\"10\" d=\"M 96.761719 85.210938 C 96.761719 90.730469 92.285156 95.210938 86.761719 95.210938 C 81.238281 95.210938 76.761719 90.730469 76.761719 85.210938 C 76.761719 79.6875 81.238281 75.210938 86.761719 75.210938 C 92.285156 75.210938 96.761719 79.6875 96.761719 85.210938 \"/>\n",
       "</svg>\n"
      ],
      "text/plain": [
       "<igraph.drawing.cairo.plot.CairoPlot at 0x123fd0100>"
      ]
     },
     "execution_count": 22,
     "metadata": {
      "image/svg+xml": {
       "isolated": true
      }
     },
     "output_type": "execute_result"
    }
   ],
   "source": [
    "ig.plot(g1,bbox=(200,200))"
   ]
  },
  {
   "cell_type": "code",
   "execution_count": 23,
   "id": "b583f641-5de7-48e2-96a1-683564ad85ad",
   "metadata": {},
   "outputs": [
    {
     "data": {
      "image/svg+xml": [
       "<?xml version=\"1.0\" encoding=\"UTF-8\"?>\n",
       "<svg xmlns=\"http://www.w3.org/2000/svg\" xmlns:xlink=\"http://www.w3.org/1999/xlink\" width=\"200\" height=\"200\" viewBox=\"0 0 200 200\">\n",
       "<rect x=\"-20\" y=\"-20\" width=\"240\" height=\"240\" fill=\"rgb(100%, 100%, 100%)\" fill-opacity=\"1\"/>\n",
       "<path fill=\"none\" stroke-width=\"1\" stroke-linecap=\"butt\" stroke-linejoin=\"miter\" stroke=\"rgb(26.666667%, 26.666667%, 26.666667%)\" stroke-opacity=\"1\" stroke-miterlimit=\"10\" d=\"M 180 100 L 164.722656 149.441406 \"/>\n",
       "<path fill=\"none\" stroke-width=\"1\" stroke-linecap=\"butt\" stroke-linejoin=\"miter\" stroke=\"rgb(26.666667%, 26.666667%, 26.666667%)\" stroke-opacity=\"1\" stroke-miterlimit=\"10\" d=\"M 180 100 L 124.722656 180 \"/>\n",
       "<path fill=\"none\" stroke-width=\"1\" stroke-linecap=\"butt\" stroke-linejoin=\"miter\" stroke=\"rgb(26.666667%, 26.666667%, 26.666667%)\" stroke-opacity=\"1\" stroke-miterlimit=\"10\" d=\"M 180 100 L 75.277344 180 \"/>\n",
       "<path fill=\"none\" stroke-width=\"1\" stroke-linecap=\"butt\" stroke-linejoin=\"miter\" stroke=\"rgb(26.666667%, 26.666667%, 26.666667%)\" stroke-opacity=\"1\" stroke-miterlimit=\"10\" d=\"M 164.722656 149.441406 L 75.277344 180 \"/>\n",
       "<path fill=\"none\" stroke-width=\"1\" stroke-linecap=\"butt\" stroke-linejoin=\"miter\" stroke=\"rgb(26.666667%, 26.666667%, 26.666667%)\" stroke-opacity=\"1\" stroke-miterlimit=\"10\" d=\"M 124.722656 180 L 35.277344 149.441406 \"/>\n",
       "<path fill=\"none\" stroke-width=\"1\" stroke-linecap=\"butt\" stroke-linejoin=\"miter\" stroke=\"rgb(26.666667%, 26.666667%, 26.666667%)\" stroke-opacity=\"1\" stroke-miterlimit=\"10\" d=\"M 180 100 L 20 100 \"/>\n",
       "<path fill=\"none\" stroke-width=\"1\" stroke-linecap=\"butt\" stroke-linejoin=\"miter\" stroke=\"rgb(26.666667%, 26.666667%, 26.666667%)\" stroke-opacity=\"1\" stroke-miterlimit=\"10\" d=\"M 124.722656 180 L 20 100 \"/>\n",
       "<path fill=\"none\" stroke-width=\"1\" stroke-linecap=\"butt\" stroke-linejoin=\"miter\" stroke=\"rgb(26.666667%, 26.666667%, 26.666667%)\" stroke-opacity=\"1\" stroke-miterlimit=\"10\" d=\"M 75.277344 180 L 20 100 \"/>\n",
       "<path fill=\"none\" stroke-width=\"1\" stroke-linecap=\"butt\" stroke-linejoin=\"miter\" stroke=\"rgb(26.666667%, 26.666667%, 26.666667%)\" stroke-opacity=\"1\" stroke-miterlimit=\"10\" d=\"M 35.277344 149.441406 L 20 100 \"/>\n",
       "<path fill=\"none\" stroke-width=\"1\" stroke-linecap=\"butt\" stroke-linejoin=\"miter\" stroke=\"rgb(26.666667%, 26.666667%, 26.666667%)\" stroke-opacity=\"1\" stroke-miterlimit=\"10\" d=\"M 124.722656 180 L 35.277344 50.558594 \"/>\n",
       "<path fill=\"none\" stroke-width=\"1\" stroke-linecap=\"butt\" stroke-linejoin=\"miter\" stroke=\"rgb(26.666667%, 26.666667%, 26.666667%)\" stroke-opacity=\"1\" stroke-miterlimit=\"10\" d=\"M 75.277344 180 L 35.277344 50.558594 \"/>\n",
       "<path fill=\"none\" stroke-width=\"1\" stroke-linecap=\"butt\" stroke-linejoin=\"miter\" stroke=\"rgb(26.666667%, 26.666667%, 26.666667%)\" stroke-opacity=\"1\" stroke-miterlimit=\"10\" d=\"M 35.277344 149.441406 L 35.277344 50.558594 \"/>\n",
       "<path fill=\"none\" stroke-width=\"1\" stroke-linecap=\"butt\" stroke-linejoin=\"miter\" stroke=\"rgb(26.666667%, 26.666667%, 26.666667%)\" stroke-opacity=\"1\" stroke-miterlimit=\"10\" d=\"M 20 100 L 35.277344 50.558594 \"/>\n",
       "<path fill=\"none\" stroke-width=\"1\" stroke-linecap=\"butt\" stroke-linejoin=\"miter\" stroke=\"rgb(26.666667%, 26.666667%, 26.666667%)\" stroke-opacity=\"1\" stroke-miterlimit=\"10\" d=\"M 164.722656 149.441406 L 75.277344 20 \"/>\n",
       "<path fill=\"none\" stroke-width=\"1\" stroke-linecap=\"butt\" stroke-linejoin=\"miter\" stroke=\"rgb(26.666667%, 26.666667%, 26.666667%)\" stroke-opacity=\"1\" stroke-miterlimit=\"10\" d=\"M 75.277344 180 L 75.277344 20 \"/>\n",
       "<path fill=\"none\" stroke-width=\"1\" stroke-linecap=\"butt\" stroke-linejoin=\"miter\" stroke=\"rgb(26.666667%, 26.666667%, 26.666667%)\" stroke-opacity=\"1\" stroke-miterlimit=\"10\" d=\"M 35.277344 149.441406 L 75.277344 20 \"/>\n",
       "<path fill=\"none\" stroke-width=\"1\" stroke-linecap=\"butt\" stroke-linejoin=\"miter\" stroke=\"rgb(26.666667%, 26.666667%, 26.666667%)\" stroke-opacity=\"1\" stroke-miterlimit=\"10\" d=\"M 20 100 L 75.277344 20 \"/>\n",
       "<path fill=\"none\" stroke-width=\"1\" stroke-linecap=\"butt\" stroke-linejoin=\"miter\" stroke=\"rgb(26.666667%, 26.666667%, 26.666667%)\" stroke-opacity=\"1\" stroke-miterlimit=\"10\" d=\"M 35.277344 50.558594 L 124.722656 20 \"/>\n",
       "<path fill=\"none\" stroke-width=\"1\" stroke-linecap=\"butt\" stroke-linejoin=\"miter\" stroke=\"rgb(26.666667%, 26.666667%, 26.666667%)\" stroke-opacity=\"1\" stroke-miterlimit=\"10\" d=\"M 164.722656 149.441406 L 164.722656 50.558594 \"/>\n",
       "<path fill=\"none\" stroke-width=\"1\" stroke-linecap=\"butt\" stroke-linejoin=\"miter\" stroke=\"rgb(26.666667%, 26.666667%, 26.666667%)\" stroke-opacity=\"1\" stroke-miterlimit=\"10\" d=\"M 124.722656 180 L 164.722656 50.558594 \"/>\n",
       "<path fill=\"none\" stroke-width=\"1\" stroke-linecap=\"butt\" stroke-linejoin=\"miter\" stroke=\"rgb(26.666667%, 26.666667%, 26.666667%)\" stroke-opacity=\"1\" stroke-miterlimit=\"10\" d=\"M 75.277344 180 L 164.722656 50.558594 \"/>\n",
       "<path fill=\"none\" stroke-width=\"1\" stroke-linecap=\"butt\" stroke-linejoin=\"miter\" stroke=\"rgb(26.666667%, 26.666667%, 26.666667%)\" stroke-opacity=\"1\" stroke-miterlimit=\"10\" d=\"M 35.277344 149.441406 L 164.722656 50.558594 \"/>\n",
       "<path fill=\"none\" stroke-width=\"1\" stroke-linecap=\"butt\" stroke-linejoin=\"miter\" stroke=\"rgb(26.666667%, 26.666667%, 26.666667%)\" stroke-opacity=\"1\" stroke-miterlimit=\"10\" d=\"M 20 100 L 164.722656 50.558594 \"/>\n",
       "<path fill=\"none\" stroke-width=\"1\" stroke-linecap=\"butt\" stroke-linejoin=\"miter\" stroke=\"rgb(26.666667%, 26.666667%, 26.666667%)\" stroke-opacity=\"1\" stroke-miterlimit=\"10\" d=\"M 35.277344 50.558594 L 164.722656 50.558594 \"/>\n",
       "<path fill=\"none\" stroke-width=\"1\" stroke-linecap=\"butt\" stroke-linejoin=\"miter\" stroke=\"rgb(26.666667%, 26.666667%, 26.666667%)\" stroke-opacity=\"1\" stroke-miterlimit=\"10\" d=\"M 124.722656 20 L 164.722656 50.558594 \"/>\n",
       "<path fill-rule=\"nonzero\" fill=\"rgb(100%, 0%, 0%)\" fill-opacity=\"1\" stroke-width=\"1\" stroke-linecap=\"butt\" stroke-linejoin=\"miter\" stroke=\"rgb(0%, 0%, 0%)\" stroke-opacity=\"1\" stroke-miterlimit=\"10\" d=\"M 190 100 C 190 105.523438 185.523438 110 180 110 C 174.476562 110 170 105.523438 170 100 C 170 94.476562 174.476562 90 180 90 C 185.523438 90 190 94.476562 190 100 \"/>\n",
       "<path fill-rule=\"nonzero\" fill=\"rgb(100%, 0%, 0%)\" fill-opacity=\"1\" stroke-width=\"1\" stroke-linecap=\"butt\" stroke-linejoin=\"miter\" stroke=\"rgb(0%, 0%, 0%)\" stroke-opacity=\"1\" stroke-miterlimit=\"10\" d=\"M 174.722656 149.441406 C 174.722656 154.964844 170.246094 159.441406 164.722656 159.441406 C 159.199219 159.441406 154.722656 154.964844 154.722656 149.441406 C 154.722656 143.917969 159.199219 139.441406 164.722656 139.441406 C 170.246094 139.441406 174.722656 143.917969 174.722656 149.441406 \"/>\n",
       "<path fill-rule=\"nonzero\" fill=\"rgb(100%, 0%, 0%)\" fill-opacity=\"1\" stroke-width=\"1\" stroke-linecap=\"butt\" stroke-linejoin=\"miter\" stroke=\"rgb(0%, 0%, 0%)\" stroke-opacity=\"1\" stroke-miterlimit=\"10\" d=\"M 134.722656 180 C 134.722656 185.523438 130.246094 190 124.722656 190 C 119.199219 190 114.722656 185.523438 114.722656 180 C 114.722656 174.476562 119.199219 170 124.722656 170 C 130.246094 170 134.722656 174.476562 134.722656 180 \"/>\n",
       "<path fill-rule=\"nonzero\" fill=\"rgb(100%, 0%, 0%)\" fill-opacity=\"1\" stroke-width=\"1\" stroke-linecap=\"butt\" stroke-linejoin=\"miter\" stroke=\"rgb(0%, 0%, 0%)\" stroke-opacity=\"1\" stroke-miterlimit=\"10\" d=\"M 85.277344 180 C 85.277344 185.523438 80.800781 190 75.277344 190 C 69.753906 190 65.277344 185.523438 65.277344 180 C 65.277344 174.476562 69.753906 170 75.277344 170 C 80.800781 170 85.277344 174.476562 85.277344 180 \"/>\n",
       "<path fill-rule=\"nonzero\" fill=\"rgb(100%, 0%, 0%)\" fill-opacity=\"1\" stroke-width=\"1\" stroke-linecap=\"butt\" stroke-linejoin=\"miter\" stroke=\"rgb(0%, 0%, 0%)\" stroke-opacity=\"1\" stroke-miterlimit=\"10\" d=\"M 45.277344 149.441406 C 45.277344 154.964844 40.800781 159.441406 35.277344 159.441406 C 29.753906 159.441406 25.277344 154.964844 25.277344 149.441406 C 25.277344 143.917969 29.753906 139.441406 35.277344 139.441406 C 40.800781 139.441406 45.277344 143.917969 45.277344 149.441406 \"/>\n",
       "<path fill-rule=\"nonzero\" fill=\"rgb(100%, 0%, 0%)\" fill-opacity=\"1\" stroke-width=\"1\" stroke-linecap=\"butt\" stroke-linejoin=\"miter\" stroke=\"rgb(0%, 0%, 0%)\" stroke-opacity=\"1\" stroke-miterlimit=\"10\" d=\"M 30 100 C 30 105.523438 25.523438 110 20 110 C 14.476562 110 10 105.523438 10 100 C 10 94.476562 14.476562 90 20 90 C 25.523438 90 30 94.476562 30 100 \"/>\n",
       "<path fill-rule=\"nonzero\" fill=\"rgb(100%, 0%, 0%)\" fill-opacity=\"1\" stroke-width=\"1\" stroke-linecap=\"butt\" stroke-linejoin=\"miter\" stroke=\"rgb(0%, 0%, 0%)\" stroke-opacity=\"1\" stroke-miterlimit=\"10\" d=\"M 45.277344 50.558594 C 45.277344 56.082031 40.800781 60.558594 35.277344 60.558594 C 29.753906 60.558594 25.277344 56.082031 25.277344 50.558594 C 25.277344 45.035156 29.753906 40.558594 35.277344 40.558594 C 40.800781 40.558594 45.277344 45.035156 45.277344 50.558594 \"/>\n",
       "<path fill-rule=\"nonzero\" fill=\"rgb(100%, 0%, 0%)\" fill-opacity=\"1\" stroke-width=\"1\" stroke-linecap=\"butt\" stroke-linejoin=\"miter\" stroke=\"rgb(0%, 0%, 0%)\" stroke-opacity=\"1\" stroke-miterlimit=\"10\" d=\"M 85.277344 20 C 85.277344 25.523438 80.800781 30 75.277344 30 C 69.753906 30 65.277344 25.523438 65.277344 20 C 65.277344 14.476562 69.753906 10 75.277344 10 C 80.800781 10 85.277344 14.476562 85.277344 20 \"/>\n",
       "<path fill-rule=\"nonzero\" fill=\"rgb(100%, 0%, 0%)\" fill-opacity=\"1\" stroke-width=\"1\" stroke-linecap=\"butt\" stroke-linejoin=\"miter\" stroke=\"rgb(0%, 0%, 0%)\" stroke-opacity=\"1\" stroke-miterlimit=\"10\" d=\"M 134.722656 20 C 134.722656 25.523438 130.246094 30 124.722656 30 C 119.199219 30 114.722656 25.523438 114.722656 20 C 114.722656 14.476562 119.199219 10 124.722656 10 C 130.246094 10 134.722656 14.476562 134.722656 20 \"/>\n",
       "<path fill-rule=\"nonzero\" fill=\"rgb(100%, 0%, 0%)\" fill-opacity=\"1\" stroke-width=\"1\" stroke-linecap=\"butt\" stroke-linejoin=\"miter\" stroke=\"rgb(0%, 0%, 0%)\" stroke-opacity=\"1\" stroke-miterlimit=\"10\" d=\"M 174.722656 50.558594 C 174.722656 56.082031 170.246094 60.558594 164.722656 60.558594 C 159.199219 60.558594 154.722656 56.082031 154.722656 50.558594 C 154.722656 45.035156 159.199219 40.558594 164.722656 40.558594 C 170.246094 40.558594 174.722656 45.035156 174.722656 50.558594 \"/>\n",
       "</svg>\n"
      ],
      "text/plain": [
       "<igraph.drawing.cairo.plot.CairoPlot at 0x1240d46a0>"
      ]
     },
     "execution_count": 23,
     "metadata": {
      "image/svg+xml": {
       "isolated": true
      }
     },
     "output_type": "execute_result"
    }
   ],
   "source": [
    "ig.plot(g1,bbox=(200,200),layout='circle')"
   ]
  },
  {
   "cell_type": "code",
   "execution_count": 24,
   "id": "e25ea471-32a5-49d3-9a8a-5a33d1d33699",
   "metadata": {},
   "outputs": [
    {
     "name": "stdout",
     "output_type": "stream",
     "text": [
      "IGRAPH U--- 10 25 --\n",
      "+ edges:\n",
      " 0 --  1  2  3  5             4 --  2  5  6  7  9          8 --  6  9\n",
      " 1 --  0  3  7  9             5 --  0  2  3  4  6  7  9    9 --  1  2  3  4  5\n",
      "6  8\n",
      " 2 --  0  4  5  6  9          6 --  2  3  4  5  8  9\n",
      " 3 --  0  1  5  6  7  9       7 --  1  3  4  5\n"
     ]
    }
   ],
   "source": [
    "print(g1)"
   ]
  },
  {
   "cell_type": "code",
   "execution_count": 25,
   "id": "cbc78a2e-23be-4563-972b-30613124baee",
   "metadata": {},
   "outputs": [
    {
     "data": {
      "image/svg+xml": [
       "<?xml version=\"1.0\" encoding=\"UTF-8\"?>\n",
       "<svg xmlns=\"http://www.w3.org/2000/svg\" xmlns:xlink=\"http://www.w3.org/1999/xlink\" width=\"200\" height=\"200\" viewBox=\"0 0 200 200\">\n",
       "<defs>\n",
       "<g>\n",
       "<g id=\"glyph-0-0\">\n",
       "<path d=\"M 3.789062 -9.789062 C 5.054688 -9.789062 5.96875 -9.265625 6.535156 -8.222656 C 6.972656 -7.417969 7.191406 -6.3125 7.191406 -4.90625 C 7.191406 -3.578125 6.992188 -2.476562 6.597656 -1.605469 C 6.023438 -0.359375 5.082031 0.265625 3.78125 0.265625 C 2.605469 0.265625 1.730469 -0.242188 1.15625 -1.265625 C 0.675781 -2.117188 0.4375 -3.261719 0.4375 -4.695312 C 0.4375 -5.808594 0.582031 -6.761719 0.867188 -7.5625 C 1.40625 -9.046875 2.378906 -9.789062 3.789062 -9.789062 Z M 3.773438 -0.855469 C 4.410156 -0.855469 4.917969 -1.136719 5.296875 -1.703125 C 5.675781 -2.265625 5.867188 -3.320312 5.867188 -4.859375 C 5.867188 -5.972656 5.726562 -6.886719 5.453125 -7.605469 C 5.179688 -8.324219 4.652344 -8.679688 3.863281 -8.679688 C 3.136719 -8.679688 2.609375 -8.339844 2.273438 -7.660156 C 1.9375 -6.976562 1.769531 -5.976562 1.769531 -4.648438 C 1.769531 -3.648438 1.878906 -2.847656 2.09375 -2.242188 C 2.421875 -1.316406 2.980469 -0.855469 3.773438 -0.855469 Z M 3.773438 -0.855469 \"/>\n",
       "</g>\n",
       "<g id=\"glyph-0-1\">\n",
       "<path d=\"M 1.339844 -6.929688 L 1.339844 -7.875 C 2.226562 -7.960938 2.847656 -8.105469 3.199219 -8.308594 C 3.550781 -8.511719 3.8125 -8.992188 3.984375 -9.75 L 4.957031 -9.75 L 4.957031 0 L 3.644531 0 L 3.644531 -6.929688 Z M 1.339844 -6.929688 \"/>\n",
       "</g>\n",
       "<g id=\"glyph-0-2\">\n",
       "<path d=\"M 0.4375 0 C 0.484375 -0.84375 0.65625 -1.578125 0.960938 -2.203125 C 1.265625 -2.828125 1.855469 -3.394531 2.734375 -3.902344 L 4.046875 -4.664062 C 4.632812 -5.003906 5.046875 -5.296875 5.285156 -5.539062 C 5.65625 -5.914062 5.84375 -6.347656 5.84375 -6.835938 C 5.84375 -7.40625 5.671875 -7.859375 5.332031 -8.191406 C 4.992188 -8.527344 4.535156 -8.695312 3.964844 -8.695312 C 3.121094 -8.695312 2.539062 -8.375 2.214844 -7.738281 C 2.042969 -7.398438 1.945312 -6.921875 1.929688 -6.316406 L 0.675781 -6.316406 C 0.691406 -7.167969 0.847656 -7.863281 1.148438 -8.402344 C 1.679688 -9.351562 2.621094 -9.824219 3.972656 -9.824219 C 5.09375 -9.824219 5.910156 -9.519531 6.429688 -8.914062 C 6.945312 -8.308594 7.203125 -7.632812 7.203125 -6.890625 C 7.203125 -6.105469 6.929688 -5.4375 6.378906 -4.882812 C 6.058594 -4.558594 5.488281 -4.164062 4.664062 -3.703125 L 3.726562 -3.1875 C 3.28125 -2.941406 2.929688 -2.703125 2.671875 -2.480469 C 2.21875 -2.085938 1.929688 -1.644531 1.8125 -1.164062 L 7.15625 -1.164062 L 7.15625 0 Z M 0.4375 0 \"/>\n",
       "</g>\n",
       "<g id=\"glyph-0-3\">\n",
       "<path d=\"M 3.636719 0.265625 C 2.480469 0.265625 1.640625 -0.0507812 1.117188 -0.6875 C 0.59375 -1.324219 0.335938 -2.097656 0.335938 -3.007812 L 1.621094 -3.007812 C 1.675781 -2.375 1.792969 -1.914062 1.976562 -1.625 C 2.296875 -1.109375 2.871094 -0.855469 3.703125 -0.855469 C 4.351562 -0.855469 4.871094 -1.027344 5.265625 -1.375 C 5.65625 -1.71875 5.851562 -2.167969 5.851562 -2.714844 C 5.851562 -3.390625 5.644531 -3.859375 5.234375 -4.128906 C 4.820312 -4.398438 4.246094 -4.53125 3.515625 -4.53125 C 3.433594 -4.53125 3.347656 -4.53125 3.265625 -4.527344 C 3.179688 -4.527344 3.09375 -4.523438 3.007812 -4.519531 L 3.007812 -5.605469 C 3.136719 -5.59375 3.242188 -5.582031 3.328125 -5.578125 C 3.414062 -5.574219 3.507812 -5.570312 3.609375 -5.570312 C 4.070312 -5.570312 4.449219 -5.644531 4.742188 -5.789062 C 5.261719 -6.046875 5.523438 -6.5 5.523438 -7.15625 C 5.523438 -7.644531 5.351562 -8.019531 5.003906 -8.285156 C 4.65625 -8.550781 4.253906 -8.679688 3.792969 -8.679688 C 2.972656 -8.679688 2.40625 -8.40625 2.09375 -7.859375 C 1.917969 -7.558594 1.820312 -7.132812 1.796875 -6.578125 L 0.582031 -6.578125 C 0.582031 -7.304688 0.726562 -7.925781 1.019531 -8.4375 C 1.519531 -9.347656 2.402344 -9.804688 3.664062 -9.804688 C 4.664062 -9.804688 5.433594 -9.582031 5.980469 -9.136719 C 6.527344 -8.691406 6.800781 -8.046875 6.800781 -7.203125 C 6.800781 -6.601562 6.640625 -6.117188 6.316406 -5.742188 C 6.117188 -5.507812 5.855469 -5.328125 5.539062 -5.195312 C 6.054688 -5.054688 6.453125 -4.78125 6.742188 -4.378906 C 7.03125 -3.976562 7.179688 -3.480469 7.179688 -2.898438 C 7.179688 -1.964844 6.871094 -1.203125 6.253906 -0.617188 C 5.640625 -0.0273438 4.765625 0.265625 3.636719 0.265625 Z M 3.636719 0.265625 \"/>\n",
       "</g>\n",
       "<g id=\"glyph-0-4\">\n",
       "<path d=\"M 4.628906 -3.464844 L 4.628906 -7.902344 L 1.492188 -3.464844 Z M 4.648438 0 L 4.648438 -2.390625 L 0.355469 -2.390625 L 0.355469 -3.59375 L 4.839844 -9.816406 L 5.878906 -9.816406 L 5.878906 -3.464844 L 7.320312 -3.464844 L 7.320312 -2.390625 L 5.878906 -2.390625 L 5.878906 0 Z M 4.648438 0 \"/>\n",
       "</g>\n",
       "<g id=\"glyph-0-5\">\n",
       "<path d=\"M 1.730469 -2.496094 C 1.8125 -1.792969 2.136719 -1.308594 2.707031 -1.039062 C 3 -0.902344 3.335938 -0.835938 3.71875 -0.835938 C 4.449219 -0.835938 4.988281 -1.066406 5.339844 -1.53125 C 5.691406 -1.996094 5.867188 -2.511719 5.867188 -3.078125 C 5.867188 -3.761719 5.65625 -4.289062 5.238281 -4.664062 C 4.820312 -5.035156 4.324219 -5.222656 3.738281 -5.222656 C 3.316406 -5.222656 2.953125 -5.140625 2.648438 -4.976562 C 2.34375 -4.8125 2.085938 -4.585938 1.875 -4.292969 L 0.804688 -4.355469 L 1.550781 -9.625 L 6.636719 -9.625 L 6.636719 -8.4375 L 2.476562 -8.4375 L 2.058594 -5.714844 C 2.285156 -5.886719 2.5 -6.019531 2.707031 -6.105469 C 3.070312 -6.253906 3.492188 -6.328125 3.972656 -6.328125 C 4.871094 -6.328125 5.628906 -6.039062 6.253906 -5.460938 C 6.878906 -4.882812 7.191406 -4.148438 7.191406 -3.261719 C 7.191406 -2.335938 6.90625 -1.519531 6.332031 -0.8125 C 5.761719 -0.105469 4.847656 0.246094 3.59375 0.246094 C 2.796875 0.246094 2.09375 0.0234375 1.480469 -0.425781 C 0.867188 -0.875 0.523438 -1.566406 0.453125 -2.496094 Z M 1.730469 -2.496094 \"/>\n",
       "</g>\n",
       "<g id=\"glyph-0-6\">\n",
       "<path d=\"M 4.09375 -9.828125 C 5.1875 -9.828125 5.949219 -9.546875 6.382812 -8.980469 C 6.8125 -8.414062 7.027344 -7.828125 7.027344 -7.226562 L 5.8125 -7.226562 C 5.738281 -7.613281 5.621094 -7.914062 5.460938 -8.132812 C 5.164062 -8.542969 4.71875 -8.75 4.117188 -8.75 C 3.429688 -8.75 2.878906 -8.433594 2.476562 -7.796875 C 2.070312 -7.160156 1.84375 -6.25 1.796875 -5.066406 C 2.078125 -5.480469 2.4375 -5.789062 2.863281 -5.996094 C 3.257812 -6.179688 3.695312 -6.269531 4.175781 -6.269531 C 4.996094 -6.269531 5.710938 -6.007812 6.324219 -5.484375 C 6.933594 -4.960938 7.238281 -4.175781 7.238281 -3.136719 C 7.238281 -2.25 6.949219 -1.460938 6.371094 -0.777344 C 5.792969 -0.0898438 4.96875 0.253906 3.898438 0.253906 C 2.980469 0.253906 2.191406 -0.09375 1.523438 -0.789062 C 0.859375 -1.484375 0.527344 -2.65625 0.527344 -4.300781 C 0.527344 -5.515625 0.675781 -6.546875 0.96875 -7.398438 C 1.539062 -9.019531 2.582031 -9.828125 4.09375 -9.828125 Z M 4.007812 -0.839844 C 4.652344 -0.839844 5.136719 -1.058594 5.457031 -1.492188 C 5.78125 -1.929688 5.941406 -2.441406 5.941406 -3.035156 C 5.941406 -3.535156 5.796875 -4.015625 5.507812 -4.46875 C 5.222656 -4.921875 4.699219 -5.148438 3.945312 -5.148438 C 3.414062 -5.148438 2.953125 -4.972656 2.554688 -4.621094 C 2.15625 -4.269531 1.953125 -3.742188 1.953125 -3.035156 C 1.953125 -2.414062 2.136719 -1.894531 2.5 -1.472656 C 2.859375 -1.050781 3.363281 -0.839844 4.007812 -0.839844 Z M 4.007812 -0.839844 \"/>\n",
       "</g>\n",
       "<g id=\"glyph-0-7\">\n",
       "<path d=\"M 7.320312 -9.625 L 7.320312 -8.550781 C 7.007812 -8.246094 6.589844 -7.714844 6.066406 -6.960938 C 5.546875 -6.203125 5.082031 -5.386719 4.683594 -4.511719 C 4.285156 -3.660156 3.984375 -2.882812 3.78125 -2.179688 C 3.648438 -1.730469 3.476562 -1.003906 3.265625 0 L 1.90625 0 C 2.21875 -1.867188 2.902344 -3.726562 3.957031 -5.578125 C 4.582031 -6.664062 5.238281 -7.597656 5.925781 -8.386719 L 0.511719 -8.386719 L 0.511719 -9.625 Z M 7.320312 -9.625 \"/>\n",
       "</g>\n",
       "<g id=\"glyph-0-8\">\n",
       "<path d=\"M 3.808594 -5.6875 C 4.351562 -5.6875 4.773438 -5.839844 5.078125 -6.140625 C 5.382812 -6.445312 5.539062 -6.804688 5.539062 -7.226562 C 5.539062 -7.589844 5.390625 -7.925781 5.101562 -8.230469 C 4.808594 -8.535156 4.363281 -8.6875 3.765625 -8.6875 C 3.171875 -8.6875 2.746094 -8.535156 2.480469 -8.230469 C 2.21875 -7.925781 2.085938 -7.566406 2.085938 -7.15625 C 2.085938 -6.695312 2.257812 -6.335938 2.597656 -6.078125 C 2.9375 -5.816406 3.34375 -5.6875 3.808594 -5.6875 Z M 3.882812 -0.839844 C 4.453125 -0.839844 4.925781 -0.996094 5.300781 -1.300781 C 5.675781 -1.609375 5.867188 -2.070312 5.867188 -2.679688 C 5.867188 -3.3125 5.671875 -3.792969 5.285156 -4.121094 C 4.898438 -4.449219 4.398438 -4.613281 3.792969 -4.613281 C 3.207031 -4.613281 2.726562 -4.445312 2.355469 -4.113281 C 1.984375 -3.777344 1.796875 -3.3125 1.796875 -2.71875 C 1.796875 -2.210938 1.96875 -1.769531 2.308594 -1.398438 C 2.648438 -1.027344 3.171875 -0.839844 3.882812 -0.839844 Z M 2.132812 -5.214844 C 1.789062 -5.359375 1.523438 -5.53125 1.332031 -5.726562 C 0.972656 -6.09375 0.792969 -6.566406 0.792969 -7.148438 C 0.792969 -7.878906 1.058594 -8.507812 1.585938 -9.03125 C 2.113281 -9.554688 2.863281 -9.816406 3.835938 -9.816406 C 4.773438 -9.816406 5.507812 -9.570312 6.042969 -9.074219 C 6.578125 -8.578125 6.84375 -8.003906 6.84375 -7.34375 C 6.84375 -6.730469 6.6875 -6.238281 6.378906 -5.859375 C 6.203125 -5.644531 5.9375 -5.433594 5.570312 -5.230469 C 5.976562 -5.042969 6.296875 -4.828125 6.527344 -4.585938 C 6.960938 -4.132812 7.179688 -3.539062 7.179688 -2.808594 C 7.179688 -1.949219 6.886719 -1.21875 6.308594 -0.617188 C 5.730469 -0.0195312 4.914062 0.28125 3.855469 0.28125 C 2.902344 0.28125 2.097656 0.0234375 1.4375 -0.496094 C 0.78125 -1.011719 0.453125 -1.765625 0.453125 -2.75 C 0.453125 -3.328125 0.59375 -3.828125 0.875 -4.25 C 1.15625 -4.671875 1.578125 -4.992188 2.132812 -5.214844 Z M 2.132812 -5.214844 \"/>\n",
       "</g>\n",
       "<g id=\"glyph-0-9\">\n",
       "<path d=\"M 1.859375 -2.367188 C 1.894531 -1.6875 2.15625 -1.21875 2.644531 -0.957031 C 2.894531 -0.820312 3.179688 -0.75 3.492188 -0.75 C 4.082031 -0.75 4.582031 -0.996094 4.996094 -1.488281 C 5.410156 -1.976562 5.707031 -2.972656 5.878906 -4.46875 C 5.605469 -4.039062 5.265625 -3.734375 4.863281 -3.558594 C 4.460938 -3.382812 4.027344 -3.296875 3.5625 -3.296875 C 2.617188 -3.296875 1.871094 -3.589844 1.324219 -4.175781 C 0.773438 -4.765625 0.5 -5.519531 0.5 -6.445312 C 0.5 -7.335938 0.769531 -8.117188 1.3125 -8.789062 C 1.855469 -9.464844 2.65625 -9.804688 3.710938 -9.804688 C 5.136719 -9.804688 6.121094 -9.160156 6.664062 -7.875 C 6.964844 -7.167969 7.117188 -6.285156 7.117188 -5.222656 C 7.117188 -4.023438 6.9375 -2.960938 6.578125 -2.039062 C 5.980469 -0.496094 4.96875 0.273438 3.539062 0.273438 C 2.582031 0.273438 1.855469 0.0234375 1.359375 -0.476562 C 0.863281 -0.980469 0.617188 -1.609375 0.617188 -2.367188 Z M 3.726562 -4.375 C 4.214844 -4.375 4.660156 -4.535156 5.0625 -4.855469 C 5.464844 -5.179688 5.667969 -5.738281 5.667969 -6.542969 C 5.667969 -7.261719 5.484375 -7.796875 5.125 -8.152344 C 4.761719 -8.503906 4.300781 -8.679688 3.738281 -8.679688 C 3.136719 -8.679688 2.660156 -8.480469 2.308594 -8.078125 C 1.953125 -7.671875 1.777344 -7.132812 1.777344 -6.460938 C 1.777344 -5.820312 1.933594 -5.316406 2.242188 -4.9375 C 2.550781 -4.5625 3.046875 -4.375 3.726562 -4.375 Z M 3.726562 -4.375 \"/>\n",
       "</g>\n",
       "</g>\n",
       "</defs>\n",
       "<rect x=\"-20\" y=\"-20\" width=\"240\" height=\"240\" fill=\"rgb(100%, 100%, 100%)\" fill-opacity=\"1\"/>\n",
       "<path fill=\"none\" stroke-width=\"1\" stroke-linecap=\"butt\" stroke-linejoin=\"miter\" stroke=\"rgb(26.666667%, 26.666667%, 26.666667%)\" stroke-opacity=\"1\" stroke-miterlimit=\"10\" d=\"M 180 100 L 164.722656 149.441406 \"/>\n",
       "<path fill=\"none\" stroke-width=\"1\" stroke-linecap=\"butt\" stroke-linejoin=\"miter\" stroke=\"rgb(26.666667%, 26.666667%, 26.666667%)\" stroke-opacity=\"1\" stroke-miterlimit=\"10\" d=\"M 180 100 L 124.722656 180 \"/>\n",
       "<path fill=\"none\" stroke-width=\"1\" stroke-linecap=\"butt\" stroke-linejoin=\"miter\" stroke=\"rgb(26.666667%, 26.666667%, 26.666667%)\" stroke-opacity=\"1\" stroke-miterlimit=\"10\" d=\"M 180 100 L 75.277344 180 \"/>\n",
       "<path fill=\"none\" stroke-width=\"1\" stroke-linecap=\"butt\" stroke-linejoin=\"miter\" stroke=\"rgb(26.666667%, 26.666667%, 26.666667%)\" stroke-opacity=\"1\" stroke-miterlimit=\"10\" d=\"M 164.722656 149.441406 L 75.277344 180 \"/>\n",
       "<path fill=\"none\" stroke-width=\"1\" stroke-linecap=\"butt\" stroke-linejoin=\"miter\" stroke=\"rgb(26.666667%, 26.666667%, 26.666667%)\" stroke-opacity=\"1\" stroke-miterlimit=\"10\" d=\"M 124.722656 180 L 35.277344 149.441406 \"/>\n",
       "<path fill=\"none\" stroke-width=\"1\" stroke-linecap=\"butt\" stroke-linejoin=\"miter\" stroke=\"rgb(26.666667%, 26.666667%, 26.666667%)\" stroke-opacity=\"1\" stroke-miterlimit=\"10\" d=\"M 180 100 L 20 100 \"/>\n",
       "<path fill=\"none\" stroke-width=\"1\" stroke-linecap=\"butt\" stroke-linejoin=\"miter\" stroke=\"rgb(26.666667%, 26.666667%, 26.666667%)\" stroke-opacity=\"1\" stroke-miterlimit=\"10\" d=\"M 124.722656 180 L 20 100 \"/>\n",
       "<path fill=\"none\" stroke-width=\"1\" stroke-linecap=\"butt\" stroke-linejoin=\"miter\" stroke=\"rgb(26.666667%, 26.666667%, 26.666667%)\" stroke-opacity=\"1\" stroke-miterlimit=\"10\" d=\"M 75.277344 180 L 20 100 \"/>\n",
       "<path fill=\"none\" stroke-width=\"1\" stroke-linecap=\"butt\" stroke-linejoin=\"miter\" stroke=\"rgb(26.666667%, 26.666667%, 26.666667%)\" stroke-opacity=\"1\" stroke-miterlimit=\"10\" d=\"M 35.277344 149.441406 L 20 100 \"/>\n",
       "<path fill=\"none\" stroke-width=\"1\" stroke-linecap=\"butt\" stroke-linejoin=\"miter\" stroke=\"rgb(26.666667%, 26.666667%, 26.666667%)\" stroke-opacity=\"1\" stroke-miterlimit=\"10\" d=\"M 124.722656 180 L 35.277344 50.558594 \"/>\n",
       "<path fill=\"none\" stroke-width=\"1\" stroke-linecap=\"butt\" stroke-linejoin=\"miter\" stroke=\"rgb(26.666667%, 26.666667%, 26.666667%)\" stroke-opacity=\"1\" stroke-miterlimit=\"10\" d=\"M 75.277344 180 L 35.277344 50.558594 \"/>\n",
       "<path fill=\"none\" stroke-width=\"1\" stroke-linecap=\"butt\" stroke-linejoin=\"miter\" stroke=\"rgb(26.666667%, 26.666667%, 26.666667%)\" stroke-opacity=\"1\" stroke-miterlimit=\"10\" d=\"M 35.277344 149.441406 L 35.277344 50.558594 \"/>\n",
       "<path fill=\"none\" stroke-width=\"1\" stroke-linecap=\"butt\" stroke-linejoin=\"miter\" stroke=\"rgb(26.666667%, 26.666667%, 26.666667%)\" stroke-opacity=\"1\" stroke-miterlimit=\"10\" d=\"M 20 100 L 35.277344 50.558594 \"/>\n",
       "<path fill=\"none\" stroke-width=\"1\" stroke-linecap=\"butt\" stroke-linejoin=\"miter\" stroke=\"rgb(26.666667%, 26.666667%, 26.666667%)\" stroke-opacity=\"1\" stroke-miterlimit=\"10\" d=\"M 164.722656 149.441406 L 75.277344 20 \"/>\n",
       "<path fill=\"none\" stroke-width=\"1\" stroke-linecap=\"butt\" stroke-linejoin=\"miter\" stroke=\"rgb(26.666667%, 26.666667%, 26.666667%)\" stroke-opacity=\"1\" stroke-miterlimit=\"10\" d=\"M 75.277344 180 L 75.277344 20 \"/>\n",
       "<path fill=\"none\" stroke-width=\"1\" stroke-linecap=\"butt\" stroke-linejoin=\"miter\" stroke=\"rgb(26.666667%, 26.666667%, 26.666667%)\" stroke-opacity=\"1\" stroke-miterlimit=\"10\" d=\"M 35.277344 149.441406 L 75.277344 20 \"/>\n",
       "<path fill=\"none\" stroke-width=\"1\" stroke-linecap=\"butt\" stroke-linejoin=\"miter\" stroke=\"rgb(26.666667%, 26.666667%, 26.666667%)\" stroke-opacity=\"1\" stroke-miterlimit=\"10\" d=\"M 20 100 L 75.277344 20 \"/>\n",
       "<path fill=\"none\" stroke-width=\"1\" stroke-linecap=\"butt\" stroke-linejoin=\"miter\" stroke=\"rgb(26.666667%, 26.666667%, 26.666667%)\" stroke-opacity=\"1\" stroke-miterlimit=\"10\" d=\"M 35.277344 50.558594 L 124.722656 20 \"/>\n",
       "<path fill=\"none\" stroke-width=\"1\" stroke-linecap=\"butt\" stroke-linejoin=\"miter\" stroke=\"rgb(26.666667%, 26.666667%, 26.666667%)\" stroke-opacity=\"1\" stroke-miterlimit=\"10\" d=\"M 164.722656 149.441406 L 164.722656 50.558594 \"/>\n",
       "<path fill=\"none\" stroke-width=\"1\" stroke-linecap=\"butt\" stroke-linejoin=\"miter\" stroke=\"rgb(26.666667%, 26.666667%, 26.666667%)\" stroke-opacity=\"1\" stroke-miterlimit=\"10\" d=\"M 124.722656 180 L 164.722656 50.558594 \"/>\n",
       "<path fill=\"none\" stroke-width=\"1\" stroke-linecap=\"butt\" stroke-linejoin=\"miter\" stroke=\"rgb(26.666667%, 26.666667%, 26.666667%)\" stroke-opacity=\"1\" stroke-miterlimit=\"10\" d=\"M 75.277344 180 L 164.722656 50.558594 \"/>\n",
       "<path fill=\"none\" stroke-width=\"1\" stroke-linecap=\"butt\" stroke-linejoin=\"miter\" stroke=\"rgb(26.666667%, 26.666667%, 26.666667%)\" stroke-opacity=\"1\" stroke-miterlimit=\"10\" d=\"M 35.277344 149.441406 L 164.722656 50.558594 \"/>\n",
       "<path fill=\"none\" stroke-width=\"1\" stroke-linecap=\"butt\" stroke-linejoin=\"miter\" stroke=\"rgb(26.666667%, 26.666667%, 26.666667%)\" stroke-opacity=\"1\" stroke-miterlimit=\"10\" d=\"M 20 100 L 164.722656 50.558594 \"/>\n",
       "<path fill=\"none\" stroke-width=\"1\" stroke-linecap=\"butt\" stroke-linejoin=\"miter\" stroke=\"rgb(26.666667%, 26.666667%, 26.666667%)\" stroke-opacity=\"1\" stroke-miterlimit=\"10\" d=\"M 35.277344 50.558594 L 164.722656 50.558594 \"/>\n",
       "<path fill=\"none\" stroke-width=\"1\" stroke-linecap=\"butt\" stroke-linejoin=\"miter\" stroke=\"rgb(26.666667%, 26.666667%, 26.666667%)\" stroke-opacity=\"1\" stroke-miterlimit=\"10\" d=\"M 124.722656 20 L 164.722656 50.558594 \"/>\n",
       "<path fill-rule=\"nonzero\" fill=\"rgb(100%, 0%, 0%)\" fill-opacity=\"1\" stroke-width=\"1\" stroke-linecap=\"butt\" stroke-linejoin=\"miter\" stroke=\"rgb(0%, 0%, 0%)\" stroke-opacity=\"1\" stroke-miterlimit=\"10\" d=\"M 190 100 C 190 105.523438 185.523438 110 180 110 C 174.476562 110 170 105.523438 170 100 C 170 94.476562 174.476562 90 180 90 C 185.523438 90 190 94.476562 190 100 \"/>\n",
       "<path fill-rule=\"nonzero\" fill=\"rgb(100%, 0%, 0%)\" fill-opacity=\"1\" stroke-width=\"1\" stroke-linecap=\"butt\" stroke-linejoin=\"miter\" stroke=\"rgb(0%, 0%, 0%)\" stroke-opacity=\"1\" stroke-miterlimit=\"10\" d=\"M 174.722656 149.441406 C 174.722656 154.964844 170.246094 159.441406 164.722656 159.441406 C 159.199219 159.441406 154.722656 154.964844 154.722656 149.441406 C 154.722656 143.917969 159.199219 139.441406 164.722656 139.441406 C 170.246094 139.441406 174.722656 143.917969 174.722656 149.441406 \"/>\n",
       "<path fill-rule=\"nonzero\" fill=\"rgb(100%, 0%, 0%)\" fill-opacity=\"1\" stroke-width=\"1\" stroke-linecap=\"butt\" stroke-linejoin=\"miter\" stroke=\"rgb(0%, 0%, 0%)\" stroke-opacity=\"1\" stroke-miterlimit=\"10\" d=\"M 134.722656 180 C 134.722656 185.523438 130.246094 190 124.722656 190 C 119.199219 190 114.722656 185.523438 114.722656 180 C 114.722656 174.476562 119.199219 170 124.722656 170 C 130.246094 170 134.722656 174.476562 134.722656 180 \"/>\n",
       "<path fill-rule=\"nonzero\" fill=\"rgb(100%, 0%, 0%)\" fill-opacity=\"1\" stroke-width=\"1\" stroke-linecap=\"butt\" stroke-linejoin=\"miter\" stroke=\"rgb(0%, 0%, 0%)\" stroke-opacity=\"1\" stroke-miterlimit=\"10\" d=\"M 85.277344 180 C 85.277344 185.523438 80.800781 190 75.277344 190 C 69.753906 190 65.277344 185.523438 65.277344 180 C 65.277344 174.476562 69.753906 170 75.277344 170 C 80.800781 170 85.277344 174.476562 85.277344 180 \"/>\n",
       "<path fill-rule=\"nonzero\" fill=\"rgb(100%, 0%, 0%)\" fill-opacity=\"1\" stroke-width=\"1\" stroke-linecap=\"butt\" stroke-linejoin=\"miter\" stroke=\"rgb(0%, 0%, 0%)\" stroke-opacity=\"1\" stroke-miterlimit=\"10\" d=\"M 45.277344 149.441406 C 45.277344 154.964844 40.800781 159.441406 35.277344 159.441406 C 29.753906 159.441406 25.277344 154.964844 25.277344 149.441406 C 25.277344 143.917969 29.753906 139.441406 35.277344 139.441406 C 40.800781 139.441406 45.277344 143.917969 45.277344 149.441406 \"/>\n",
       "<path fill-rule=\"nonzero\" fill=\"rgb(100%, 0%, 0%)\" fill-opacity=\"1\" stroke-width=\"1\" stroke-linecap=\"butt\" stroke-linejoin=\"miter\" stroke=\"rgb(0%, 0%, 0%)\" stroke-opacity=\"1\" stroke-miterlimit=\"10\" d=\"M 30 100 C 30 105.523438 25.523438 110 20 110 C 14.476562 110 10 105.523438 10 100 C 10 94.476562 14.476562 90 20 90 C 25.523438 90 30 94.476562 30 100 \"/>\n",
       "<path fill-rule=\"nonzero\" fill=\"rgb(100%, 0%, 0%)\" fill-opacity=\"1\" stroke-width=\"1\" stroke-linecap=\"butt\" stroke-linejoin=\"miter\" stroke=\"rgb(0%, 0%, 0%)\" stroke-opacity=\"1\" stroke-miterlimit=\"10\" d=\"M 45.277344 50.558594 C 45.277344 56.082031 40.800781 60.558594 35.277344 60.558594 C 29.753906 60.558594 25.277344 56.082031 25.277344 50.558594 C 25.277344 45.035156 29.753906 40.558594 35.277344 40.558594 C 40.800781 40.558594 45.277344 45.035156 45.277344 50.558594 \"/>\n",
       "<path fill-rule=\"nonzero\" fill=\"rgb(100%, 0%, 0%)\" fill-opacity=\"1\" stroke-width=\"1\" stroke-linecap=\"butt\" stroke-linejoin=\"miter\" stroke=\"rgb(0%, 0%, 0%)\" stroke-opacity=\"1\" stroke-miterlimit=\"10\" d=\"M 85.277344 20 C 85.277344 25.523438 80.800781 30 75.277344 30 C 69.753906 30 65.277344 25.523438 65.277344 20 C 65.277344 14.476562 69.753906 10 75.277344 10 C 80.800781 10 85.277344 14.476562 85.277344 20 \"/>\n",
       "<path fill-rule=\"nonzero\" fill=\"rgb(100%, 0%, 0%)\" fill-opacity=\"1\" stroke-width=\"1\" stroke-linecap=\"butt\" stroke-linejoin=\"miter\" stroke=\"rgb(0%, 0%, 0%)\" stroke-opacity=\"1\" stroke-miterlimit=\"10\" d=\"M 134.722656 20 C 134.722656 25.523438 130.246094 30 124.722656 30 C 119.199219 30 114.722656 25.523438 114.722656 20 C 114.722656 14.476562 119.199219 10 124.722656 10 C 130.246094 10 134.722656 14.476562 134.722656 20 \"/>\n",
       "<path fill-rule=\"nonzero\" fill=\"rgb(100%, 0%, 0%)\" fill-opacity=\"1\" stroke-width=\"1\" stroke-linecap=\"butt\" stroke-linejoin=\"miter\" stroke=\"rgb(0%, 0%, 0%)\" stroke-opacity=\"1\" stroke-miterlimit=\"10\" d=\"M 174.722656 50.558594 C 174.722656 56.082031 170.246094 60.558594 164.722656 60.558594 C 159.199219 60.558594 154.722656 56.082031 154.722656 50.558594 C 154.722656 45.035156 159.199219 40.558594 164.722656 40.558594 C 170.246094 40.558594 174.722656 45.035156 174.722656 50.558594 \"/>\n",
       "<g fill=\"rgb(0%, 0%, 0%)\" fill-opacity=\"1\">\n",
       "<use xlink:href=\"#glyph-0-0\" x=\"176.1875\" y=\"106.503906\"/>\n",
       "</g>\n",
       "<g fill=\"rgb(0%, 0%, 0%)\" fill-opacity=\"1\">\n",
       "<use xlink:href=\"#glyph-0-1\" x=\"161.574219\" y=\"155.925781\"/>\n",
       "</g>\n",
       "<g fill=\"rgb(0%, 0%, 0%)\" fill-opacity=\"1\">\n",
       "<use xlink:href=\"#glyph-0-2\" x=\"120.898438\" y=\"186.523438\"/>\n",
       "</g>\n",
       "<g fill=\"rgb(0%, 0%, 0%)\" fill-opacity=\"1\">\n",
       "<use xlink:href=\"#glyph-0-3\" x=\"71.523438\" y=\"186.511719\"/>\n",
       "</g>\n",
       "<g fill=\"rgb(0%, 0%, 0%)\" fill-opacity=\"1\">\n",
       "<use xlink:href=\"#glyph-0-4\" x=\"31.441406\" y=\"155.960938\"/>\n",
       "</g>\n",
       "<g fill=\"rgb(0%, 0%, 0%)\" fill-opacity=\"1\">\n",
       "<use xlink:href=\"#glyph-0-5\" x=\"16.179688\" y=\"106.421875\"/>\n",
       "</g>\n",
       "<g fill=\"rgb(0%, 0%, 0%)\" fill-opacity=\"1\">\n",
       "<use xlink:href=\"#glyph-0-6\" x=\"31.394531\" y=\"57.082031\"/>\n",
       "</g>\n",
       "<g fill=\"rgb(0%, 0%, 0%)\" fill-opacity=\"1\">\n",
       "<use xlink:href=\"#glyph-0-7\" x=\"71.363281\" y=\"26.421875\"/>\n",
       "</g>\n",
       "<g fill=\"rgb(0%, 0%, 0%)\" fill-opacity=\"1\">\n",
       "<use xlink:href=\"#glyph-0-8\" x=\"120.90625\" y=\"26.519531\"/>\n",
       "</g>\n",
       "<g fill=\"rgb(0%, 0%, 0%)\" fill-opacity=\"1\">\n",
       "<use xlink:href=\"#glyph-0-9\" x=\"160.914062\" y=\"57.070312\"/>\n",
       "</g>\n",
       "</svg>\n"
      ],
      "text/plain": [
       "<igraph.drawing.cairo.plot.CairoPlot at 0x123dc3df0>"
      ]
     },
     "execution_count": 25,
     "metadata": {
      "image/svg+xml": {
       "isolated": true
      }
     },
     "output_type": "execute_result"
    }
   ],
   "source": [
    "ig.plot(g1,bbox=(200,200),layout='circle',vertex_label=range(N))"
   ]
  },
  {
   "cell_type": "code",
   "execution_count": 26,
   "id": "287c118d-1341-4d76-8513-99b0b98fd247",
   "metadata": {},
   "outputs": [],
   "source": [
    "g2 = ig.Graph.Erdos_Renyi(N,0.5)"
   ]
  },
  {
   "cell_type": "code",
   "execution_count": 27,
   "id": "2df8281f-e381-48bc-b518-7ee0270e96dd",
   "metadata": {},
   "outputs": [
    {
     "data": {
      "image/svg+xml": [
       "<?xml version=\"1.0\" encoding=\"UTF-8\"?>\n",
       "<svg xmlns=\"http://www.w3.org/2000/svg\" xmlns:xlink=\"http://www.w3.org/1999/xlink\" width=\"200\" height=\"200\" viewBox=\"0 0 200 200\">\n",
       "<defs>\n",
       "<g>\n",
       "<g id=\"glyph-0-0\">\n",
       "<path d=\"M 3.789062 -9.789062 C 5.054688 -9.789062 5.96875 -9.265625 6.535156 -8.222656 C 6.972656 -7.417969 7.191406 -6.3125 7.191406 -4.90625 C 7.191406 -3.578125 6.992188 -2.476562 6.597656 -1.605469 C 6.023438 -0.359375 5.082031 0.265625 3.78125 0.265625 C 2.605469 0.265625 1.730469 -0.242188 1.15625 -1.265625 C 0.675781 -2.117188 0.4375 -3.261719 0.4375 -4.695312 C 0.4375 -5.808594 0.582031 -6.761719 0.867188 -7.5625 C 1.40625 -9.046875 2.378906 -9.789062 3.789062 -9.789062 Z M 3.773438 -0.855469 C 4.410156 -0.855469 4.917969 -1.136719 5.296875 -1.703125 C 5.675781 -2.265625 5.867188 -3.320312 5.867188 -4.859375 C 5.867188 -5.972656 5.726562 -6.886719 5.453125 -7.605469 C 5.179688 -8.324219 4.652344 -8.679688 3.863281 -8.679688 C 3.136719 -8.679688 2.609375 -8.339844 2.273438 -7.660156 C 1.9375 -6.976562 1.769531 -5.976562 1.769531 -4.648438 C 1.769531 -3.648438 1.878906 -2.847656 2.09375 -2.242188 C 2.421875 -1.316406 2.980469 -0.855469 3.773438 -0.855469 Z M 3.773438 -0.855469 \"/>\n",
       "</g>\n",
       "<g id=\"glyph-0-1\">\n",
       "<path d=\"M 1.339844 -6.929688 L 1.339844 -7.875 C 2.226562 -7.960938 2.847656 -8.105469 3.199219 -8.308594 C 3.550781 -8.511719 3.8125 -8.992188 3.984375 -9.75 L 4.957031 -9.75 L 4.957031 0 L 3.644531 0 L 3.644531 -6.929688 Z M 1.339844 -6.929688 \"/>\n",
       "</g>\n",
       "<g id=\"glyph-0-2\">\n",
       "<path d=\"M 0.4375 0 C 0.484375 -0.84375 0.65625 -1.578125 0.960938 -2.203125 C 1.265625 -2.828125 1.855469 -3.394531 2.734375 -3.902344 L 4.046875 -4.664062 C 4.632812 -5.003906 5.046875 -5.296875 5.285156 -5.539062 C 5.65625 -5.914062 5.84375 -6.347656 5.84375 -6.835938 C 5.84375 -7.40625 5.671875 -7.859375 5.332031 -8.191406 C 4.992188 -8.527344 4.535156 -8.695312 3.964844 -8.695312 C 3.121094 -8.695312 2.539062 -8.375 2.214844 -7.738281 C 2.042969 -7.398438 1.945312 -6.921875 1.929688 -6.316406 L 0.675781 -6.316406 C 0.691406 -7.167969 0.847656 -7.863281 1.148438 -8.402344 C 1.679688 -9.351562 2.621094 -9.824219 3.972656 -9.824219 C 5.09375 -9.824219 5.910156 -9.519531 6.429688 -8.914062 C 6.945312 -8.308594 7.203125 -7.632812 7.203125 -6.890625 C 7.203125 -6.105469 6.929688 -5.4375 6.378906 -4.882812 C 6.058594 -4.558594 5.488281 -4.164062 4.664062 -3.703125 L 3.726562 -3.1875 C 3.28125 -2.941406 2.929688 -2.703125 2.671875 -2.480469 C 2.21875 -2.085938 1.929688 -1.644531 1.8125 -1.164062 L 7.15625 -1.164062 L 7.15625 0 Z M 0.4375 0 \"/>\n",
       "</g>\n",
       "<g id=\"glyph-0-3\">\n",
       "<path d=\"M 3.636719 0.265625 C 2.480469 0.265625 1.640625 -0.0507812 1.117188 -0.6875 C 0.59375 -1.324219 0.335938 -2.097656 0.335938 -3.007812 L 1.621094 -3.007812 C 1.675781 -2.375 1.792969 -1.914062 1.976562 -1.625 C 2.296875 -1.109375 2.871094 -0.855469 3.703125 -0.855469 C 4.351562 -0.855469 4.871094 -1.027344 5.265625 -1.375 C 5.65625 -1.71875 5.851562 -2.167969 5.851562 -2.714844 C 5.851562 -3.390625 5.644531 -3.859375 5.234375 -4.128906 C 4.820312 -4.398438 4.246094 -4.53125 3.515625 -4.53125 C 3.433594 -4.53125 3.347656 -4.53125 3.265625 -4.527344 C 3.179688 -4.527344 3.09375 -4.523438 3.007812 -4.519531 L 3.007812 -5.605469 C 3.136719 -5.59375 3.242188 -5.582031 3.328125 -5.578125 C 3.414062 -5.574219 3.507812 -5.570312 3.609375 -5.570312 C 4.070312 -5.570312 4.449219 -5.644531 4.742188 -5.789062 C 5.261719 -6.046875 5.523438 -6.5 5.523438 -7.15625 C 5.523438 -7.644531 5.351562 -8.019531 5.003906 -8.285156 C 4.65625 -8.550781 4.253906 -8.679688 3.792969 -8.679688 C 2.972656 -8.679688 2.40625 -8.40625 2.09375 -7.859375 C 1.917969 -7.558594 1.820312 -7.132812 1.796875 -6.578125 L 0.582031 -6.578125 C 0.582031 -7.304688 0.726562 -7.925781 1.019531 -8.4375 C 1.519531 -9.347656 2.402344 -9.804688 3.664062 -9.804688 C 4.664062 -9.804688 5.433594 -9.582031 5.980469 -9.136719 C 6.527344 -8.691406 6.800781 -8.046875 6.800781 -7.203125 C 6.800781 -6.601562 6.640625 -6.117188 6.316406 -5.742188 C 6.117188 -5.507812 5.855469 -5.328125 5.539062 -5.195312 C 6.054688 -5.054688 6.453125 -4.78125 6.742188 -4.378906 C 7.03125 -3.976562 7.179688 -3.480469 7.179688 -2.898438 C 7.179688 -1.964844 6.871094 -1.203125 6.253906 -0.617188 C 5.640625 -0.0273438 4.765625 0.265625 3.636719 0.265625 Z M 3.636719 0.265625 \"/>\n",
       "</g>\n",
       "<g id=\"glyph-0-4\">\n",
       "<path d=\"M 4.628906 -3.464844 L 4.628906 -7.902344 L 1.492188 -3.464844 Z M 4.648438 0 L 4.648438 -2.390625 L 0.355469 -2.390625 L 0.355469 -3.59375 L 4.839844 -9.816406 L 5.878906 -9.816406 L 5.878906 -3.464844 L 7.320312 -3.464844 L 7.320312 -2.390625 L 5.878906 -2.390625 L 5.878906 0 Z M 4.648438 0 \"/>\n",
       "</g>\n",
       "<g id=\"glyph-0-5\">\n",
       "<path d=\"M 1.730469 -2.496094 C 1.8125 -1.792969 2.136719 -1.308594 2.707031 -1.039062 C 3 -0.902344 3.335938 -0.835938 3.71875 -0.835938 C 4.449219 -0.835938 4.988281 -1.066406 5.339844 -1.53125 C 5.691406 -1.996094 5.867188 -2.511719 5.867188 -3.078125 C 5.867188 -3.761719 5.65625 -4.289062 5.238281 -4.664062 C 4.820312 -5.035156 4.324219 -5.222656 3.738281 -5.222656 C 3.316406 -5.222656 2.953125 -5.140625 2.648438 -4.976562 C 2.34375 -4.8125 2.085938 -4.585938 1.875 -4.292969 L 0.804688 -4.355469 L 1.550781 -9.625 L 6.636719 -9.625 L 6.636719 -8.4375 L 2.476562 -8.4375 L 2.058594 -5.714844 C 2.285156 -5.886719 2.5 -6.019531 2.707031 -6.105469 C 3.070312 -6.253906 3.492188 -6.328125 3.972656 -6.328125 C 4.871094 -6.328125 5.628906 -6.039062 6.253906 -5.460938 C 6.878906 -4.882812 7.191406 -4.148438 7.191406 -3.261719 C 7.191406 -2.335938 6.90625 -1.519531 6.332031 -0.8125 C 5.761719 -0.105469 4.847656 0.246094 3.59375 0.246094 C 2.796875 0.246094 2.09375 0.0234375 1.480469 -0.425781 C 0.867188 -0.875 0.523438 -1.566406 0.453125 -2.496094 Z M 1.730469 -2.496094 \"/>\n",
       "</g>\n",
       "<g id=\"glyph-0-6\">\n",
       "<path d=\"M 4.09375 -9.828125 C 5.1875 -9.828125 5.949219 -9.546875 6.382812 -8.980469 C 6.8125 -8.414062 7.027344 -7.828125 7.027344 -7.226562 L 5.8125 -7.226562 C 5.738281 -7.613281 5.621094 -7.914062 5.460938 -8.132812 C 5.164062 -8.542969 4.71875 -8.75 4.117188 -8.75 C 3.429688 -8.75 2.878906 -8.433594 2.476562 -7.796875 C 2.070312 -7.160156 1.84375 -6.25 1.796875 -5.066406 C 2.078125 -5.480469 2.4375 -5.789062 2.863281 -5.996094 C 3.257812 -6.179688 3.695312 -6.269531 4.175781 -6.269531 C 4.996094 -6.269531 5.710938 -6.007812 6.324219 -5.484375 C 6.933594 -4.960938 7.238281 -4.175781 7.238281 -3.136719 C 7.238281 -2.25 6.949219 -1.460938 6.371094 -0.777344 C 5.792969 -0.0898438 4.96875 0.253906 3.898438 0.253906 C 2.980469 0.253906 2.191406 -0.09375 1.523438 -0.789062 C 0.859375 -1.484375 0.527344 -2.65625 0.527344 -4.300781 C 0.527344 -5.515625 0.675781 -6.546875 0.96875 -7.398438 C 1.539062 -9.019531 2.582031 -9.828125 4.09375 -9.828125 Z M 4.007812 -0.839844 C 4.652344 -0.839844 5.136719 -1.058594 5.457031 -1.492188 C 5.78125 -1.929688 5.941406 -2.441406 5.941406 -3.035156 C 5.941406 -3.535156 5.796875 -4.015625 5.507812 -4.46875 C 5.222656 -4.921875 4.699219 -5.148438 3.945312 -5.148438 C 3.414062 -5.148438 2.953125 -4.972656 2.554688 -4.621094 C 2.15625 -4.269531 1.953125 -3.742188 1.953125 -3.035156 C 1.953125 -2.414062 2.136719 -1.894531 2.5 -1.472656 C 2.859375 -1.050781 3.363281 -0.839844 4.007812 -0.839844 Z M 4.007812 -0.839844 \"/>\n",
       "</g>\n",
       "<g id=\"glyph-0-7\">\n",
       "<path d=\"M 7.320312 -9.625 L 7.320312 -8.550781 C 7.007812 -8.246094 6.589844 -7.714844 6.066406 -6.960938 C 5.546875 -6.203125 5.082031 -5.386719 4.683594 -4.511719 C 4.285156 -3.660156 3.984375 -2.882812 3.78125 -2.179688 C 3.648438 -1.730469 3.476562 -1.003906 3.265625 0 L 1.90625 0 C 2.21875 -1.867188 2.902344 -3.726562 3.957031 -5.578125 C 4.582031 -6.664062 5.238281 -7.597656 5.925781 -8.386719 L 0.511719 -8.386719 L 0.511719 -9.625 Z M 7.320312 -9.625 \"/>\n",
       "</g>\n",
       "<g id=\"glyph-0-8\">\n",
       "<path d=\"M 3.808594 -5.6875 C 4.351562 -5.6875 4.773438 -5.839844 5.078125 -6.140625 C 5.382812 -6.445312 5.539062 -6.804688 5.539062 -7.226562 C 5.539062 -7.589844 5.390625 -7.925781 5.101562 -8.230469 C 4.808594 -8.535156 4.363281 -8.6875 3.765625 -8.6875 C 3.171875 -8.6875 2.746094 -8.535156 2.480469 -8.230469 C 2.21875 -7.925781 2.085938 -7.566406 2.085938 -7.15625 C 2.085938 -6.695312 2.257812 -6.335938 2.597656 -6.078125 C 2.9375 -5.816406 3.34375 -5.6875 3.808594 -5.6875 Z M 3.882812 -0.839844 C 4.453125 -0.839844 4.925781 -0.996094 5.300781 -1.300781 C 5.675781 -1.609375 5.867188 -2.070312 5.867188 -2.679688 C 5.867188 -3.3125 5.671875 -3.792969 5.285156 -4.121094 C 4.898438 -4.449219 4.398438 -4.613281 3.792969 -4.613281 C 3.207031 -4.613281 2.726562 -4.445312 2.355469 -4.113281 C 1.984375 -3.777344 1.796875 -3.3125 1.796875 -2.71875 C 1.796875 -2.210938 1.96875 -1.769531 2.308594 -1.398438 C 2.648438 -1.027344 3.171875 -0.839844 3.882812 -0.839844 Z M 2.132812 -5.214844 C 1.789062 -5.359375 1.523438 -5.53125 1.332031 -5.726562 C 0.972656 -6.09375 0.792969 -6.566406 0.792969 -7.148438 C 0.792969 -7.878906 1.058594 -8.507812 1.585938 -9.03125 C 2.113281 -9.554688 2.863281 -9.816406 3.835938 -9.816406 C 4.773438 -9.816406 5.507812 -9.570312 6.042969 -9.074219 C 6.578125 -8.578125 6.84375 -8.003906 6.84375 -7.34375 C 6.84375 -6.730469 6.6875 -6.238281 6.378906 -5.859375 C 6.203125 -5.644531 5.9375 -5.433594 5.570312 -5.230469 C 5.976562 -5.042969 6.296875 -4.828125 6.527344 -4.585938 C 6.960938 -4.132812 7.179688 -3.539062 7.179688 -2.808594 C 7.179688 -1.949219 6.886719 -1.21875 6.308594 -0.617188 C 5.730469 -0.0195312 4.914062 0.28125 3.855469 0.28125 C 2.902344 0.28125 2.097656 0.0234375 1.4375 -0.496094 C 0.78125 -1.011719 0.453125 -1.765625 0.453125 -2.75 C 0.453125 -3.328125 0.59375 -3.828125 0.875 -4.25 C 1.15625 -4.671875 1.578125 -4.992188 2.132812 -5.214844 Z M 2.132812 -5.214844 \"/>\n",
       "</g>\n",
       "<g id=\"glyph-0-9\">\n",
       "<path d=\"M 1.859375 -2.367188 C 1.894531 -1.6875 2.15625 -1.21875 2.644531 -0.957031 C 2.894531 -0.820312 3.179688 -0.75 3.492188 -0.75 C 4.082031 -0.75 4.582031 -0.996094 4.996094 -1.488281 C 5.410156 -1.976562 5.707031 -2.972656 5.878906 -4.46875 C 5.605469 -4.039062 5.265625 -3.734375 4.863281 -3.558594 C 4.460938 -3.382812 4.027344 -3.296875 3.5625 -3.296875 C 2.617188 -3.296875 1.871094 -3.589844 1.324219 -4.175781 C 0.773438 -4.765625 0.5 -5.519531 0.5 -6.445312 C 0.5 -7.335938 0.769531 -8.117188 1.3125 -8.789062 C 1.855469 -9.464844 2.65625 -9.804688 3.710938 -9.804688 C 5.136719 -9.804688 6.121094 -9.160156 6.664062 -7.875 C 6.964844 -7.167969 7.117188 -6.285156 7.117188 -5.222656 C 7.117188 -4.023438 6.9375 -2.960938 6.578125 -2.039062 C 5.980469 -0.496094 4.96875 0.273438 3.539062 0.273438 C 2.582031 0.273438 1.855469 0.0234375 1.359375 -0.476562 C 0.863281 -0.980469 0.617188 -1.609375 0.617188 -2.367188 Z M 3.726562 -4.375 C 4.214844 -4.375 4.660156 -4.535156 5.0625 -4.855469 C 5.464844 -5.179688 5.667969 -5.738281 5.667969 -6.542969 C 5.667969 -7.261719 5.484375 -7.796875 5.125 -8.152344 C 4.761719 -8.503906 4.300781 -8.679688 3.738281 -8.679688 C 3.136719 -8.679688 2.660156 -8.480469 2.308594 -8.078125 C 1.953125 -7.671875 1.777344 -7.132812 1.777344 -6.460938 C 1.777344 -5.820312 1.933594 -5.316406 2.242188 -4.9375 C 2.550781 -4.5625 3.046875 -4.375 3.726562 -4.375 Z M 3.726562 -4.375 \"/>\n",
       "</g>\n",
       "</g>\n",
       "</defs>\n",
       "<rect x=\"-20\" y=\"-20\" width=\"240\" height=\"240\" fill=\"rgb(100%, 100%, 100%)\" fill-opacity=\"1\"/>\n",
       "<path fill=\"none\" stroke-width=\"1\" stroke-linecap=\"butt\" stroke-linejoin=\"miter\" stroke=\"rgb(26.666667%, 26.666667%, 26.666667%)\" stroke-opacity=\"1\" stroke-miterlimit=\"10\" d=\"M 180 100 L 124.722656 180 \"/>\n",
       "<path fill=\"none\" stroke-width=\"1\" stroke-linecap=\"butt\" stroke-linejoin=\"miter\" stroke=\"rgb(26.666667%, 26.666667%, 26.666667%)\" stroke-opacity=\"1\" stroke-miterlimit=\"10\" d=\"M 164.722656 149.441406 L 124.722656 180 \"/>\n",
       "<path fill=\"none\" stroke-width=\"1\" stroke-linecap=\"butt\" stroke-linejoin=\"miter\" stroke=\"rgb(26.666667%, 26.666667%, 26.666667%)\" stroke-opacity=\"1\" stroke-miterlimit=\"10\" d=\"M 180 100 L 75.277344 180 \"/>\n",
       "<path fill=\"none\" stroke-width=\"1\" stroke-linecap=\"butt\" stroke-linejoin=\"miter\" stroke=\"rgb(26.666667%, 26.666667%, 26.666667%)\" stroke-opacity=\"1\" stroke-miterlimit=\"10\" d=\"M 124.722656 180 L 75.277344 180 \"/>\n",
       "<path fill=\"none\" stroke-width=\"1\" stroke-linecap=\"butt\" stroke-linejoin=\"miter\" stroke=\"rgb(26.666667%, 26.666667%, 26.666667%)\" stroke-opacity=\"1\" stroke-miterlimit=\"10\" d=\"M 164.722656 149.441406 L 35.277344 149.441406 \"/>\n",
       "<path fill=\"none\" stroke-width=\"1\" stroke-linecap=\"butt\" stroke-linejoin=\"miter\" stroke=\"rgb(26.666667%, 26.666667%, 26.666667%)\" stroke-opacity=\"1\" stroke-miterlimit=\"10\" d=\"M 124.722656 180 L 35.277344 149.441406 \"/>\n",
       "<path fill=\"none\" stroke-width=\"1\" stroke-linecap=\"butt\" stroke-linejoin=\"miter\" stroke=\"rgb(26.666667%, 26.666667%, 26.666667%)\" stroke-opacity=\"1\" stroke-miterlimit=\"10\" d=\"M 75.277344 180 L 35.277344 149.441406 \"/>\n",
       "<path fill=\"none\" stroke-width=\"1\" stroke-linecap=\"butt\" stroke-linejoin=\"miter\" stroke=\"rgb(26.666667%, 26.666667%, 26.666667%)\" stroke-opacity=\"1\" stroke-miterlimit=\"10\" d=\"M 35.277344 149.441406 L 20 100 \"/>\n",
       "<path fill=\"none\" stroke-width=\"1\" stroke-linecap=\"butt\" stroke-linejoin=\"miter\" stroke=\"rgb(26.666667%, 26.666667%, 26.666667%)\" stroke-opacity=\"1\" stroke-miterlimit=\"10\" d=\"M 180 100 L 35.277344 50.558594 \"/>\n",
       "<path fill=\"none\" stroke-width=\"1\" stroke-linecap=\"butt\" stroke-linejoin=\"miter\" stroke=\"rgb(26.666667%, 26.666667%, 26.666667%)\" stroke-opacity=\"1\" stroke-miterlimit=\"10\" d=\"M 164.722656 149.441406 L 35.277344 50.558594 \"/>\n",
       "<path fill=\"none\" stroke-width=\"1\" stroke-linecap=\"butt\" stroke-linejoin=\"miter\" stroke=\"rgb(26.666667%, 26.666667%, 26.666667%)\" stroke-opacity=\"1\" stroke-miterlimit=\"10\" d=\"M 124.722656 180 L 35.277344 50.558594 \"/>\n",
       "<path fill=\"none\" stroke-width=\"1\" stroke-linecap=\"butt\" stroke-linejoin=\"miter\" stroke=\"rgb(26.666667%, 26.666667%, 26.666667%)\" stroke-opacity=\"1\" stroke-miterlimit=\"10\" d=\"M 75.277344 180 L 35.277344 50.558594 \"/>\n",
       "<path fill=\"none\" stroke-width=\"1\" stroke-linecap=\"butt\" stroke-linejoin=\"miter\" stroke=\"rgb(26.666667%, 26.666667%, 26.666667%)\" stroke-opacity=\"1\" stroke-miterlimit=\"10\" d=\"M 35.277344 149.441406 L 35.277344 50.558594 \"/>\n",
       "<path fill=\"none\" stroke-width=\"1\" stroke-linecap=\"butt\" stroke-linejoin=\"miter\" stroke=\"rgb(26.666667%, 26.666667%, 26.666667%)\" stroke-opacity=\"1\" stroke-miterlimit=\"10\" d=\"M 20 100 L 35.277344 50.558594 \"/>\n",
       "<path fill=\"none\" stroke-width=\"1\" stroke-linecap=\"butt\" stroke-linejoin=\"miter\" stroke=\"rgb(26.666667%, 26.666667%, 26.666667%)\" stroke-opacity=\"1\" stroke-miterlimit=\"10\" d=\"M 35.277344 149.441406 L 75.277344 20 \"/>\n",
       "<path fill=\"none\" stroke-width=\"1\" stroke-linecap=\"butt\" stroke-linejoin=\"miter\" stroke=\"rgb(26.666667%, 26.666667%, 26.666667%)\" stroke-opacity=\"1\" stroke-miterlimit=\"10\" d=\"M 180 100 L 124.722656 20 \"/>\n",
       "<path fill=\"none\" stroke-width=\"1\" stroke-linecap=\"butt\" stroke-linejoin=\"miter\" stroke=\"rgb(26.666667%, 26.666667%, 26.666667%)\" stroke-opacity=\"1\" stroke-miterlimit=\"10\" d=\"M 124.722656 180 L 124.722656 20 \"/>\n",
       "<path fill=\"none\" stroke-width=\"1\" stroke-linecap=\"butt\" stroke-linejoin=\"miter\" stroke=\"rgb(26.666667%, 26.666667%, 26.666667%)\" stroke-opacity=\"1\" stroke-miterlimit=\"10\" d=\"M 75.277344 180 L 124.722656 20 \"/>\n",
       "<path fill=\"none\" stroke-width=\"1\" stroke-linecap=\"butt\" stroke-linejoin=\"miter\" stroke=\"rgb(26.666667%, 26.666667%, 26.666667%)\" stroke-opacity=\"1\" stroke-miterlimit=\"10\" d=\"M 35.277344 149.441406 L 124.722656 20 \"/>\n",
       "<path fill=\"none\" stroke-width=\"1\" stroke-linecap=\"butt\" stroke-linejoin=\"miter\" stroke=\"rgb(26.666667%, 26.666667%, 26.666667%)\" stroke-opacity=\"1\" stroke-miterlimit=\"10\" d=\"M 35.277344 50.558594 L 124.722656 20 \"/>\n",
       "<path fill=\"none\" stroke-width=\"1\" stroke-linecap=\"butt\" stroke-linejoin=\"miter\" stroke=\"rgb(26.666667%, 26.666667%, 26.666667%)\" stroke-opacity=\"1\" stroke-miterlimit=\"10\" d=\"M 180 100 L 164.722656 50.558594 \"/>\n",
       "<path fill=\"none\" stroke-width=\"1\" stroke-linecap=\"butt\" stroke-linejoin=\"miter\" stroke=\"rgb(26.666667%, 26.666667%, 26.666667%)\" stroke-opacity=\"1\" stroke-miterlimit=\"10\" d=\"M 35.277344 149.441406 L 164.722656 50.558594 \"/>\n",
       "<path fill=\"none\" stroke-width=\"1\" stroke-linecap=\"butt\" stroke-linejoin=\"miter\" stroke=\"rgb(26.666667%, 26.666667%, 26.666667%)\" stroke-opacity=\"1\" stroke-miterlimit=\"10\" d=\"M 20 100 L 164.722656 50.558594 \"/>\n",
       "<path fill=\"none\" stroke-width=\"1\" stroke-linecap=\"butt\" stroke-linejoin=\"miter\" stroke=\"rgb(26.666667%, 26.666667%, 26.666667%)\" stroke-opacity=\"1\" stroke-miterlimit=\"10\" d=\"M 75.277344 20 L 164.722656 50.558594 \"/>\n",
       "<path fill-rule=\"nonzero\" fill=\"rgb(100%, 0%, 0%)\" fill-opacity=\"1\" stroke-width=\"1\" stroke-linecap=\"butt\" stroke-linejoin=\"miter\" stroke=\"rgb(0%, 0%, 0%)\" stroke-opacity=\"1\" stroke-miterlimit=\"10\" d=\"M 190 100 C 190 105.523438 185.523438 110 180 110 C 174.476562 110 170 105.523438 170 100 C 170 94.476562 174.476562 90 180 90 C 185.523438 90 190 94.476562 190 100 \"/>\n",
       "<path fill-rule=\"nonzero\" fill=\"rgb(100%, 0%, 0%)\" fill-opacity=\"1\" stroke-width=\"1\" stroke-linecap=\"butt\" stroke-linejoin=\"miter\" stroke=\"rgb(0%, 0%, 0%)\" stroke-opacity=\"1\" stroke-miterlimit=\"10\" d=\"M 174.722656 149.441406 C 174.722656 154.964844 170.246094 159.441406 164.722656 159.441406 C 159.199219 159.441406 154.722656 154.964844 154.722656 149.441406 C 154.722656 143.917969 159.199219 139.441406 164.722656 139.441406 C 170.246094 139.441406 174.722656 143.917969 174.722656 149.441406 \"/>\n",
       "<path fill-rule=\"nonzero\" fill=\"rgb(100%, 0%, 0%)\" fill-opacity=\"1\" stroke-width=\"1\" stroke-linecap=\"butt\" stroke-linejoin=\"miter\" stroke=\"rgb(0%, 0%, 0%)\" stroke-opacity=\"1\" stroke-miterlimit=\"10\" d=\"M 134.722656 180 C 134.722656 185.523438 130.246094 190 124.722656 190 C 119.199219 190 114.722656 185.523438 114.722656 180 C 114.722656 174.476562 119.199219 170 124.722656 170 C 130.246094 170 134.722656 174.476562 134.722656 180 \"/>\n",
       "<path fill-rule=\"nonzero\" fill=\"rgb(100%, 0%, 0%)\" fill-opacity=\"1\" stroke-width=\"1\" stroke-linecap=\"butt\" stroke-linejoin=\"miter\" stroke=\"rgb(0%, 0%, 0%)\" stroke-opacity=\"1\" stroke-miterlimit=\"10\" d=\"M 85.277344 180 C 85.277344 185.523438 80.800781 190 75.277344 190 C 69.753906 190 65.277344 185.523438 65.277344 180 C 65.277344 174.476562 69.753906 170 75.277344 170 C 80.800781 170 85.277344 174.476562 85.277344 180 \"/>\n",
       "<path fill-rule=\"nonzero\" fill=\"rgb(100%, 0%, 0%)\" fill-opacity=\"1\" stroke-width=\"1\" stroke-linecap=\"butt\" stroke-linejoin=\"miter\" stroke=\"rgb(0%, 0%, 0%)\" stroke-opacity=\"1\" stroke-miterlimit=\"10\" d=\"M 45.277344 149.441406 C 45.277344 154.964844 40.800781 159.441406 35.277344 159.441406 C 29.753906 159.441406 25.277344 154.964844 25.277344 149.441406 C 25.277344 143.917969 29.753906 139.441406 35.277344 139.441406 C 40.800781 139.441406 45.277344 143.917969 45.277344 149.441406 \"/>\n",
       "<path fill-rule=\"nonzero\" fill=\"rgb(100%, 0%, 0%)\" fill-opacity=\"1\" stroke-width=\"1\" stroke-linecap=\"butt\" stroke-linejoin=\"miter\" stroke=\"rgb(0%, 0%, 0%)\" stroke-opacity=\"1\" stroke-miterlimit=\"10\" d=\"M 30 100 C 30 105.523438 25.523438 110 20 110 C 14.476562 110 10 105.523438 10 100 C 10 94.476562 14.476562 90 20 90 C 25.523438 90 30 94.476562 30 100 \"/>\n",
       "<path fill-rule=\"nonzero\" fill=\"rgb(100%, 0%, 0%)\" fill-opacity=\"1\" stroke-width=\"1\" stroke-linecap=\"butt\" stroke-linejoin=\"miter\" stroke=\"rgb(0%, 0%, 0%)\" stroke-opacity=\"1\" stroke-miterlimit=\"10\" d=\"M 45.277344 50.558594 C 45.277344 56.082031 40.800781 60.558594 35.277344 60.558594 C 29.753906 60.558594 25.277344 56.082031 25.277344 50.558594 C 25.277344 45.035156 29.753906 40.558594 35.277344 40.558594 C 40.800781 40.558594 45.277344 45.035156 45.277344 50.558594 \"/>\n",
       "<path fill-rule=\"nonzero\" fill=\"rgb(100%, 0%, 0%)\" fill-opacity=\"1\" stroke-width=\"1\" stroke-linecap=\"butt\" stroke-linejoin=\"miter\" stroke=\"rgb(0%, 0%, 0%)\" stroke-opacity=\"1\" stroke-miterlimit=\"10\" d=\"M 85.277344 20 C 85.277344 25.523438 80.800781 30 75.277344 30 C 69.753906 30 65.277344 25.523438 65.277344 20 C 65.277344 14.476562 69.753906 10 75.277344 10 C 80.800781 10 85.277344 14.476562 85.277344 20 \"/>\n",
       "<path fill-rule=\"nonzero\" fill=\"rgb(100%, 0%, 0%)\" fill-opacity=\"1\" stroke-width=\"1\" stroke-linecap=\"butt\" stroke-linejoin=\"miter\" stroke=\"rgb(0%, 0%, 0%)\" stroke-opacity=\"1\" stroke-miterlimit=\"10\" d=\"M 134.722656 20 C 134.722656 25.523438 130.246094 30 124.722656 30 C 119.199219 30 114.722656 25.523438 114.722656 20 C 114.722656 14.476562 119.199219 10 124.722656 10 C 130.246094 10 134.722656 14.476562 134.722656 20 \"/>\n",
       "<path fill-rule=\"nonzero\" fill=\"rgb(100%, 0%, 0%)\" fill-opacity=\"1\" stroke-width=\"1\" stroke-linecap=\"butt\" stroke-linejoin=\"miter\" stroke=\"rgb(0%, 0%, 0%)\" stroke-opacity=\"1\" stroke-miterlimit=\"10\" d=\"M 174.722656 50.558594 C 174.722656 56.082031 170.246094 60.558594 164.722656 60.558594 C 159.199219 60.558594 154.722656 56.082031 154.722656 50.558594 C 154.722656 45.035156 159.199219 40.558594 164.722656 40.558594 C 170.246094 40.558594 174.722656 45.035156 174.722656 50.558594 \"/>\n",
       "<g fill=\"rgb(0%, 0%, 0%)\" fill-opacity=\"1\">\n",
       "<use xlink:href=\"#glyph-0-0\" x=\"176.1875\" y=\"106.503906\"/>\n",
       "</g>\n",
       "<g fill=\"rgb(0%, 0%, 0%)\" fill-opacity=\"1\">\n",
       "<use xlink:href=\"#glyph-0-1\" x=\"161.574219\" y=\"155.925781\"/>\n",
       "</g>\n",
       "<g fill=\"rgb(0%, 0%, 0%)\" fill-opacity=\"1\">\n",
       "<use xlink:href=\"#glyph-0-2\" x=\"120.898438\" y=\"186.523438\"/>\n",
       "</g>\n",
       "<g fill=\"rgb(0%, 0%, 0%)\" fill-opacity=\"1\">\n",
       "<use xlink:href=\"#glyph-0-3\" x=\"71.523438\" y=\"186.511719\"/>\n",
       "</g>\n",
       "<g fill=\"rgb(0%, 0%, 0%)\" fill-opacity=\"1\">\n",
       "<use xlink:href=\"#glyph-0-4\" x=\"31.441406\" y=\"155.960938\"/>\n",
       "</g>\n",
       "<g fill=\"rgb(0%, 0%, 0%)\" fill-opacity=\"1\">\n",
       "<use xlink:href=\"#glyph-0-5\" x=\"16.179688\" y=\"106.421875\"/>\n",
       "</g>\n",
       "<g fill=\"rgb(0%, 0%, 0%)\" fill-opacity=\"1\">\n",
       "<use xlink:href=\"#glyph-0-6\" x=\"31.394531\" y=\"57.082031\"/>\n",
       "</g>\n",
       "<g fill=\"rgb(0%, 0%, 0%)\" fill-opacity=\"1\">\n",
       "<use xlink:href=\"#glyph-0-7\" x=\"71.363281\" y=\"26.421875\"/>\n",
       "</g>\n",
       "<g fill=\"rgb(0%, 0%, 0%)\" fill-opacity=\"1\">\n",
       "<use xlink:href=\"#glyph-0-8\" x=\"120.90625\" y=\"26.519531\"/>\n",
       "</g>\n",
       "<g fill=\"rgb(0%, 0%, 0%)\" fill-opacity=\"1\">\n",
       "<use xlink:href=\"#glyph-0-9\" x=\"160.914062\" y=\"57.070312\"/>\n",
       "</g>\n",
       "</svg>\n"
      ],
      "text/plain": [
       "<igraph.drawing.cairo.plot.CairoPlot at 0x12417d130>"
      ]
     },
     "execution_count": 27,
     "metadata": {
      "image/svg+xml": {
       "isolated": true
      }
     },
     "output_type": "execute_result"
    }
   ],
   "source": [
    "ig.plot(g2,bbox=(200,200),layout='circle',vertex_label=range(N))"
   ]
  },
  {
   "cell_type": "code",
   "execution_count": 33,
   "id": "26d9a6f2-6196-4996-8465-366c9ad638d5",
   "metadata": {},
   "outputs": [],
   "source": [
    "g3 = ig.Graph.Erdos_Renyi(100000,0.05)\n",
    "#ig.plot(g3,bbox=(300,300))"
   ]
  },
  {
   "cell_type": "code",
   "execution_count": 34,
   "id": "02c211fc-8b14-4bf1-a2b2-9cd7b13746c4",
   "metadata": {},
   "outputs": [
    {
     "data": {
      "text/plain": [
       "(array([9.0000e+00, 1.9900e+02, 2.0250e+03, 1.0819e+04, 2.7021e+04,\n",
       "        3.3495e+04, 1.9905e+04, 5.6410e+03, 8.3100e+02, 5.5000e+01]),\n",
       " array([4680. , 4740.6, 4801.2, 4861.8, 4922.4, 4983. , 5043.6, 5104.2,\n",
       "        5164.8, 5225.4, 5286. ]),\n",
       " <BarContainer object of 10 artists>)"
      ]
     },
     "execution_count": 34,
     "metadata": {},
     "output_type": "execute_result"
    },
    {
     "data": {
      "image/png": "[encoded data removed]",
      "text/plain": [
       "<Figure size 640x480 with 1 Axes>"
      ]
     },
     "metadata": {},
     "output_type": "display_data"
    }
   ],
   "source": [
    "plt.hist(g3.degree())"
   ]
  },
  {
   "cell_type": "code",
   "execution_count": null,
   "id": "9c0e6e13-26e1-4f85-b9e5-29047b754cdc",
   "metadata": {},
   "outputs": [],
   "source": []
  }
 ],
 "metadata": {
  "kernelspec": {
   "display_name": "Python 3 (ipykernel)",
   "language": "python",
   "name": "python3"
  },
  "language_info": {
   "codemirror_mode": {
    "name": "ipython",
    "version": 3
   },
   "file_extension": ".py",
   "mimetype": "text/x-python",
   "name": "python",
   "nbconvert_exporter": "python",
   "pygments_lexer": "ipython3",
   "version": "3.9.6"
  }
 },
 "nbformat": 4,
 "nbformat_minor": 5
}
