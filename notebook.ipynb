{
 "cells": [
  {
   "cell_type": "markdown",
   "id": "0ea4fc81-d546-46c3-bc61-23a4909b806e",
   "metadata": {},
   "source": [
    "# ST2 Viral Propagation - An introduction to Random Graphs\n",
    "Friday, January 19th 2024"
   ]
  },
  {
   "cell_type": "markdown",
   "id": "c480fd7c-39f5-47a7-9144-c28842746dbd",
   "metadata": {},
   "source": [
    "## Introduction"
   ]
  },
  {
   "cell_type": "code",
   "execution_count": 1,
   "id": "3051bb8c-b71c-4aa9-a126-96dc2aed14af",
   "metadata": {},
   "outputs": [],
   "source": [
    "import numpy as np\n",
    "import matplotlib.pyplot as plt\n",
    "import random as rg\n",
    "import igraph as ig"
   ]
  },
  {
   "cell_type": "markdown",
   "id": "2e7d7487-e4d0-461e-b172-44dc4bea6523",
   "metadata": {},
   "source": [
    "## The Erdos-Reny Model"
   ]
  },
  {
   "cell_type": "code",
   "execution_count": 2,
   "id": "ac845c41-0578-49bd-bee5-38ccc48e0a75",
   "metadata": {},
   "outputs": [],
   "source": [
    "g1 = ig.Graph()"
   ]
  },
  {
   "cell_type": "code",
   "execution_count": 3,
   "id": "f3bc91b4-b4fb-44b1-b151-ddc670966981",
   "metadata": {},
   "outputs": [
    {
     "data": {
      "image/svg+xml": [
       "<?xml version=\"1.0\" encoding=\"UTF-8\"?>\n",
       "<svg xmlns=\"http://www.w3.org/2000/svg\" xmlns:xlink=\"http://www.w3.org/1999/xlink\" width=\"600\" height=\"600\" viewBox=\"0 0 600 600\">\n",
       "<rect x=\"-60\" y=\"-60\" width=\"720\" height=\"720\" fill=\"rgb(100%, 100%, 100%)\" fill-opacity=\"1\"/>\n",
       "</svg>\n"
      ],
      "text/plain": [
       "<igraph.drawing.cairo.plot.CairoPlot at 0x110c7d730>"
      ]
     },
     "execution_count": 3,
     "metadata": {
      "image/svg+xml": {
       "isolated": true
      }
     },
     "output_type": "execute_result"
    }
   ],
   "source": [
    "ig.plot(g1)"
   ]
  },
  {
   "cell_type": "code",
   "execution_count": 4,
   "id": "95b9a7c2-39b1-4cff-b891-cb65edab2052",
   "metadata": {},
   "outputs": [],
   "source": [
    "N = 10"
   ]
  },
  {
   "cell_type": "code",
   "execution_count": 5,
   "id": "407b7ac5-cb29-4c67-b625-de03a1e1a603",
   "metadata": {},
   "outputs": [],
   "source": [
    "g1.add_vertices(N)"
   ]
  },
  {
   "cell_type": "code",
   "execution_count": 7,
   "id": "f21faa83-6f37-444f-9d61-b119387bf9fa",
   "metadata": {},
   "outputs": [
    {
     "data": {
      "image/svg+xml": [
       "<?xml version=\"1.0\" encoding=\"UTF-8\"?>\n",
       "<svg xmlns=\"http://www.w3.org/2000/svg\" xmlns:xlink=\"http://www.w3.org/1999/xlink\" width=\"200\" height=\"200\" viewBox=\"0 0 200 200\">\n",
       "<rect x=\"-20\" y=\"-20\" width=\"240\" height=\"240\" fill=\"rgb(100%, 100%, 100%)\" fill-opacity=\"1\"/>\n",
       "<path fill-rule=\"nonzero\" fill=\"rgb(100%, 0%, 0%)\" fill-opacity=\"1\" stroke-width=\"1\" stroke-linecap=\"butt\" stroke-linejoin=\"miter\" stroke=\"rgb(0%, 0%, 0%)\" stroke-opacity=\"1\" stroke-miterlimit=\"10\" d=\"M 164.992188 161.285156 C 164.992188 166.808594 160.515625 171.285156 154.992188 171.285156 C 149.472656 171.285156 144.992188 166.808594 144.992188 161.285156 C 144.992188 155.765625 149.472656 151.285156 154.992188 151.285156 C 160.515625 151.285156 164.992188 155.765625 164.992188 161.285156 \"/>\n",
       "<path fill-rule=\"nonzero\" fill=\"rgb(100%, 0%, 0%)\" fill-opacity=\"1\" stroke-width=\"1\" stroke-linecap=\"butt\" stroke-linejoin=\"miter\" stroke=\"rgb(0%, 0%, 0%)\" stroke-opacity=\"1\" stroke-miterlimit=\"10\" d=\"M 162.382812 41.976562 C 162.382812 47.496094 157.90625 51.976562 152.382812 51.976562 C 146.859375 51.976562 142.382812 47.496094 142.382812 41.976562 C 142.382812 36.453125 146.859375 31.976562 152.382812 31.976562 C 157.90625 31.976562 162.382812 36.453125 162.382812 41.976562 \"/>\n",
       "<path fill-rule=\"nonzero\" fill=\"rgb(100%, 0%, 0%)\" fill-opacity=\"1\" stroke-width=\"1\" stroke-linecap=\"butt\" stroke-linejoin=\"miter\" stroke=\"rgb(0%, 0%, 0%)\" stroke-opacity=\"1\" stroke-miterlimit=\"10\" d=\"M 111.800781 20 C 111.800781 25.523438 107.324219 30 101.800781 30 C 96.277344 30 91.800781 25.523438 91.800781 20 C 91.800781 14.476562 96.277344 10 101.800781 10 C 107.324219 10 111.800781 14.476562 111.800781 20 \"/>\n",
       "<path fill-rule=\"nonzero\" fill=\"rgb(100%, 0%, 0%)\" fill-opacity=\"1\" stroke-width=\"1\" stroke-linecap=\"butt\" stroke-linejoin=\"miter\" stroke=\"rgb(0%, 0%, 0%)\" stroke-opacity=\"1\" stroke-miterlimit=\"10\" d=\"M 135.382812 111.976562 C 135.382812 117.5 130.90625 121.976562 125.382812 121.976562 C 119.859375 121.976562 115.382812 117.5 115.382812 111.976562 C 115.382812 106.457031 119.859375 101.976562 125.382812 101.976562 C 130.90625 101.976562 135.382812 106.457031 135.382812 111.976562 \"/>\n",
       "<path fill-rule=\"nonzero\" fill=\"rgb(100%, 0%, 0%)\" fill-opacity=\"1\" stroke-width=\"1\" stroke-linecap=\"butt\" stroke-linejoin=\"miter\" stroke=\"rgb(0%, 0%, 0%)\" stroke-opacity=\"1\" stroke-miterlimit=\"10\" d=\"M 84.96875 88.386719 C 84.96875 93.910156 80.492188 98.386719 74.96875 98.386719 C 69.445312 98.386719 64.96875 93.910156 64.96875 88.386719 C 64.96875 82.863281 69.445312 78.386719 74.96875 78.386719 C 80.492188 78.386719 84.96875 82.863281 84.96875 88.386719 \"/>\n",
       "<path fill-rule=\"nonzero\" fill=\"rgb(100%, 0%, 0%)\" fill-opacity=\"1\" stroke-width=\"1\" stroke-linecap=\"butt\" stroke-linejoin=\"miter\" stroke=\"rgb(0%, 0%, 0%)\" stroke-opacity=\"1\" stroke-miterlimit=\"10\" d=\"M 55.078125 38.859375 C 55.078125 44.382812 50.601562 48.859375 45.078125 48.859375 C 39.554688 48.859375 35.078125 44.382812 35.078125 38.859375 C 35.078125 33.339844 39.554688 28.859375 45.078125 28.859375 C 50.601562 28.859375 55.078125 33.339844 55.078125 38.859375 \"/>\n",
       "<path fill-rule=\"nonzero\" fill=\"rgb(100%, 0%, 0%)\" fill-opacity=\"1\" stroke-width=\"1\" stroke-linecap=\"butt\" stroke-linejoin=\"miter\" stroke=\"rgb(0%, 0%, 0%)\" stroke-opacity=\"1\" stroke-miterlimit=\"10\" d=\"M 57.402344 157.859375 C 57.402344 163.382812 52.925781 167.859375 47.402344 167.859375 C 41.878906 167.859375 37.402344 163.382812 37.402344 157.859375 C 37.402344 152.335938 41.878906 147.859375 47.402344 147.859375 C 52.925781 147.859375 57.402344 152.335938 57.402344 157.859375 \"/>\n",
       "<path fill-rule=\"nonzero\" fill=\"rgb(100%, 0%, 0%)\" fill-opacity=\"1\" stroke-width=\"1\" stroke-linecap=\"butt\" stroke-linejoin=\"miter\" stroke=\"rgb(0%, 0%, 0%)\" stroke-opacity=\"1\" stroke-miterlimit=\"10\" d=\"M 30 103.421875 C 30 108.945312 25.523438 113.421875 20 113.421875 C 14.476562 113.421875 10 108.945312 10 103.421875 C 10 97.898438 14.476562 93.421875 20 93.421875 C 25.523438 93.421875 30 97.898438 30 103.421875 \"/>\n",
       "<path fill-rule=\"nonzero\" fill=\"rgb(100%, 0%, 0%)\" fill-opacity=\"1\" stroke-width=\"1\" stroke-linecap=\"butt\" stroke-linejoin=\"miter\" stroke=\"rgb(0%, 0%, 0%)\" stroke-opacity=\"1\" stroke-miterlimit=\"10\" d=\"M 190 96.230469 C 190 101.753906 185.523438 106.230469 180 106.230469 C 174.476562 106.230469 170 101.753906 170 96.230469 C 170 90.707031 174.476562 86.230469 180 86.230469 C 185.523438 86.230469 190 90.707031 190 96.230469 \"/>\n",
       "<path fill-rule=\"nonzero\" fill=\"rgb(100%, 0%, 0%)\" fill-opacity=\"1\" stroke-width=\"1\" stroke-linecap=\"butt\" stroke-linejoin=\"miter\" stroke=\"rgb(0%, 0%, 0%)\" stroke-opacity=\"1\" stroke-miterlimit=\"10\" d=\"M 108.007812 180 C 108.007812 185.523438 103.53125 190 98.007812 190 C 92.484375 190 88.007812 185.523438 88.007812 180 C 88.007812 174.476562 92.484375 170 98.007812 170 C 103.53125 170 108.007812 174.476562 108.007812 180 \"/>\n",
       "</svg>\n"
      ],
      "text/plain": [
       "<igraph.drawing.cairo.plot.CairoPlot at 0x10cb49970>"
      ]
     },
     "execution_count": 7,
     "metadata": {
      "image/svg+xml": {
       "isolated": true
      }
     },
     "output_type": "execute_result"
    }
   ],
   "source": [
    "ig.plot(g1,bbox=(200,200))"
   ]
  },
  {
   "cell_type": "code",
   "execution_count": null,
   "id": "28ef19a8-6e4b-4d77-b167-e5c941dddc39",
   "metadata": {},
   "outputs": [],
   "source": []
  }
 ],
 "metadata": {
  "kernelspec": {
   "display_name": "Python 3 (ipykernel)",
   "language": "python",
   "name": "python3"
  },
  "language_info": {
   "codemirror_mode": {
    "name": "ipython",
    "version": 3
   },
   "file_extension": ".py",
   "mimetype": "text/x-python",
   "name": "python",
   "nbconvert_exporter": "python",
   "pygments_lexer": "ipython3",
   "version": "3.9.6"
  }
 },
 "nbformat": 4,
 "nbformat_minor": 5
}
