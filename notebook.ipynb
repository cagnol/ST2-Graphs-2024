{
 "cells": [
  {
   "cell_type": "markdown",
   "id": "0ea4fc81-d546-46c3-bc61-23a4909b806e",
   "metadata": {},
   "source": [
    "# ST2 Viral Propagation - An introduction to Random Graphs\n",
    "Friday, January 19th 2024"
   ]
  },
  {
   "cell_type": "markdown",
   "id": "c480fd7c-39f5-47a7-9144-c28842746dbd",
   "metadata": {},
   "source": [
    "## Introduction"
   ]
  },
  {
   "cell_type": "code",
   "execution_count": 13,
   "id": "3051bb8c-b71c-4aa9-a126-96dc2aed14af",
   "metadata": {},
   "outputs": [],
   "source": [
    "import numpy as np\n",
    "import matplotlib.pyplot as plt\n",
    "import random as rd\n",
    "import igraph as ig"
   ]
  },
  {
   "cell_type": "markdown",
   "id": "2e7d7487-e4d0-461e-b172-44dc4bea6523",
   "metadata": {},
   "source": [
    "## The Erdos-Reny Model"
   ]
  },
  {
   "cell_type": "code",
   "execution_count": 14,
   "id": "ac845c41-0578-49bd-bee5-38ccc48e0a75",
   "metadata": {},
   "outputs": [],
   "source": [
    "g1 = ig.Graph()"
   ]
  },
  {
   "cell_type": "code",
   "execution_count": 15,
   "id": "f3bc91b4-b4fb-44b1-b151-ddc670966981",
   "metadata": {},
   "outputs": [
    {
     "data": {
      "image/svg+xml": [
       "<?xml version=\"1.0\" encoding=\"UTF-8\"?>\n",
       "<svg xmlns=\"http://www.w3.org/2000/svg\" xmlns:xlink=\"http://www.w3.org/1999/xlink\" width=\"600\" height=\"600\" viewBox=\"0 0 600 600\">\n",
       "<rect x=\"-60\" y=\"-60\" width=\"720\" height=\"720\" fill=\"rgb(100%, 100%, 100%)\" fill-opacity=\"1\"/>\n",
       "</svg>\n"
      ],
      "text/plain": [
       "<igraph.drawing.cairo.plot.CairoPlot at 0x123dc3be0>"
      ]
     },
     "execution_count": 15,
     "metadata": {
      "image/svg+xml": {
       "isolated": true
      }
     },
     "output_type": "execute_result"
    }
   ],
   "source": [
    "ig.plot(g1)"
   ]
  },
  {
   "cell_type": "code",
   "execution_count": 16,
   "id": "95b9a7c2-39b1-4cff-b891-cb65edab2052",
   "metadata": {},
   "outputs": [],
   "source": [
    "N = 10"
   ]
  },
  {
   "cell_type": "code",
   "execution_count": 17,
   "id": "407b7ac5-cb29-4c67-b625-de03a1e1a603",
   "metadata": {},
   "outputs": [],
   "source": [
    "g1.add_vertices(N)"
   ]
  },
  {
   "cell_type": "code",
   "execution_count": 18,
   "id": "f21faa83-6f37-444f-9d61-b119387bf9fa",
   "metadata": {},
   "outputs": [
    {
     "data": {
      "image/svg+xml": [
       "<?xml version=\"1.0\" encoding=\"UTF-8\"?>\n",
       "<svg xmlns=\"http://www.w3.org/2000/svg\" xmlns:xlink=\"http://www.w3.org/1999/xlink\" width=\"200\" height=\"200\" viewBox=\"0 0 200 200\">\n",
       "<rect x=\"-20\" y=\"-20\" width=\"240\" height=\"240\" fill=\"rgb(100%, 100%, 100%)\" fill-opacity=\"1\"/>\n",
       "<path fill-rule=\"nonzero\" fill=\"rgb(100%, 0%, 0%)\" fill-opacity=\"1\" stroke-width=\"1\" stroke-linecap=\"butt\" stroke-linejoin=\"miter\" stroke=\"rgb(0%, 0%, 0%)\" stroke-opacity=\"1\" stroke-miterlimit=\"10\" d=\"M 89.796875 180 C 89.796875 185.523438 85.320312 190 79.796875 190 C 74.273438 190 69.796875 185.523438 69.796875 180 C 69.796875 174.476562 74.273438 170 79.796875 170 C 85.320312 170 89.796875 174.476562 89.796875 180 \"/>\n",
       "<path fill-rule=\"nonzero\" fill=\"rgb(100%, 0%, 0%)\" fill-opacity=\"1\" stroke-width=\"1\" stroke-linecap=\"butt\" stroke-linejoin=\"miter\" stroke=\"rgb(0%, 0%, 0%)\" stroke-opacity=\"1\" stroke-miterlimit=\"10\" d=\"M 44.183594 147.84375 C 44.183594 153.367188 39.707031 157.84375 34.183594 157.84375 C 28.660156 157.84375 24.183594 153.367188 24.183594 147.84375 C 24.183594 142.320312 28.660156 137.84375 34.183594 137.84375 C 39.707031 137.84375 44.183594 142.320312 44.183594 147.84375 \"/>\n",
       "<path fill-rule=\"nonzero\" fill=\"rgb(100%, 0%, 0%)\" fill-opacity=\"1\" stroke-width=\"1\" stroke-linecap=\"butt\" stroke-linejoin=\"miter\" stroke=\"rgb(0%, 0%, 0%)\" stroke-opacity=\"1\" stroke-miterlimit=\"10\" d=\"M 190 80.363281 C 190 85.886719 185.523438 90.363281 180 90.363281 C 174.476562 90.363281 170 85.886719 170 80.363281 C 170 74.839844 174.476562 70.363281 180 70.363281 C 185.523438 70.363281 190 74.839844 190 80.363281 \"/>\n",
       "<path fill-rule=\"nonzero\" fill=\"rgb(100%, 0%, 0%)\" fill-opacity=\"1\" stroke-width=\"1\" stroke-linecap=\"butt\" stroke-linejoin=\"miter\" stroke=\"rgb(0%, 0%, 0%)\" stroke-opacity=\"1\" stroke-miterlimit=\"10\" d=\"M 184.914062 135.933594 C 184.914062 141.457031 180.4375 145.933594 174.914062 145.933594 C 169.394531 145.933594 164.914062 141.457031 164.914062 135.933594 C 164.914062 130.414062 169.394531 125.933594 174.914062 125.933594 C 180.4375 125.933594 184.914062 130.414062 184.914062 135.933594 \"/>\n",
       "<path fill-rule=\"nonzero\" fill=\"rgb(100%, 0%, 0%)\" fill-opacity=\"1\" stroke-width=\"1\" stroke-linecap=\"butt\" stroke-linejoin=\"miter\" stroke=\"rgb(0%, 0%, 0%)\" stroke-opacity=\"1\" stroke-miterlimit=\"10\" d=\"M 53.648438 43.347656 C 53.648438 48.871094 49.171875 53.347656 43.648438 53.347656 C 38.125 53.347656 33.648438 48.871094 33.648438 43.347656 C 33.648438 37.828125 38.125 33.347656 43.648438 33.347656 C 49.171875 33.347656 53.648438 37.828125 53.648438 43.347656 \"/>\n",
       "<path fill-rule=\"nonzero\" fill=\"rgb(100%, 0%, 0%)\" fill-opacity=\"1\" stroke-width=\"1\" stroke-linecap=\"butt\" stroke-linejoin=\"miter\" stroke=\"rgb(0%, 0%, 0%)\" stroke-opacity=\"1\" stroke-miterlimit=\"10\" d=\"M 145.371094 175.257812 C 145.371094 180.78125 140.890625 185.257812 135.371094 185.257812 C 129.847656 185.257812 125.371094 180.78125 125.371094 175.257812 C 125.371094 169.734375 129.847656 165.257812 135.371094 165.257812 C 140.890625 165.257812 145.371094 169.734375 145.371094 175.257812 \"/>\n",
       "<path fill-rule=\"nonzero\" fill=\"rgb(100%, 0%, 0%)\" fill-opacity=\"1\" stroke-width=\"1\" stroke-linecap=\"butt\" stroke-linejoin=\"miter\" stroke=\"rgb(0%, 0%, 0%)\" stroke-opacity=\"1\" stroke-miterlimit=\"10\" d=\"M 158.144531 34.527344 C 158.144531 40.050781 153.667969 44.527344 148.144531 44.527344 C 142.621094 44.527344 138.144531 40.050781 138.144531 34.527344 C 138.144531 29.003906 142.621094 24.527344 148.144531 24.527344 C 153.667969 24.527344 158.144531 29.003906 158.144531 34.527344 \"/>\n",
       "<path fill-rule=\"nonzero\" fill=\"rgb(100%, 0%, 0%)\" fill-opacity=\"1\" stroke-width=\"1\" stroke-linecap=\"butt\" stroke-linejoin=\"miter\" stroke=\"rgb(0%, 0%, 0%)\" stroke-opacity=\"1\" stroke-miterlimit=\"10\" d=\"M 104.292969 20 C 104.292969 25.523438 99.8125 30 94.292969 30 C 88.769531 30 84.292969 25.523438 84.292969 20 C 84.292969 14.476562 88.769531 10 94.292969 10 C 99.8125 10 104.292969 14.476562 104.292969 20 \"/>\n",
       "<path fill-rule=\"nonzero\" fill=\"rgb(100%, 0%, 0%)\" fill-opacity=\"1\" stroke-width=\"1\" stroke-linecap=\"butt\" stroke-linejoin=\"miter\" stroke=\"rgb(0%, 0%, 0%)\" stroke-opacity=\"1\" stroke-miterlimit=\"10\" d=\"M 111.164062 101.253906 C 111.164062 106.777344 106.6875 111.253906 101.164062 111.253906 C 95.640625 111.253906 91.164062 106.777344 91.164062 101.253906 C 91.164062 95.730469 95.640625 91.253906 101.164062 91.253906 C 106.6875 91.253906 111.164062 95.730469 111.164062 101.253906 \"/>\n",
       "<path fill-rule=\"nonzero\" fill=\"rgb(100%, 0%, 0%)\" fill-opacity=\"1\" stroke-width=\"1\" stroke-linecap=\"butt\" stroke-linejoin=\"miter\" stroke=\"rgb(0%, 0%, 0%)\" stroke-opacity=\"1\" stroke-miterlimit=\"10\" d=\"M 30 93.871094 C 30 99.394531 25.523438 103.871094 20 103.871094 C 14.476562 103.871094 10 99.394531 10 93.871094 C 10 88.351562 14.476562 83.871094 20 83.871094 C 25.523438 83.871094 30 88.351562 30 93.871094 \"/>\n",
       "</svg>\n"
      ],
      "text/plain": [
       "<igraph.drawing.cairo.plot.CairoPlot at 0x10cc359a0>"
      ]
     },
     "execution_count": 18,
     "metadata": {
      "image/svg+xml": {
       "isolated": true
      }
     },
     "output_type": "execute_result"
    }
   ],
   "source": [
    "ig.plot(g1,bbox=(200,200))"
   ]
  },
  {
   "cell_type": "code",
   "execution_count": 19,
   "id": "28ef19a8-6e4b-4d77-b167-e5c941dddc39",
   "metadata": {},
   "outputs": [
    {
     "name": "stdout",
     "output_type": "stream",
     "text": [
      "Help on method _add_vertices in module igraph.basic:\n",
      "\n",
      "_add_vertices(n, attributes=None) method of igraph.Graph instance\n",
      "    Adds some vertices to the graph.\n",
      "    \n",
      "    Note that if C{n} is a sequence of strings, indicating the names of the\n",
      "    new vertices, and attributes has a key C{name}, the two conflict. In\n",
      "    that case the attribute will be applied.\n",
      "    \n",
      "    @param n: the number of vertices to be added, or the name of a single\n",
      "      vertex to be added, or a sequence of strings, each corresponding to the\n",
      "      name of a vertex to be added. Names will be assigned to the C{name}\n",
      "      vertex attribute.\n",
      "    @param attributes: dict of sequences, all of length equal to the\n",
      "      number of vertices to be added, containing the attributes of the new\n",
      "      vertices. If n is a string (so a single vertex is added), then the\n",
      "      values of this dict are the attributes themselves, but if n=1 then\n",
      "      they have to be lists of length 1.\n",
      "\n"
     ]
    }
   ],
   "source": [
    "help(g1.add_vertices)"
   ]
  },
  {
   "cell_type": "code",
   "execution_count": 21,
   "id": "85b5c597-05ea-4003-a811-37e48f5f0fdf",
   "metadata": {},
   "outputs": [],
   "source": [
    "for i in range(N):\n",
    "    for j in range(i):\n",
    "        if rd.randint(0,1) == 1:\n",
    "            g1.add_edges([(i,j)])"
   ]
  },
  {
   "cell_type": "code",
   "execution_count": 22,
   "id": "878b5d02-a0a9-42d1-aa8e-929b3d8468c2",
   "metadata": {},
   "outputs": [
    {
     "data": {
      "image/svg+xml": [
       "<?xml version=\"1.0\" encoding=\"UTF-8\"?>\n",
       "<svg xmlns=\"http://www.w3.org/2000/svg\" xmlns:xlink=\"http://www.w3.org/1999/xlink\" width=\"200\" height=\"200\" viewBox=\"0 0 200 200\">\n",
       "<rect x=\"-20\" y=\"-20\" width=\"240\" height=\"240\" fill=\"rgb(100%, 100%, 100%)\" fill-opacity=\"1\"/>\n",
       "<path fill=\"none\" stroke-width=\"1\" stroke-linecap=\"butt\" stroke-linejoin=\"miter\" stroke=\"rgb(26.666667%, 26.666667%, 26.666667%)\" stroke-opacity=\"1\" stroke-miterlimit=\"10\" d=\"M 129.351562 180 L 180 113.691406 \"/>\n",
       "<path fill=\"none\" stroke-width=\"1\" stroke-linecap=\"butt\" stroke-linejoin=\"miter\" stroke=\"rgb(26.666667%, 26.666667%, 26.666667%)\" stroke-opacity=\"1\" stroke-miterlimit=\"10\" d=\"M 129.351562 180 L 40.050781 157.699219 \"/>\n",
       "<path fill=\"none\" stroke-width=\"1\" stroke-linecap=\"butt\" stroke-linejoin=\"miter\" stroke=\"rgb(26.666667%, 26.666667%, 26.666667%)\" stroke-opacity=\"1\" stroke-miterlimit=\"10\" d=\"M 129.351562 180 L 131.40625 122.535156 \"/>\n",
       "<path fill=\"none\" stroke-width=\"1\" stroke-linecap=\"butt\" stroke-linejoin=\"miter\" stroke=\"rgb(26.666667%, 26.666667%, 26.666667%)\" stroke-opacity=\"1\" stroke-miterlimit=\"10\" d=\"M 180 113.691406 L 131.40625 122.535156 \"/>\n",
       "<path fill=\"none\" stroke-width=\"1\" stroke-linecap=\"butt\" stroke-linejoin=\"miter\" stroke=\"rgb(26.666667%, 26.666667%, 26.666667%)\" stroke-opacity=\"1\" stroke-miterlimit=\"10\" d=\"M 40.050781 157.699219 L 20 112.015625 \"/>\n",
       "<path fill=\"none\" stroke-width=\"1\" stroke-linecap=\"butt\" stroke-linejoin=\"miter\" stroke=\"rgb(26.666667%, 26.666667%, 26.666667%)\" stroke-opacity=\"1\" stroke-miterlimit=\"10\" d=\"M 129.351562 180 L 80.980469 135.03125 \"/>\n",
       "<path fill=\"none\" stroke-width=\"1\" stroke-linecap=\"butt\" stroke-linejoin=\"miter\" stroke=\"rgb(26.666667%, 26.666667%, 26.666667%)\" stroke-opacity=\"1\" stroke-miterlimit=\"10\" d=\"M 40.050781 157.699219 L 80.980469 135.03125 \"/>\n",
       "<path fill=\"none\" stroke-width=\"1\" stroke-linecap=\"butt\" stroke-linejoin=\"miter\" stroke=\"rgb(26.666667%, 26.666667%, 26.666667%)\" stroke-opacity=\"1\" stroke-miterlimit=\"10\" d=\"M 131.40625 122.535156 L 80.980469 135.03125 \"/>\n",
       "<path fill=\"none\" stroke-width=\"1\" stroke-linecap=\"butt\" stroke-linejoin=\"miter\" stroke=\"rgb(26.666667%, 26.666667%, 26.666667%)\" stroke-opacity=\"1\" stroke-miterlimit=\"10\" d=\"M 20 112.015625 L 80.980469 135.03125 \"/>\n",
       "<path fill=\"none\" stroke-width=\"1\" stroke-linecap=\"butt\" stroke-linejoin=\"miter\" stroke=\"rgb(26.666667%, 26.666667%, 26.666667%)\" stroke-opacity=\"1\" stroke-miterlimit=\"10\" d=\"M 40.050781 157.699219 L 39.351562 82.085938 \"/>\n",
       "<path fill=\"none\" stroke-width=\"1\" stroke-linecap=\"butt\" stroke-linejoin=\"miter\" stroke=\"rgb(26.666667%, 26.666667%, 26.666667%)\" stroke-opacity=\"1\" stroke-miterlimit=\"10\" d=\"M 131.40625 122.535156 L 39.351562 82.085938 \"/>\n",
       "<path fill=\"none\" stroke-width=\"1\" stroke-linecap=\"butt\" stroke-linejoin=\"miter\" stroke=\"rgb(26.666667%, 26.666667%, 26.666667%)\" stroke-opacity=\"1\" stroke-miterlimit=\"10\" d=\"M 20 112.015625 L 39.351562 82.085938 \"/>\n",
       "<path fill=\"none\" stroke-width=\"1\" stroke-linecap=\"butt\" stroke-linejoin=\"miter\" stroke=\"rgb(26.666667%, 26.666667%, 26.666667%)\" stroke-opacity=\"1\" stroke-miterlimit=\"10\" d=\"M 80.980469 135.03125 L 39.351562 82.085938 \"/>\n",
       "<path fill=\"none\" stroke-width=\"1\" stroke-linecap=\"butt\" stroke-linejoin=\"miter\" stroke=\"rgb(26.666667%, 26.666667%, 26.666667%)\" stroke-opacity=\"1\" stroke-miterlimit=\"10\" d=\"M 180 113.691406 L 129.652344 73.835938 \"/>\n",
       "<path fill=\"none\" stroke-width=\"1\" stroke-linecap=\"butt\" stroke-linejoin=\"miter\" stroke=\"rgb(26.666667%, 26.666667%, 26.666667%)\" stroke-opacity=\"1\" stroke-miterlimit=\"10\" d=\"M 131.40625 122.535156 L 129.652344 73.835938 \"/>\n",
       "<path fill=\"none\" stroke-width=\"1\" stroke-linecap=\"butt\" stroke-linejoin=\"miter\" stroke=\"rgb(26.666667%, 26.666667%, 26.666667%)\" stroke-opacity=\"1\" stroke-miterlimit=\"10\" d=\"M 20 112.015625 L 129.652344 73.835938 \"/>\n",
       "<path fill=\"none\" stroke-width=\"1\" stroke-linecap=\"butt\" stroke-linejoin=\"miter\" stroke=\"rgb(26.666667%, 26.666667%, 26.666667%)\" stroke-opacity=\"1\" stroke-miterlimit=\"10\" d=\"M 80.980469 135.03125 L 129.652344 73.835938 \"/>\n",
       "<path fill=\"none\" stroke-width=\"1\" stroke-linecap=\"butt\" stroke-linejoin=\"miter\" stroke=\"rgb(26.666667%, 26.666667%, 26.666667%)\" stroke-opacity=\"1\" stroke-miterlimit=\"10\" d=\"M 39.351562 82.085938 L 49.253906 20 \"/>\n",
       "<path fill=\"none\" stroke-width=\"1\" stroke-linecap=\"butt\" stroke-linejoin=\"miter\" stroke=\"rgb(26.666667%, 26.666667%, 26.666667%)\" stroke-opacity=\"1\" stroke-miterlimit=\"10\" d=\"M 180 113.691406 L 86.761719 85.210938 \"/>\n",
       "<path fill=\"none\" stroke-width=\"1\" stroke-linecap=\"butt\" stroke-linejoin=\"miter\" stroke=\"rgb(26.666667%, 26.666667%, 26.666667%)\" stroke-opacity=\"1\" stroke-miterlimit=\"10\" d=\"M 40.050781 157.699219 L 86.761719 85.210938 \"/>\n",
       "<path fill=\"none\" stroke-width=\"1\" stroke-linecap=\"butt\" stroke-linejoin=\"miter\" stroke=\"rgb(26.666667%, 26.666667%, 26.666667%)\" stroke-opacity=\"1\" stroke-miterlimit=\"10\" d=\"M 131.40625 122.535156 L 86.761719 85.210938 \"/>\n",
       "<path fill=\"none\" stroke-width=\"1\" stroke-linecap=\"butt\" stroke-linejoin=\"miter\" stroke=\"rgb(26.666667%, 26.666667%, 26.666667%)\" stroke-opacity=\"1\" stroke-miterlimit=\"10\" d=\"M 20 112.015625 L 86.761719 85.210938 \"/>\n",
       "<path fill=\"none\" stroke-width=\"1\" stroke-linecap=\"butt\" stroke-linejoin=\"miter\" stroke=\"rgb(26.666667%, 26.666667%, 26.666667%)\" stroke-opacity=\"1\" stroke-miterlimit=\"10\" d=\"M 80.980469 135.03125 L 86.761719 85.210938 \"/>\n",
       "<path fill=\"none\" stroke-width=\"1\" stroke-linecap=\"butt\" stroke-linejoin=\"miter\" stroke=\"rgb(26.666667%, 26.666667%, 26.666667%)\" stroke-opacity=\"1\" stroke-miterlimit=\"10\" d=\"M 39.351562 82.085938 L 86.761719 85.210938 \"/>\n",
       "<path fill=\"none\" stroke-width=\"1\" stroke-linecap=\"butt\" stroke-linejoin=\"miter\" stroke=\"rgb(26.666667%, 26.666667%, 26.666667%)\" stroke-opacity=\"1\" stroke-miterlimit=\"10\" d=\"M 49.253906 20 L 86.761719 85.210938 \"/>\n",
       "<path fill-rule=\"nonzero\" fill=\"rgb(100%, 0%, 0%)\" fill-opacity=\"1\" stroke-width=\"1\" stroke-linecap=\"butt\" stroke-linejoin=\"miter\" stroke=\"rgb(0%, 0%, 0%)\" stroke-opacity=\"1\" stroke-miterlimit=\"10\" d=\"M 139.351562 180 C 139.351562 185.523438 134.871094 190 129.351562 190 C 123.828125 190 119.351562 185.523438 119.351562 180 C 119.351562 174.476562 123.828125 170 129.351562 170 C 134.871094 170 139.351562 174.476562 139.351562 180 \"/>\n",
       "<path fill-rule=\"nonzero\" fill=\"rgb(100%, 0%, 0%)\" fill-opacity=\"1\" stroke-width=\"1\" stroke-linecap=\"butt\" stroke-linejoin=\"miter\" stroke=\"rgb(0%, 0%, 0%)\" stroke-opacity=\"1\" stroke-miterlimit=\"10\" d=\"M 190 113.691406 C 190 119.214844 185.523438 123.691406 180 123.691406 C 174.476562 123.691406 170 119.214844 170 113.691406 C 170 108.171875 174.476562 103.691406 180 103.691406 C 185.523438 103.691406 190 108.171875 190 113.691406 \"/>\n",
       "<path fill-rule=\"nonzero\" fill=\"rgb(100%, 0%, 0%)\" fill-opacity=\"1\" stroke-width=\"1\" stroke-linecap=\"butt\" stroke-linejoin=\"miter\" stroke=\"rgb(0%, 0%, 0%)\" stroke-opacity=\"1\" stroke-miterlimit=\"10\" d=\"M 50.050781 157.699219 C 50.050781 163.222656 45.574219 167.699219 40.050781 167.699219 C 34.53125 167.699219 30.050781 163.222656 30.050781 157.699219 C 30.050781 152.175781 34.53125 147.699219 40.050781 147.699219 C 45.574219 147.699219 50.050781 152.175781 50.050781 157.699219 \"/>\n",
       "<path fill-rule=\"nonzero\" fill=\"rgb(100%, 0%, 0%)\" fill-opacity=\"1\" stroke-width=\"1\" stroke-linecap=\"butt\" stroke-linejoin=\"miter\" stroke=\"rgb(0%, 0%, 0%)\" stroke-opacity=\"1\" stroke-miterlimit=\"10\" d=\"M 141.40625 122.535156 C 141.40625 128.058594 136.929688 132.535156 131.40625 132.535156 C 125.882812 132.535156 121.40625 128.058594 121.40625 122.535156 C 121.40625 117.011719 125.882812 112.535156 131.40625 112.535156 C 136.929688 112.535156 141.40625 117.011719 141.40625 122.535156 \"/>\n",
       "<path fill-rule=\"nonzero\" fill=\"rgb(100%, 0%, 0%)\" fill-opacity=\"1\" stroke-width=\"1\" stroke-linecap=\"butt\" stroke-linejoin=\"miter\" stroke=\"rgb(0%, 0%, 0%)\" stroke-opacity=\"1\" stroke-miterlimit=\"10\" d=\"M 30 112.015625 C 30 117.539062 25.523438 122.015625 20 122.015625 C 14.476562 122.015625 10 117.539062 10 112.015625 C 10 106.496094 14.476562 102.015625 20 102.015625 C 25.523438 102.015625 30 106.496094 30 112.015625 \"/>\n",
       "<path fill-rule=\"nonzero\" fill=\"rgb(100%, 0%, 0%)\" fill-opacity=\"1\" stroke-width=\"1\" stroke-linecap=\"butt\" stroke-linejoin=\"miter\" stroke=\"rgb(0%, 0%, 0%)\" stroke-opacity=\"1\" stroke-miterlimit=\"10\" d=\"M 90.980469 135.03125 C 90.980469 140.554688 86.5 145.03125 80.980469 145.03125 C 75.457031 145.03125 70.980469 140.554688 70.980469 135.03125 C 70.980469 129.507812 75.457031 125.03125 80.980469 125.03125 C 86.5 125.03125 90.980469 129.507812 90.980469 135.03125 \"/>\n",
       "<path fill-rule=\"nonzero\" fill=\"rgb(100%, 0%, 0%)\" fill-opacity=\"1\" stroke-width=\"1\" stroke-linecap=\"butt\" stroke-linejoin=\"miter\" stroke=\"rgb(0%, 0%, 0%)\" stroke-opacity=\"1\" stroke-miterlimit=\"10\" d=\"M 49.351562 82.085938 C 49.351562 87.605469 44.875 92.085938 39.351562 92.085938 C 33.828125 92.085938 29.351562 87.605469 29.351562 82.085938 C 29.351562 76.5625 33.828125 72.085938 39.351562 72.085938 C 44.875 72.085938 49.351562 76.5625 49.351562 82.085938 \"/>\n",
       "<path fill-rule=\"nonzero\" fill=\"rgb(100%, 0%, 0%)\" fill-opacity=\"1\" stroke-width=\"1\" stroke-linecap=\"butt\" stroke-linejoin=\"miter\" stroke=\"rgb(0%, 0%, 0%)\" stroke-opacity=\"1\" stroke-miterlimit=\"10\" d=\"M 139.652344 73.835938 C 139.652344 79.359375 135.175781 83.835938 129.652344 83.835938 C 124.128906 83.835938 119.652344 79.359375 119.652344 73.835938 C 119.652344 68.3125 124.128906 63.835938 129.652344 63.835938 C 135.175781 63.835938 139.652344 68.3125 139.652344 73.835938 \"/>\n",
       "<path fill-rule=\"nonzero\" fill=\"rgb(100%, 0%, 0%)\" fill-opacity=\"1\" stroke-width=\"1\" stroke-linecap=\"butt\" stroke-linejoin=\"miter\" stroke=\"rgb(0%, 0%, 0%)\" stroke-opacity=\"1\" stroke-miterlimit=\"10\" d=\"M 59.253906 20 C 59.253906 25.523438 54.777344 30 49.253906 30 C 43.734375 30 39.253906 25.523438 39.253906 20 C 39.253906 14.476562 43.734375 10 49.253906 10 C 54.777344 10 59.253906 14.476562 59.253906 20 \"/>\n",
       "<path fill-rule=\"nonzero\" fill=\"rgb(100%, 0%, 0%)\" fill-opacity=\"1\" stroke-width=\"1\" stroke-linecap=\"butt\" stroke-linejoin=\"miter\" stroke=\"rgb(0%, 0%, 0%)\" stroke-opacity=\"1\" stroke-miterlimit=\"10\" d=\"M 96.761719 85.210938 C 96.761719 90.730469 92.285156 95.210938 86.761719 95.210938 C 81.238281 95.210938 76.761719 90.730469 76.761719 85.210938 C 76.761719 79.6875 81.238281 75.210938 86.761719 75.210938 C 92.285156 75.210938 96.761719 79.6875 96.761719 85.210938 \"/>\n",
       "</svg>\n"
      ],
      "text/plain": [
       "<igraph.drawing.cairo.plot.CairoPlot at 0x123fd0100>"
      ]
     },
     "execution_count": 22,
     "metadata": {
      "image/svg+xml": {
       "isolated": true
      }
     },
     "output_type": "execute_result"
    }
   ],
   "source": [
    "ig.plot(g1,bbox=(200,200))"
   ]
  },
  {
   "cell_type": "code",
   "execution_count": 23,
   "id": "b583f641-5de7-48e2-96a1-683564ad85ad",
   "metadata": {},
   "outputs": [
    {
     "data": {
      "image/svg+xml": [
       "<?xml version=\"1.0\" encoding=\"UTF-8\"?>\n",
       "<svg xmlns=\"http://www.w3.org/2000/svg\" xmlns:xlink=\"http://www.w3.org/1999/xlink\" width=\"200\" height=\"200\" viewBox=\"0 0 200 200\">\n",
       "<rect x=\"-20\" y=\"-20\" width=\"240\" height=\"240\" fill=\"rgb(100%, 100%, 100%)\" fill-opacity=\"1\"/>\n",
       "<path fill=\"none\" stroke-width=\"1\" stroke-linecap=\"butt\" stroke-linejoin=\"miter\" stroke=\"rgb(26.666667%, 26.666667%, 26.666667%)\" stroke-opacity=\"1\" stroke-miterlimit=\"10\" d=\"M 180 100 L 164.722656 149.441406 \"/>\n",
       "<path fill=\"none\" stroke-width=\"1\" stroke-linecap=\"butt\" stroke-linejoin=\"miter\" stroke=\"rgb(26.666667%, 26.666667%, 26.666667%)\" stroke-opacity=\"1\" stroke-miterlimit=\"10\" d=\"M 180 100 L 124.722656 180 \"/>\n",
       "<path fill=\"none\" stroke-width=\"1\" stroke-linecap=\"butt\" stroke-linejoin=\"miter\" stroke=\"rgb(26.666667%, 26.666667%, 26.666667%)\" stroke-opacity=\"1\" stroke-miterlimit=\"10\" d=\"M 180 100 L 75.277344 180 \"/>\n",
       "<path fill=\"none\" stroke-width=\"1\" stroke-linecap=\"butt\" stroke-linejoin=\"miter\" stroke=\"rgb(26.666667%, 26.666667%, 26.666667%)\" stroke-opacity=\"1\" stroke-miterlimit=\"10\" d=\"M 164.722656 149.441406 L 75.277344 180 \"/>\n",
       "<path fill=\"none\" stroke-width=\"1\" stroke-linecap=\"butt\" stroke-linejoin=\"miter\" stroke=\"rgb(26.666667%, 26.666667%, 26.666667%)\" stroke-opacity=\"1\" stroke-miterlimit=\"10\" d=\"M 124.722656 180 L 35.277344 149.441406 \"/>\n",
       "<path fill=\"none\" stroke-width=\"1\" stroke-linecap=\"butt\" stroke-linejoin=\"miter\" stroke=\"rgb(26.666667%, 26.666667%, 26.666667%)\" stroke-opacity=\"1\" stroke-miterlimit=\"10\" d=\"M 180 100 L 20 100 \"/>\n",
       "<path fill=\"none\" stroke-width=\"1\" stroke-linecap=\"butt\" stroke-linejoin=\"miter\" stroke=\"rgb(26.666667%, 26.666667%, 26.666667%)\" stroke-opacity=\"1\" stroke-miterlimit=\"10\" d=\"M 124.722656 180 L 20 100 \"/>\n",
       "<path fill=\"none\" stroke-width=\"1\" stroke-linecap=\"butt\" stroke-linejoin=\"miter\" stroke=\"rgb(26.666667%, 26.666667%, 26.666667%)\" stroke-opacity=\"1\" stroke-miterlimit=\"10\" d=\"M 75.277344 180 L 20 100 \"/>\n",
       "<path fill=\"none\" stroke-width=\"1\" stroke-linecap=\"butt\" stroke-linejoin=\"miter\" stroke=\"rgb(26.666667%, 26.666667%, 26.666667%)\" stroke-opacity=\"1\" stroke-miterlimit=\"10\" d=\"M 35.277344 149.441406 L 20 100 \"/>\n",
       "<path fill=\"none\" stroke-width=\"1\" stroke-linecap=\"butt\" stroke-linejoin=\"miter\" stroke=\"rgb(26.666667%, 26.666667%, 26.666667%)\" stroke-opacity=\"1\" stroke-miterlimit=\"10\" d=\"M 124.722656 180 L 35.277344 50.558594 \"/>\n",
       "<path fill=\"none\" stroke-width=\"1\" stroke-linecap=\"butt\" stroke-linejoin=\"miter\" stroke=\"rgb(26.666667%, 26.666667%, 26.666667%)\" stroke-opacity=\"1\" stroke-miterlimit=\"10\" d=\"M 75.277344 180 L 35.277344 50.558594 \"/>\n",
       "<path fill=\"none\" stroke-width=\"1\" stroke-linecap=\"butt\" stroke-linejoin=\"miter\" stroke=\"rgb(26.666667%, 26.666667%, 26.666667%)\" stroke-opacity=\"1\" stroke-miterlimit=\"10\" d=\"M 35.277344 149.441406 L 35.277344 50.558594 \"/>\n",
       "<path fill=\"none\" stroke-width=\"1\" stroke-linecap=\"butt\" stroke-linejoin=\"miter\" stroke=\"rgb(26.666667%, 26.666667%, 26.666667%)\" stroke-opacity=\"1\" stroke-miterlimit=\"10\" d=\"M 20 100 L 35.277344 50.558594 \"/>\n",
       "<path fill=\"none\" stroke-width=\"1\" stroke-linecap=\"butt\" stroke-linejoin=\"miter\" stroke=\"rgb(26.666667%, 26.666667%, 26.666667%)\" stroke-opacity=\"1\" stroke-miterlimit=\"10\" d=\"M 164.722656 149.441406 L 75.277344 20 \"/>\n",
       "<path fill=\"none\" stroke-width=\"1\" stroke-linecap=\"butt\" stroke-linejoin=\"miter\" stroke=\"rgb(26.666667%, 26.666667%, 26.666667%)\" stroke-opacity=\"1\" stroke-miterlimit=\"10\" d=\"M 75.277344 180 L 75.277344 20 \"/>\n",
       "<path fill=\"none\" stroke-width=\"1\" stroke-linecap=\"butt\" stroke-linejoin=\"miter\" stroke=\"rgb(26.666667%, 26.666667%, 26.666667%)\" stroke-opacity=\"1\" stroke-miterlimit=\"10\" d=\"M 35.277344 149.441406 L 75.277344 20 \"/>\n",
       "<path fill=\"none\" stroke-width=\"1\" stroke-linecap=\"butt\" stroke-linejoin=\"miter\" stroke=\"rgb(26.666667%, 26.666667%, 26.666667%)\" stroke-opacity=\"1\" stroke-miterlimit=\"10\" d=\"M 20 100 L 75.277344 20 \"/>\n",
       "<path fill=\"none\" stroke-width=\"1\" stroke-linecap=\"butt\" stroke-linejoin=\"miter\" stroke=\"rgb(26.666667%, 26.666667%, 26.666667%)\" stroke-opacity=\"1\" stroke-miterlimit=\"10\" d=\"M 35.277344 50.558594 L 124.722656 20 \"/>\n",
       "<path fill=\"none\" stroke-width=\"1\" stroke-linecap=\"butt\" stroke-linejoin=\"miter\" stroke=\"rgb(26.666667%, 26.666667%, 26.666667%)\" stroke-opacity=\"1\" stroke-miterlimit=\"10\" d=\"M 164.722656 149.441406 L 164.722656 50.558594 \"/>\n",
       "<path fill=\"none\" stroke-width=\"1\" stroke-linecap=\"butt\" stroke-linejoin=\"miter\" stroke=\"rgb(26.666667%, 26.666667%, 26.666667%)\" stroke-opacity=\"1\" stroke-miterlimit=\"10\" d=\"M 124.722656 180 L 164.722656 50.558594 \"/>\n",
       "<path fill=\"none\" stroke-width=\"1\" stroke-linecap=\"butt\" stroke-linejoin=\"miter\" stroke=\"rgb(26.666667%, 26.666667%, 26.666667%)\" stroke-opacity=\"1\" stroke-miterlimit=\"10\" d=\"M 75.277344 180 L 164.722656 50.558594 \"/>\n",
       "<path fill=\"none\" stroke-width=\"1\" stroke-linecap=\"butt\" stroke-linejoin=\"miter\" stroke=\"rgb(26.666667%, 26.666667%, 26.666667%)\" stroke-opacity=\"1\" stroke-miterlimit=\"10\" d=\"M 35.277344 149.441406 L 164.722656 50.558594 \"/>\n",
       "<path fill=\"none\" stroke-width=\"1\" stroke-linecap=\"butt\" stroke-linejoin=\"miter\" stroke=\"rgb(26.666667%, 26.666667%, 26.666667%)\" stroke-opacity=\"1\" stroke-miterlimit=\"10\" d=\"M 20 100 L 164.722656 50.558594 \"/>\n",
       "<path fill=\"none\" stroke-width=\"1\" stroke-linecap=\"butt\" stroke-linejoin=\"miter\" stroke=\"rgb(26.666667%, 26.666667%, 26.666667%)\" stroke-opacity=\"1\" stroke-miterlimit=\"10\" d=\"M 35.277344 50.558594 L 164.722656 50.558594 \"/>\n",
       "<path fill=\"none\" stroke-width=\"1\" stroke-linecap=\"butt\" stroke-linejoin=\"miter\" stroke=\"rgb(26.666667%, 26.666667%, 26.666667%)\" stroke-opacity=\"1\" stroke-miterlimit=\"10\" d=\"M 124.722656 20 L 164.722656 50.558594 \"/>\n",
       "<path fill-rule=\"nonzero\" fill=\"rgb(100%, 0%, 0%)\" fill-opacity=\"1\" stroke-width=\"1\" stroke-linecap=\"butt\" stroke-linejoin=\"miter\" stroke=\"rgb(0%, 0%, 0%)\" stroke-opacity=\"1\" stroke-miterlimit=\"10\" d=\"M 190 100 C 190 105.523438 185.523438 110 180 110 C 174.476562 110 170 105.523438 170 100 C 170 94.476562 174.476562 90 180 90 C 185.523438 90 190 94.476562 190 100 \"/>\n",
       "<path fill-rule=\"nonzero\" fill=\"rgb(100%, 0%, 0%)\" fill-opacity=\"1\" stroke-width=\"1\" stroke-linecap=\"butt\" stroke-linejoin=\"miter\" stroke=\"rgb(0%, 0%, 0%)\" stroke-opacity=\"1\" stroke-miterlimit=\"10\" d=\"M 174.722656 149.441406 C 174.722656 154.964844 170.246094 159.441406 164.722656 159.441406 C 159.199219 159.441406 154.722656 154.964844 154.722656 149.441406 C 154.722656 143.917969 159.199219 139.441406 164.722656 139.441406 C 170.246094 139.441406 174.722656 143.917969 174.722656 149.441406 \"/>\n",
       "<path fill-rule=\"nonzero\" fill=\"rgb(100%, 0%, 0%)\" fill-opacity=\"1\" stroke-width=\"1\" stroke-linecap=\"butt\" stroke-linejoin=\"miter\" stroke=\"rgb(0%, 0%, 0%)\" stroke-opacity=\"1\" stroke-miterlimit=\"10\" d=\"M 134.722656 180 C 134.722656 185.523438 130.246094 190 124.722656 190 C 119.199219 190 114.722656 185.523438 114.722656 180 C 114.722656 174.476562 119.199219 170 124.722656 170 C 130.246094 170 134.722656 174.476562 134.722656 180 \"/>\n",
       "<path fill-rule=\"nonzero\" fill=\"rgb(100%, 0%, 0%)\" fill-opacity=\"1\" stroke-width=\"1\" stroke-linecap=\"butt\" stroke-linejoin=\"miter\" stroke=\"rgb(0%, 0%, 0%)\" stroke-opacity=\"1\" stroke-miterlimit=\"10\" d=\"M 85.277344 180 C 85.277344 185.523438 80.800781 190 75.277344 190 C 69.753906 190 65.277344 185.523438 65.277344 180 C 65.277344 174.476562 69.753906 170 75.277344 170 C 80.800781 170 85.277344 174.476562 85.277344 180 \"/>\n",
       "<path fill-rule=\"nonzero\" fill=\"rgb(100%, 0%, 0%)\" fill-opacity=\"1\" stroke-width=\"1\" stroke-linecap=\"butt\" stroke-linejoin=\"miter\" stroke=\"rgb(0%, 0%, 0%)\" stroke-opacity=\"1\" stroke-miterlimit=\"10\" d=\"M 45.277344 149.441406 C 45.277344 154.964844 40.800781 159.441406 35.277344 159.441406 C 29.753906 159.441406 25.277344 154.964844 25.277344 149.441406 C 25.277344 143.917969 29.753906 139.441406 35.277344 139.441406 C 40.800781 139.441406 45.277344 143.917969 45.277344 149.441406 \"/>\n",
       "<path fill-rule=\"nonzero\" fill=\"rgb(100%, 0%, 0%)\" fill-opacity=\"1\" stroke-width=\"1\" stroke-linecap=\"butt\" stroke-linejoin=\"miter\" stroke=\"rgb(0%, 0%, 0%)\" stroke-opacity=\"1\" stroke-miterlimit=\"10\" d=\"M 30 100 C 30 105.523438 25.523438 110 20 110 C 14.476562 110 10 105.523438 10 100 C 10 94.476562 14.476562 90 20 90 C 25.523438 90 30 94.476562 30 100 \"/>\n",
       "<path fill-rule=\"nonzero\" fill=\"rgb(100%, 0%, 0%)\" fill-opacity=\"1\" stroke-width=\"1\" stroke-linecap=\"butt\" stroke-linejoin=\"miter\" stroke=\"rgb(0%, 0%, 0%)\" stroke-opacity=\"1\" stroke-miterlimit=\"10\" d=\"M 45.277344 50.558594 C 45.277344 56.082031 40.800781 60.558594 35.277344 60.558594 C 29.753906 60.558594 25.277344 56.082031 25.277344 50.558594 C 25.277344 45.035156 29.753906 40.558594 35.277344 40.558594 C 40.800781 40.558594 45.277344 45.035156 45.277344 50.558594 \"/>\n",
       "<path fill-rule=\"nonzero\" fill=\"rgb(100%, 0%, 0%)\" fill-opacity=\"1\" stroke-width=\"1\" stroke-linecap=\"butt\" stroke-linejoin=\"miter\" stroke=\"rgb(0%, 0%, 0%)\" stroke-opacity=\"1\" stroke-miterlimit=\"10\" d=\"M 85.277344 20 C 85.277344 25.523438 80.800781 30 75.277344 30 C 69.753906 30 65.277344 25.523438 65.277344 20 C 65.277344 14.476562 69.753906 10 75.277344 10 C 80.800781 10 85.277344 14.476562 85.277344 20 \"/>\n",
       "<path fill-rule=\"nonzero\" fill=\"rgb(100%, 0%, 0%)\" fill-opacity=\"1\" stroke-width=\"1\" stroke-linecap=\"butt\" stroke-linejoin=\"miter\" stroke=\"rgb(0%, 0%, 0%)\" stroke-opacity=\"1\" stroke-miterlimit=\"10\" d=\"M 134.722656 20 C 134.722656 25.523438 130.246094 30 124.722656 30 C 119.199219 30 114.722656 25.523438 114.722656 20 C 114.722656 14.476562 119.199219 10 124.722656 10 C 130.246094 10 134.722656 14.476562 134.722656 20 \"/>\n",
       "<path fill-rule=\"nonzero\" fill=\"rgb(100%, 0%, 0%)\" fill-opacity=\"1\" stroke-width=\"1\" stroke-linecap=\"butt\" stroke-linejoin=\"miter\" stroke=\"rgb(0%, 0%, 0%)\" stroke-opacity=\"1\" stroke-miterlimit=\"10\" d=\"M 174.722656 50.558594 C 174.722656 56.082031 170.246094 60.558594 164.722656 60.558594 C 159.199219 60.558594 154.722656 56.082031 154.722656 50.558594 C 154.722656 45.035156 159.199219 40.558594 164.722656 40.558594 C 170.246094 40.558594 174.722656 45.035156 174.722656 50.558594 \"/>\n",
       "</svg>\n"
      ],
      "text/plain": [
       "<igraph.drawing.cairo.plot.CairoPlot at 0x1240d46a0>"
      ]
     },
     "execution_count": 23,
     "metadata": {
      "image/svg+xml": {
       "isolated": true
      }
     },
     "output_type": "execute_result"
    }
   ],
   "source": [
    "ig.plot(g1,bbox=(200,200),layout='circle')"
   ]
  },
  {
   "cell_type": "code",
   "execution_count": null,
   "id": "e25ea471-32a5-49d3-9a8a-5a33d1d33699",
   "metadata": {},
   "outputs": [],
   "source": []
  }
 ],
 "metadata": {
  "kernelspec": {
   "display_name": "Python 3 (ipykernel)",
   "language": "python",
   "name": "python3"
  },
  "language_info": {
   "codemirror_mode": {
    "name": "ipython",
    "version": 3
   },
   "file_extension": ".py",
   "mimetype": "text/x-python",
   "name": "python",
   "nbconvert_exporter": "python",
   "pygments_lexer": "ipython3",
   "version": "3.9.6"
  }
 },
 "nbformat": 4,
 "nbformat_minor": 5
}
